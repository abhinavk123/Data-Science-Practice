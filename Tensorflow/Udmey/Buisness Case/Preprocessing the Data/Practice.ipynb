{
 "cells": [
  {
   "cell_type": "code",
   "execution_count": 1,
   "metadata": {},
   "outputs": [],
   "source": [
    "import numpy as np"
   ]
  },
  {
   "cell_type": "code",
   "execution_count": 2,
   "metadata": {},
   "outputs": [],
   "source": [
    "data = np.loadtxt('Audiobooks_data.csv',delimiter=',')"
   ]
  },
  {
   "cell_type": "code",
   "execution_count": 3,
   "metadata": {},
   "outputs": [],
   "source": [
    "input_dataset = data[:,1:-1]"
   ]
  },
  {
   "cell_type": "code",
   "execution_count": 4,
   "metadata": {},
   "outputs": [
    {
     "data": {
      "text/plain": [
       "(14084, 10)"
      ]
     },
     "execution_count": 4,
     "metadata": {},
     "output_type": "execute_result"
    }
   ],
   "source": [
    "input_dataset.shape"
   ]
  },
  {
   "cell_type": "code",
   "execution_count": 5,
   "metadata": {},
   "outputs": [],
   "source": [
    "target_data = data[:,-1]"
   ]
  },
  {
   "cell_type": "code",
   "execution_count": 6,
   "metadata": {},
   "outputs": [
    {
     "data": {
      "text/plain": [
       "(14084,)"
      ]
     },
     "execution_count": 6,
     "metadata": {},
     "output_type": "execute_result"
    }
   ],
   "source": [
    "target_data.shape"
   ]
  },
  {
   "cell_type": "code",
   "execution_count": 7,
   "metadata": {},
   "outputs": [],
   "source": [
    "shuffle_indices = np.arange(input_dataset.shape[0])"
   ]
  },
  {
   "cell_type": "code",
   "execution_count": 8,
   "metadata": {},
   "outputs": [],
   "source": [
    "np.random.shuffle(shuffle_indices)"
   ]
  },
  {
   "cell_type": "code",
   "execution_count": 9,
   "metadata": {},
   "outputs": [
    {
     "data": {
      "text/plain": [
       "array([ 9118, 10534,  7714, ...,  1509,    44,  2801])"
      ]
     },
     "execution_count": 9,
     "metadata": {},
     "output_type": "execute_result"
    }
   ],
   "source": [
    "shuffle_indices"
   ]
  },
  {
   "cell_type": "code",
   "execution_count": 10,
   "metadata": {},
   "outputs": [],
   "source": [
    "shuffled_input_data = input_dataset[shuffle_indices]"
   ]
  },
  {
   "cell_type": "code",
   "execution_count": 11,
   "metadata": {},
   "outputs": [],
   "source": [
    "shuffled_target_data = target_data[shuffle_indices]"
   ]
  },
  {
   "cell_type": "code",
   "execution_count": 12,
   "metadata": {},
   "outputs": [
    {
     "data": {
      "text/plain": [
       "array([0., 0., 0., ..., 1., 0., 0.])"
      ]
     },
     "execution_count": 12,
     "metadata": {},
     "output_type": "execute_result"
    }
   ],
   "source": [
    "shuffled_target_data"
   ]
  },
  {
   "cell_type": "code",
   "execution_count": 13,
   "metadata": {},
   "outputs": [],
   "source": [
    "no_of_yes_target = np.sum(shuffled_target_data)"
   ]
  },
  {
   "cell_type": "code",
   "execution_count": 14,
   "metadata": {},
   "outputs": [
    {
     "data": {
      "text/plain": [
       "2237.0"
      ]
     },
     "execution_count": 14,
     "metadata": {},
     "output_type": "execute_result"
    }
   ],
   "source": [
    "no_of_yes_target"
   ]
  },
  {
   "cell_type": "code",
   "execution_count": 15,
   "metadata": {},
   "outputs": [],
   "source": [
    "indices_to_remove = []\n",
    "zero_count = 0 \n",
    "for i in range(shuffled_target_data.shape[0]):\n",
    "    if shuffled_target_data[i] == 0:\n",
    "        zero_count += 1\n",
    "        if zero_count > no_of_yes_target:\n",
    "            indices_to_remove.append(i)\n",
    "        "
   ]
  },
  {
   "cell_type": "code",
   "execution_count": 16,
   "metadata": {},
   "outputs": [],
   "source": [
    "balanced_input_dataset = np.delete(shuffled_input_data,indices_to_remove,axis=0)"
   ]
  },
  {
   "cell_type": "code",
   "execution_count": 17,
   "metadata": {},
   "outputs": [],
   "source": [
    "balanced_target_dataset = np.delete(shuffled_target_data,indices_to_remove,axis=0)"
   ]
  },
  {
   "cell_type": "code",
   "execution_count": 18,
   "metadata": {},
   "outputs": [
    {
     "data": {
      "text/plain": [
       "((4474, 10), (4474,))"
      ]
     },
     "execution_count": 18,
     "metadata": {},
     "output_type": "execute_result"
    }
   ],
   "source": [
    "balanced_input_dataset.shape,balanced_target_dataset.shape"
   ]
  },
  {
   "cell_type": "code",
   "execution_count": 19,
   "metadata": {},
   "outputs": [],
   "source": [
    "import sklearn.preprocessing"
   ]
  },
  {
   "cell_type": "code",
   "execution_count": 20,
   "metadata": {},
   "outputs": [],
   "source": [
    "scaled_input_data = sklearn.preprocessing.scale(balanced_input_dataset)"
   ]
  },
  {
   "cell_type": "code",
   "execution_count": 21,
   "metadata": {},
   "outputs": [
    {
     "data": {
      "text/plain": [
       "array([[-0.74402511, -0.73816517, -0.37974765, ..., -0.37106515,\n",
       "        -0.18405308,  0.58786067],\n",
       "       [-0.74402511, -0.73816517, -0.37974765, ..., -0.37106515,\n",
       "        -0.18405308, -0.75543069],\n",
       "       [ 1.21088994,  0.3745125 , -0.37974765, ..., -0.37106515,\n",
       "        -0.18405308, -0.75543069],\n",
       "       ...,\n",
       "       [ 1.21088994,  0.3745125 ,  0.18466256, ..., -0.37106515,\n",
       "        -0.18405308, -0.75543069],\n",
       "       [-2.48172737, -1.72721198,  0.18466256, ..., -0.37106515,\n",
       "        -0.18405308, -0.75543069],\n",
       "       [ 1.21088994,  0.3745125 ,  0.63492239, ..., -0.37106515,\n",
       "        -0.18405308, -0.75543069]])"
      ]
     },
     "execution_count": 21,
     "metadata": {},
     "output_type": "execute_result"
    }
   ],
   "source": [
    "scaled_input_data"
   ]
  },
  {
   "cell_type": "code",
   "execution_count": 22,
   "metadata": {},
   "outputs": [],
   "source": [
    "shuffled_indices = np.arange(scaled_input_data.shape[0])\n",
    "np.random.shuffle(shuffled_indices)"
   ]
  },
  {
   "cell_type": "code",
   "execution_count": 23,
   "metadata": {},
   "outputs": [
    {
     "data": {
      "text/plain": [
       "array([2312, 2939, 2095, ...,  240, 4187, 3029])"
      ]
     },
     "execution_count": 23,
     "metadata": {},
     "output_type": "execute_result"
    }
   ],
   "source": [
    "shuffled_indices"
   ]
  },
  {
   "cell_type": "code",
   "execution_count": 24,
   "metadata": {},
   "outputs": [],
   "source": [
    "final_input_data = scaled_input_data[shuffled_indices]"
   ]
  },
  {
   "cell_type": "code",
   "execution_count": 25,
   "metadata": {},
   "outputs": [],
   "source": [
    "final_target = balanced_target_dataset[shuffled_indices]"
   ]
  },
  {
   "cell_type": "code",
   "execution_count": 26,
   "metadata": {},
   "outputs": [
    {
     "data": {
      "text/plain": [
       "4474"
      ]
     },
     "execution_count": 26,
     "metadata": {},
     "output_type": "execute_result"
    }
   ],
   "source": [
    "no_of_samples = final_input_data.shape[0]\n",
    "no_of_samples"
   ]
  },
  {
   "cell_type": "code",
   "execution_count": 27,
   "metadata": {},
   "outputs": [
    {
     "name": "stdout",
     "output_type": "stream",
     "text": [
      "448 3579 447\n"
     ]
    }
   ],
   "source": [
    "num_train_sample = int(0.8*no_of_samples)\n",
    "num_validation_sample = int(0.1*no_of_samples)\n",
    "num_test_sample = no_of_samples-num_train_sample-num_validation_sample\n",
    "print(num_test_sample,num_train_sample,num_validation_sample)"
   ]
  },
  {
   "cell_type": "code",
   "execution_count": 28,
   "metadata": {},
   "outputs": [],
   "source": [
    "train_input,train_output = final_input_data[:num_train_sample],final_target[:num_train_sample]\n",
    "validation_input,validation_output = final_input_data[num_train_sample:num_train_sample+num_validation_sample], \\\n",
    "final_target[num_train_sample:num_train_sample+num_validation_sample]\n",
    "\n",
    "test_input,test_output = final_input_data[num_train_sample+num_validation_sample:],final_target[num_train_sample+num_validation_sample:]"
   ]
  },
  {
   "cell_type": "code",
   "execution_count": 29,
   "metadata": {},
   "outputs": [],
   "source": [
    "train_samples_count = num_train_sample"
   ]
  },
  {
   "cell_type": "code",
   "execution_count": 30,
   "metadata": {},
   "outputs": [
    {
     "name": "stdout",
     "output_type": "stream",
     "text": [
      "1776.0 3579 0.49622799664710815\n",
      "236.0 447 0.5279642058165548\n",
      "225.0 448 0.5022321428571429\n"
     ]
    }
   ],
   "source": [
    "print(np.sum(train_output), train_samples_count, np.sum(train_output) / train_samples_count)\n",
    "print(np.sum(validation_output), num_validation_sample, np.sum(validation_output) / num_validation_sample)\n",
    "print(np.sum(test_output), num_test_sample, np.sum(test_output) / num_test_sample)"
   ]
  },
  {
   "cell_type": "code",
   "execution_count": 31,
   "metadata": {},
   "outputs": [],
   "source": [
    "np.savez('train_dataset',inputs = train_input,outputs = train_output)\n",
    "np.savez('validation_dataset',inputs = validation_input,outputs = validation_output)\n",
    "np.savez('test_dataset',inputs = test_input,outputs = test_output)"
   ]
  },
  {
   "cell_type": "code",
   "execution_count": 32,
   "metadata": {},
   "outputs": [],
   "source": [
    "train_data = np.load('train_dataset.npz')\n",
    "test_data = np.load('test_dataset.npz')\n",
    "validation_data = np.load('validation_dataset.npz')"
   ]
  },
  {
   "cell_type": "code",
   "execution_count": 33,
   "metadata": {},
   "outputs": [],
   "source": [
    "train_input,train_target = train_data['inputs'],train_data['outputs']\n",
    "test_input, test_target = test_data['inputs'],test_data['outputs']\n",
    "validation_input,validation_target = validation_data['inputs'],validation_data['outputs']"
   ]
  },
  {
   "cell_type": "code",
   "execution_count": 34,
   "metadata": {},
   "outputs": [],
   "source": [
    "import tensorflow as tf"
   ]
  },
  {
   "cell_type": "code",
   "execution_count": 35,
   "metadata": {},
   "outputs": [],
   "source": [
    "\n",
    "#del model"
   ]
  },
  {
   "cell_type": "code",
   "execution_count": 36,
   "metadata": {},
   "outputs": [],
   "source": [
    "early_stop = tf.keras.callbacks.EarlyStopping(patience=2,verbose=1)"
   ]
  },
  {
   "cell_type": "code",
   "execution_count": 37,
   "metadata": {},
   "outputs": [],
   "source": [
    "OUTPUT = 2\n",
    "INPUT = 10\n",
    "HIDDEN_LAYER_SIZE = 50\n",
    "\n",
    "\n",
    "model = tf.keras.Sequential([\n",
    "                tf.keras.layers.Dense(HIDDEN_LAYER_SIZE,activation='relu'),\n",
    "                tf.keras.layers.Dense(HIDDEN_LAYER_SIZE,activation='relu'),\n",
    "                tf.keras.layers.Dense(OUTPUT,activation='softmax')\n",
    "])"
   ]
  },
  {
   "cell_type": "code",
   "execution_count": 38,
   "metadata": {},
   "outputs": [],
   "source": [
    "model.compile(optimizer='adam',loss='SparseCategoricalCrossentropy',metrics=['accuracy'])"
   ]
  },
  {
   "cell_type": "code",
   "execution_count": 39,
   "metadata": {},
   "outputs": [],
   "source": [
    "EPOCH = 100\n",
    "BATCH = 100\n"
   ]
  },
  {
   "cell_type": "code",
   "execution_count": 40,
   "metadata": {
    "scrolled": true
   },
   "outputs": [
    {
     "name": "stdout",
     "output_type": "stream",
     "text": [
      "Epoch 1/100\n",
      "WARNING:tensorflow:AutoGraph could not transform <function Model.make_train_function.<locals>.train_function at 0x00000253667DA288> and will run it as-is.\n",
      "Please report this to the TensorFlow team. When filing the bug, set the verbosity to 10 (on Linux, `export AUTOGRAPH_VERBOSITY=10`) and attach the full output.\n",
      "Cause: 'arguments' object has no attribute 'posonlyargs'\n",
      "To silence this warning, decorate the function with @tf.autograph.experimental.do_not_convert\n",
      "WARNING: AutoGraph could not transform <function Model.make_train_function.<locals>.train_function at 0x00000253667DA288> and will run it as-is.\n",
      "Please report this to the TensorFlow team. When filing the bug, set the verbosity to 10 (on Linux, `export AUTOGRAPH_VERBOSITY=10`) and attach the full output.\n",
      "Cause: 'arguments' object has no attribute 'posonlyargs'\n",
      "To silence this warning, decorate the function with @tf.autograph.experimental.do_not_convert\n",
      "WARNING:tensorflow:AutoGraph could not transform <function Model.make_test_function.<locals>.test_function at 0x0000025366BC48B8> and will run it as-is.\n",
      "Please report this to the TensorFlow team. When filing the bug, set the verbosity to 10 (on Linux, `export AUTOGRAPH_VERBOSITY=10`) and attach the full output.\n",
      "Cause: 'arguments' object has no attribute 'posonlyargs'\n",
      "To silence this warning, decorate the function with @tf.autograph.experimental.do_not_convert\n",
      "WARNING: AutoGraph could not transform <function Model.make_test_function.<locals>.test_function at 0x0000025366BC48B8> and will run it as-is.\n",
      "Please report this to the TensorFlow team. When filing the bug, set the verbosity to 10 (on Linux, `export AUTOGRAPH_VERBOSITY=10`) and attach the full output.\n",
      "Cause: 'arguments' object has no attribute 'posonlyargs'\n",
      "To silence this warning, decorate the function with @tf.autograph.experimental.do_not_convert\n",
      "36/36 - 0s - loss: 0.6052 - accuracy: 0.6373 - val_loss: 0.5337 - val_accuracy: 0.7114\n",
      "Epoch 2/100\n",
      "36/36 - 0s - loss: 0.4849 - accuracy: 0.7617 - val_loss: 0.4668 - val_accuracy: 0.7338\n",
      "Epoch 3/100\n",
      "36/36 - 0s - loss: 0.4274 - accuracy: 0.7877 - val_loss: 0.4357 - val_accuracy: 0.7651\n",
      "Epoch 4/100\n",
      "36/36 - 0s - loss: 0.4000 - accuracy: 0.7999 - val_loss: 0.4194 - val_accuracy: 0.7517\n",
      "Epoch 5/100\n",
      "36/36 - 0s - loss: 0.3883 - accuracy: 0.7955 - val_loss: 0.4017 - val_accuracy: 0.7808\n",
      "Epoch 6/100\n",
      "36/36 - 0s - loss: 0.3789 - accuracy: 0.8050 - val_loss: 0.3929 - val_accuracy: 0.7696\n",
      "Epoch 7/100\n",
      "36/36 - 0s - loss: 0.3719 - accuracy: 0.8055 - val_loss: 0.3890 - val_accuracy: 0.7987\n",
      "Epoch 8/100\n",
      "36/36 - 0s - loss: 0.3677 - accuracy: 0.8086 - val_loss: 0.3913 - val_accuracy: 0.7830\n",
      "Epoch 9/100\n",
      "36/36 - 0s - loss: 0.3652 - accuracy: 0.8080 - val_loss: 0.3784 - val_accuracy: 0.8054\n",
      "Epoch 10/100\n",
      "36/36 - 0s - loss: 0.3608 - accuracy: 0.8103 - val_loss: 0.3807 - val_accuracy: 0.7763\n",
      "Epoch 11/100\n",
      "36/36 - 0s - loss: 0.3581 - accuracy: 0.8125 - val_loss: 0.3867 - val_accuracy: 0.7785\n",
      "Epoch 00011: early stopping\n"
     ]
    },
    {
     "data": {
      "text/plain": [
       "<tensorflow.python.keras.callbacks.History at 0x2536568e948>"
      ]
     },
     "execution_count": 40,
     "metadata": {},
     "output_type": "execute_result"
    }
   ],
   "source": [
    "model.fit(\n",
    "        train_input,train_target,\n",
    "        epochs=EPOCH,\n",
    "        batch_size=BATCH,\n",
    "        validation_data=(validation_input,validation_output),\n",
    "        verbose=2,\n",
    "        callbacks=early_stop\n",
    ")"
   ]
  },
  {
   "cell_type": "code",
   "execution_count": 41,
   "metadata": {},
   "outputs": [],
   "source": [
    "import matplotlib.pyplot as plt\n",
    "import seaborn as sns\n",
    "sns.set()"
   ]
  },
  {
   "cell_type": "code",
   "execution_count": 42,
   "metadata": {},
   "outputs": [
    {
     "data": {
      "text/plain": [
       "<matplotlib.legend.Legend at 0x2536722c348>"
      ]
     },
     "execution_count": 42,
     "metadata": {},
     "output_type": "execute_result"
    },
    {
     "data": {
      "image/png": "[encoded data removed]",
      "text/plain": [
       "<Figure size 1152x576 with 1 Axes>"
      ]
     },
     "metadata": {},
     "output_type": "display_data"
    }
   ],
   "source": [
    "plt.figure(figsize=(16,8))\n",
    "plt.plot(model.history.epoch,model.history.history['val_loss'],label='Validation_loss')\n",
    "plt.plot(model.history.epoch,model.history.history['loss'],label='Training_loss')\n",
    "plt.plot(model.history.epoch,model.history.history['accuracy'],label='Training_Accuracy')\n",
    "plt.plot(model.history.epoch,model.history.history['val_accuracy'],label='Validation_Accuracy')\n",
    "plt.xlabel('Epoch')\n",
    "plt.xticks(model.history.epoch)\n",
    "plt.legend()"
   ]
  },
  {
   "cell_type": "code",
   "execution_count": 43,
   "metadata": {},
   "outputs": [
    {
     "name": "stdout",
     "output_type": "stream",
     "text": [
      "14/14 [==============================] - 0s 2ms/step - loss: 0.3499 - accuracy: 0.8147\n"
     ]
    }
   ],
   "source": [
    "loss,accuracy = model.evaluate(test_input,test_target)"
   ]
  },
  {
   "cell_type": "code",
   "execution_count": null,
   "metadata": {},
   "outputs": [],
   "source": []
  }
 ],
 "metadata": {
  "kernelspec": {
   "display_name": "Python [conda env:tensorflowenv]",
   "language": "python",
   "name": "conda-env-tensorflowenv-py"
  },
  "language_info": {
   "codemirror_mode": {
    "name": "ipython",
    "version": 3
   },
   "file_extension": ".py",
   "mimetype": "text/x-python",
   "name": "python",
   "nbconvert_exporter": "python",
   "pygments_lexer": "ipython3",
   "version": "3.7.7"
  }
 },
 "nbformat": 4,
 "nbformat_minor": 2
}
