{
 "cells": [
  {
   "cell_type": "code",
   "execution_count": 1,
   "metadata": {},
   "outputs": [],
   "source": [
    "import pandas as pd\n",
    "import numpy as np"
   ]
  },
  {
   "cell_type": "code",
   "execution_count": 2,
   "metadata": {},
   "outputs": [],
   "source": [
    "import matplotlib.pyplot as plt\n",
    "import seaborn as sns\n",
    "import statsmodels.api as sm\n",
    "sns.set()"
   ]
  },
  {
   "cell_type": "code",
   "execution_count": 3,
   "metadata": {},
   "outputs": [],
   "source": [
    "from sklearn.linear_model import LinearRegression\n",
    "from statsmodels.regression.linear_model import OLS"
   ]
  },
  {
   "cell_type": "code",
   "execution_count": 4,
   "metadata": {},
   "outputs": [],
   "source": [
    "train = pd.read_csv('Fina_Train.csv')"
   ]
  },
  {
   "cell_type": "code",
   "execution_count": 5,
   "metadata": {},
   "outputs": [],
   "source": [
    "test = pd.read_csv('Fina_Test.csv')"
   ]
  },
  {
   "cell_type": "code",
   "execution_count": 6,
   "metadata": {},
   "outputs": [],
   "source": [
    "y = train['TARGET(PRICE_IN_LACS)']\n",
    "x = train.drop(['TARGET(PRICE_IN_LACS)','ADDRESS','CITY'],axis=1)\n"
   ]
  },
  {
   "cell_type": "code",
   "execution_count": 7,
   "metadata": {},
   "outputs": [
    {
     "data": {
      "text/plain": [
       "POSTED_BY             0\n",
       "UNDER_CONSTRUCTION    0\n",
       "RERA                  0\n",
       "BHK_NO.               0\n",
       "BHK_OR_RK             0\n",
       "SQUARE_FT             0\n",
       "READY_TO_MOVE         0\n",
       "RESALE                0\n",
       "ADDRESS               0\n",
       "LONGITUDE             0\n",
       "LATITUDE              0\n",
       "CITY                  0\n",
       "CITY_2                0\n",
       "ZONE                  0\n",
       "dtype: int64"
      ]
     },
     "execution_count": 7,
     "metadata": {},
     "output_type": "execute_result"
    }
   ],
   "source": [
    "test.isna().sum()"
   ]
  },
  {
   "cell_type": "code",
   "execution_count": 8,
   "metadata": {},
   "outputs": [],
   "source": [
    "from sklearn.preprocessing import LabelEncoder,OneHotEncoder"
   ]
  },
  {
   "cell_type": "code",
   "execution_count": 9,
   "metadata": {},
   "outputs": [],
   "source": [
    "total_col = ['POSTED_BY', 'UNDER_CONSTRUCTION', 'RERA', 'BHK_NO.', 'BHK_OR_RK',\n",
    "       'SQUARE_FT', 'READY_TO_MOVE', 'RESALE', 'ADDRESS', 'LONGITUDE',\n",
    "       'LATITUDE', 'CITY', 'CITY_2', 'ZONE']"
   ]
  },
  {
   "cell_type": "code",
   "execution_count": 10,
   "metadata": {},
   "outputs": [],
   "source": [
    "cat_col = ['POSTED_BY','CITY_2','ZONE']"
   ]
  },
  {
   "cell_type": "code",
   "execution_count": 11,
   "metadata": {},
   "outputs": [],
   "source": [
    "encoder = OneHotEncoder()\n",
    "encoded_cat = encoder.fit_transform(x[cat_col])"
   ]
  },
  {
   "cell_type": "code",
   "execution_count": 12,
   "metadata": {},
   "outputs": [],
   "source": [
    "col_name = encoder.get_feature_names(cat_col)\n"
   ]
  },
  {
   "cell_type": "code",
   "execution_count": 13,
   "metadata": {},
   "outputs": [],
   "source": [
    "temp =pd.DataFrame(data=encoded_cat.toarray(),columns=col_name)"
   ]
  },
  {
   "cell_type": "code",
   "execution_count": 14,
   "metadata": {},
   "outputs": [],
   "source": [
    "bhk_or_rak = {'BHK':1,\n",
    "             'RK':0}"
   ]
  },
  {
   "cell_type": "code",
   "execution_count": 15,
   "metadata": {},
   "outputs": [],
   "source": [
    "x['BHK_OR_RK'] = x['BHK_OR_RK'].replace(bhk_or_rak)"
   ]
  },
  {
   "cell_type": "code",
   "execution_count": 16,
   "metadata": {},
   "outputs": [],
   "source": [
    "final_x = x.merge(temp,on=x.index).copy()"
   ]
  },
  {
   "cell_type": "code",
   "execution_count": 17,
   "metadata": {},
   "outputs": [],
   "source": [
    "final_x = final_x.drop(['key_0','POSTED_BY','CITY_2','ZONE','UNDER_CONSTRUCTION','ZONE_0', 'ZONE_1', 'ZONE_2', 'ZONE_3',\n",
    "       'ZONE_4', 'ZONE_5', 'ZONE_6', 'ZONE_7', 'ZONE_8','POSTED_BY_Builder','CITY_2_Agra'],axis=1)"
   ]
  },
  {
   "cell_type": "code",
   "execution_count": 18,
   "metadata": {},
   "outputs": [
    {
     "data": {
      "text/plain": [
       "Index(['RERA', 'BHK_NO.', 'BHK_OR_RK', 'SQUARE_FT', 'READY_TO_MOVE', 'RESALE',\n",
       "       'LONGITUDE', 'LATITUDE', 'POSTED_BY_Dealer', 'POSTED_BY_Owner',\n",
       "       ...\n",
       "       'CITY_2_Udaipur', 'CITY_2_Udupi', 'CITY_2_Vadodara', 'CITY_2_Valsad',\n",
       "       'CITY_2_Vapi', 'CITY_2_Varanasi', 'CITY_2_Vijayawada',\n",
       "       'CITY_2_Visakhapatnam', 'CITY_2_Vizianagaram', 'CITY_2_Wardha'],\n",
       "      dtype='object', length=136)"
      ]
     },
     "execution_count": 18,
     "metadata": {},
     "output_type": "execute_result"
    }
   ],
   "source": [
    "final_x.columns"
   ]
  },
  {
   "cell_type": "markdown",
   "metadata": {},
   "source": [
    "## Split"
   ]
  },
  {
   "cell_type": "code",
   "execution_count": 19,
   "metadata": {},
   "outputs": [],
   "source": [
    "from sklearn.model_selection import train_test_split\n",
    "from sklearn.preprocessing import StandardScaler"
   ]
  },
  {
   "cell_type": "code",
   "execution_count": 20,
   "metadata": {},
   "outputs": [
    {
     "data": {
      "text/plain": [
       "'scaler = StandardScaler().fit(final_x)\\nfinal_x = scaler.transform(final_x)'"
      ]
     },
     "execution_count": 20,
     "metadata": {},
     "output_type": "execute_result"
    }
   ],
   "source": [
    "'''scaler = StandardScaler().fit(final_x)\n",
    "final_x = scaler.transform(final_x)'''"
   ]
  },
  {
   "cell_type": "code",
   "execution_count": 21,
   "metadata": {},
   "outputs": [],
   "source": [
    "x_train,x_test,y_train,y_test = train_test_split(final_x,y,test_size=0.2,random_state=37)"
   ]
  },
  {
   "cell_type": "code",
   "execution_count": 22,
   "metadata": {},
   "outputs": [
    {
     "data": {
      "text/plain": [
       "((21390, 136), (5348, 136))"
      ]
     },
     "execution_count": 22,
     "metadata": {},
     "output_type": "execute_result"
    }
   ],
   "source": [
    "x_train.shape,x_test.shape"
   ]
  },
  {
   "cell_type": "code",
   "execution_count": 23,
   "metadata": {},
   "outputs": [],
   "source": [
    "from sklearn.metrics import mean_squared_log_error"
   ]
  },
  {
   "cell_type": "code",
   "execution_count": 24,
   "metadata": {},
   "outputs": [],
   "source": [
    "algo=[]\n",
    "train_accuracy=[]\n",
    "test_accuracy=[]"
   ]
  },
  {
   "cell_type": "markdown",
   "metadata": {},
   "source": [
    "## using OLS"
   ]
  },
  {
   "cell_type": "code",
   "execution_count": 25,
   "metadata": {},
   "outputs": [
    {
     "name": "stdout",
     "output_type": "stream",
     "text": [
      "                                  OLS Regression Results                                  \n",
      "==========================================================================================\n",
      "Dep. Variable:     TARGET(PRICE_IN_LACS)   R-squared (uncentered):                   0.992\n",
      "Model:                               OLS   Adj. R-squared (uncentered):              0.992\n",
      "Method:                    Least Squares   F-statistic:                          2.014e+04\n",
      "Date:                   Sat, 17 Oct 2020   Prob (F-statistic):                        0.00\n",
      "Time:                           15:21:57   Log-Likelihood:                         -9198.3\n",
      "No. Observations:                  21390   AIC:                                  1.867e+04\n",
      "Df Residuals:                      21254   BIC:                                  1.975e+04\n",
      "Df Model:                            136                                                  \n",
      "Covariance Type:               nonrobust                                                  \n",
      "========================================================================================\n",
      "                           coef    std err          t      P>|t|      [0.025      0.975]\n",
      "----------------------------------------------------------------------------------------\n",
      "RERA                     0.0157      0.006      2.457      0.014       0.003       0.028\n",
      "BHK_NO.                  0.1346      0.006     21.623      0.000       0.122       0.147\n",
      "BHK_OR_RK                0.0828      0.139      0.597      0.550      -0.189       0.354\n",
      "SQUARE_FT                1.0263      0.012     88.075      0.000       1.003       1.049\n",
      "READY_TO_MOVE           -0.0258      0.008     -3.341      0.001      -0.041      -0.011\n",
      "RESALE                  -0.1155      0.014     -8.361      0.000      -0.143      -0.088\n",
      "LONGITUDE               -0.6631      0.091     -7.264      0.000      -0.842      -0.484\n",
      "LATITUDE                -0.8178      0.045    -18.086      0.000      -0.906      -0.729\n",
      "POSTED_BY_Dealer         0.3815      0.022     17.232      0.000       0.338       0.425\n",
      "POSTED_BY_Owner          0.3362      0.023     14.820      0.000       0.292       0.381\n",
      "CITY_2_Ahmednagar        0.3337      0.093      3.599      0.000       0.152       0.515\n",
      "CITY_2_Ajmer            -0.0119      0.104     -0.114      0.909      -0.216       0.192\n",
      "CITY_2_Akola             0.2875      0.160      1.801      0.072      -0.025       0.600\n",
      "CITY_2_Aligarh          -0.1038      0.110     -0.942      0.346      -0.320       0.112\n",
      "CITY_2_Allahabad         0.4707      0.075      6.253      0.000       0.323       0.618\n",
      "CITY_2_Alwar            -0.3254      0.173     -1.877      0.060      -0.665       0.014\n",
      "CITY_2_Amravati          0.2546      0.089      2.875      0.004       0.081       0.428\n",
      "CITY_2_Amritsar          0.1377      0.159      0.864      0.388      -0.175       0.450\n",
      "CITY_2_Anand            -0.3855      0.079     -4.872      0.000      -0.541      -0.230\n",
      "CITY_2_Asansol          -0.1358      0.088     -1.544      0.122      -0.308       0.037\n",
      "CITY_2_Aurangabad        0.2844      0.069      4.133      0.000       0.150       0.419\n",
      "CITY_2_Bahadurgarh       0.0108      0.075      0.145      0.885      -0.136       0.157\n",
      "CITY_2_Bangalore         0.5161      0.053      9.781      0.000       0.413       0.620\n",
      "CITY_2_Bardhaman         0.3069      0.160      1.916      0.055      -0.007       0.621\n",
      "CITY_2_Bareilly          0.2872      0.160      1.800      0.072      -0.026       0.600\n",
      "CITY_2_Belgaum           0.2042      0.111      1.836      0.066      -0.014       0.422\n",
      "CITY_2_Berhampur         0.2336      0.193      1.210      0.226      -0.145       0.612\n",
      "CITY_2_Bharuch          -0.2460      0.084     -2.945      0.003      -0.410      -0.082\n",
      "CITY_2_Bhilai           -0.4156      0.089     -4.688      0.000      -0.589      -0.242\n",
      "CITY_2_Bhiwadi          -0.1718      0.058     -2.957      0.003      -0.286      -0.058\n",
      "CITY_2_Bhopal           -0.0818      0.055     -1.474      0.140      -0.191       0.027\n",
      "CITY_2_Bhubaneswar       0.3304      0.057      5.790      0.000       0.219       0.442\n",
      "CITY_2_Bilaspur          0.0289      0.103      0.282      0.778      -0.172       0.230\n",
      "CITY_2_Chandigarh        0.1500      0.050      3.004      0.003       0.052       0.248\n",
      "CITY_2_Chandrapur       -0.1410      0.127     -1.106      0.269      -0.391       0.109\n",
      "CITY_2_Chennai           0.4937      0.054      9.083      0.000       0.387       0.600\n",
      "CITY_2_Coimbatore        0.2705      0.065      4.183      0.000       0.144       0.397\n",
      "CITY_2_Cuttack           0.2674      0.160      1.669      0.095      -0.047       0.581\n",
      "CITY_2_Dehradun          0.3619      0.060      5.995      0.000       0.244       0.480\n",
      "CITY_2_Dhanbad          -0.1165      0.097     -1.206      0.228      -0.306       0.073\n",
      "CITY_2_Dharuhera        -0.2140      0.071     -2.994      0.003      -0.354      -0.074\n",
      "CITY_2_Durg             -0.1651      0.149     -1.108      0.268      -0.457       0.127\n",
      "CITY_2_Durgapur         -0.1602      0.074     -2.161      0.031      -0.305      -0.015\n",
      "CITY_2_Eluru             0.0437      0.160      0.273      0.785      -0.270       0.357\n",
      "CITY_2_Ernakulam         0.1929      0.082      2.348      0.019       0.032       0.354\n",
      "CITY_2_Faridabad         0.1502      0.050      3.013      0.003       0.053       0.248\n",
      "CITY_2_Gandhinagar       0.1305      0.063      2.072      0.038       0.007       0.254\n",
      "CITY_2_Ghaziabad         0.3300      0.049      6.799      0.000       0.235       0.425\n",
      "CITY_2_Goa               0.5631      0.061      9.167      0.000       0.443       0.683\n",
      "CITY_2_Guntur            0.1512      0.088      1.727      0.084      -0.020       0.323\n",
      "CITY_2_Gurgaon           0.7309      0.052     14.075      0.000       0.629       0.833\n",
      "CITY_2_Gwalior           0.1803      0.074      2.443      0.015       0.036       0.325\n",
      "CITY_2_Haridwar          0.1965      0.086      2.290      0.022       0.028       0.365\n",
      "CITY_2_Hazaribagh        0.0590      0.149      0.396      0.692      -0.233       0.351\n",
      "CITY_2_Hubli            -0.0143      0.097     -0.147      0.883      -0.204       0.176\n",
      "CITY_2_Indore           -0.0136      0.053     -0.254      0.799      -0.118       0.091\n",
      "CITY_2_Jabalpur          0.1650      0.087      1.892      0.058      -0.006       0.336\n",
      "CITY_2_Jaipur            0.0746      0.049      1.532      0.126      -0.021       0.170\n",
      "CITY_2_Jalandhar        -0.0668      0.088     -0.758      0.448      -0.239       0.106\n",
      "CITY_2_Jalgaon           0.5806      0.127      4.567      0.000       0.331       0.830\n",
      "CITY_2_Jamshedpur        0.1374      0.066      2.085      0.037       0.008       0.267\n",
      "CITY_2_Jhansi            0.1424      0.159      0.893      0.372      -0.170       0.455\n",
      "CITY_2_Jodhpur           0.2105      0.107      1.969      0.049       0.001       0.420\n",
      "CITY_2_Kakinada          0.1562      0.134      1.162      0.245      -0.107       0.420\n",
      "CITY_2_Kanchipuram       0.2155      0.135      1.592      0.111      -0.050       0.481\n",
      "CITY_2_Kannur            0.1238      0.135      0.915      0.360      -0.142       0.389\n",
      "CITY_2_Kanpur            0.4600      0.066      6.981      0.000       0.331       0.589\n",
      "CITY_2_Karad            -0.0478      0.118     -0.404      0.686      -0.279       0.184\n",
      "CITY_2_Karjat            0.2182      0.111      1.974      0.048       0.001       0.435\n",
      "CITY_2_Karnal           -0.0723      0.140     -0.516      0.606      -0.347       0.202\n",
      "CITY_2_Kochi             0.2446      0.065      3.773      0.000       0.118       0.372\n",
      "CITY_2_Kolhapur          0.4066      0.086      4.748      0.000       0.239       0.574\n",
      "CITY_2_Kolkata           0.5144      0.051     10.153      0.000       0.415       0.614\n",
      "CITY_2_Kollam            0.2427      0.176      1.382      0.167      -0.102       0.587\n",
      "CITY_2_Kota              0.1357      0.080      1.695      0.090      -0.021       0.293\n",
      "CITY_2_Kottayam          0.1811      0.119      1.523      0.128      -0.052       0.414\n",
      "CITY_2_Lalitpur          1.3617      0.048     28.444      0.000       1.268       1.456\n",
      "CITY_2_Latur            -0.0190      0.160     -0.119      0.905      -0.332       0.294\n",
      "CITY_2_Lucknow           0.3212      0.053      6.010      0.000       0.216       0.426\n",
      "CITY_2_Ludhiana          0.3002      0.086      3.503      0.000       0.132       0.468\n",
      "CITY_2_Madurai           0.2587      0.094      2.739      0.006       0.074       0.444\n",
      "CITY_2_Maharashtra       1.3617      0.049     27.957      0.000       1.266       1.457\n",
      "CITY_2_Mangalore         0.1302      0.064      2.022      0.043       0.004       0.256\n",
      "CITY_2_Margao            0.3150      0.106      2.984      0.003       0.108       0.522\n",
      "CITY_2_Mathura          -0.1149      0.133     -0.864      0.387      -0.375       0.146\n",
      "CITY_2_Meerut            0.0018      0.079      0.022      0.982      -0.152       0.156\n",
      "CITY_2_Mohali            0.1682      0.050      3.339      0.001       0.069       0.267\n",
      "CITY_2_Moradabad         0.1699      0.192      0.883      0.377      -0.207       0.547\n",
      "CITY_2_Mumbai            1.3565      0.048     28.081      0.000       1.262       1.451\n",
      "CITY_2_Mysore            0.3815      0.083      4.585      0.000       0.218       0.545\n",
      "CITY_2_Nagpur            0.2853      0.053      5.371      0.000       0.181       0.389\n",
      "CITY_2_Nainital          0.3867      0.122      3.169      0.002       0.148       0.626\n",
      "CITY_2_Navsari          -0.2558      0.122     -2.098      0.036      -0.495      -0.017\n",
      "CITY_2_Neemrana          0.1234      0.092      1.346      0.178      -0.056       0.303\n",
      "CITY_2_Nellore          -0.1377      0.098     -1.403      0.161      -0.330       0.055\n",
      "CITY_2_Noida             0.5011      0.048     10.448      0.000       0.407       0.595\n",
      "CITY_2_Ongole           -0.1282      0.193     -0.663      0.507      -0.507       0.251\n",
      "CITY_2_Palakkad         -0.0570      0.100     -0.569      0.570      -0.254       0.140\n",
      "CITY_2_Palghar           0.2161      0.064      3.364      0.001       0.090       0.342\n",
      "CITY_2_Palwal           -0.2748      0.159     -1.724      0.085      -0.587       0.038\n",
      "CITY_2_Panaji            0.8418      0.091      9.281      0.000       0.664       1.020\n",
      "CITY_2_Panchkula         0.2983      0.066      4.489      0.000       0.168       0.429\n",
      "CITY_2_Patna             0.4357      0.068      6.422      0.000       0.303       0.569\n",
      "CITY_2_Pondicherry       0.3300      0.114      2.901      0.004       0.107       0.553\n",
      "CITY_2_Pune              0.6991      0.049     14.407      0.000       0.604       0.794\n",
      "CITY_2_Puri              0.5397      0.160      3.368      0.001       0.226       0.854\n",
      "CITY_2_Raigad            0.3577      0.070      5.140      0.000       0.221       0.494\n",
      "CITY_2_Raipur            0.0011      0.067      0.016      0.987      -0.130       0.132\n",
      "CITY_2_Ranchi            0.2826      0.063      4.521      0.000       0.160       0.405\n",
      "CITY_2_Ratnagiri         0.1418      0.084      1.681      0.093      -0.024       0.307\n",
      "CITY_2_Rewari           -0.1897      0.192     -0.986      0.324      -0.567       0.187\n",
      "CITY_2_Rohtak           -0.1339      0.173     -0.772      0.440      -0.474       0.206\n",
      "CITY_2_Rudrapur         -0.1515      0.118     -1.287      0.198      -0.382       0.079\n",
      "CITY_2_Secunderabad      0.2391      0.064      3.755      0.000       0.114       0.364\n",
      "CITY_2_Shimla            0.6913      0.100      6.933      0.000       0.496       0.887\n",
      "CITY_2_Siliguri          0.0650      0.069      0.937      0.349      -0.071       0.201\n",
      "CITY_2_Sindhudurg        0.1599      0.111      1.440      0.150      -0.058       0.378\n",
      "CITY_2_Solan             0.2119      0.122      1.738      0.082      -0.027       0.451\n",
      "CITY_2_Solapur           0.1667      0.103      1.625      0.104      -0.034       0.368\n",
      "CITY_2_Sonipat          -0.0402      0.062     -0.650      0.516      -0.162       0.081\n",
      "CITY_2_Surat             0.0588      0.051      1.145      0.252      -0.042       0.160\n",
      "CITY_2_Tenali           -0.0088      0.150     -0.059      0.953      -0.302       0.285\n",
      "CITY_2_Thrissur          0.1013      0.079      1.282      0.200      -0.054       0.256\n",
      "CITY_2_Tirunelveli       0.0114      0.164      0.070      0.944      -0.310       0.333\n",
      "CITY_2_Tirupati          0.0388      0.124      0.312      0.755      -0.204       0.282\n",
      "CITY_2_Town              0.0729      0.055      1.320      0.187      -0.035       0.181\n",
      "CITY_2_Udaipur           0.0529      0.087      0.610      0.542      -0.117       0.223\n",
      "CITY_2_Udupi             0.0051      0.088      0.058      0.954      -0.167       0.177\n",
      "CITY_2_Vadodara         -0.0746      0.050     -1.484      0.138      -0.173       0.024\n",
      "CITY_2_Valsad           -0.2534      0.086     -2.956      0.003      -0.421      -0.085\n",
      "CITY_2_Vapi             -0.0893      0.088     -1.012      0.312      -0.262       0.084\n",
      "CITY_2_Varanasi          0.5047      0.078      6.490      0.000       0.352       0.657\n",
      "CITY_2_Vijayawada        0.1709      0.067      2.537      0.011       0.039       0.303\n",
      "CITY_2_Visakhapatnam     0.2225      0.059      3.750      0.000       0.106       0.339\n",
      "CITY_2_Vizianagaram     -0.1411      0.115     -1.229      0.219      -0.366       0.084\n",
      "CITY_2_Wardha           -0.2239      0.133     -1.680      0.093      -0.485       0.037\n",
      "==============================================================================\n",
      "Omnibus:                     1092.623   Durbin-Watson:                   1.989\n",
      "Prob(Omnibus):                  0.000   Jarque-Bera (JB):             4092.511\n",
      "Skew:                           0.086   Prob(JB):                         0.00\n",
      "Kurtosis:                       5.136   Cond. No.                     1.90e+03\n",
      "==============================================================================\n",
      "\n",
      "Warnings:\n",
      "[1] Standard Errors assume that the covariance matrix of the errors is correctly specified.\n",
      "[2] The condition number is large, 1.9e+03. This might indicate that there are\n",
      "strong multicollinearity or other numerical problems.\n",
      "Train 13.379895145597912\n",
      "Test 13.4247007073103\n"
     ]
    }
   ],
   "source": [
    "reg = OLS(y_train,x_train)\n",
    "reg = reg.fit()\n",
    "print(reg.summary())\n",
    "train_acc = 100-mean_squared_log_error(np.exp(y_train),np.exp(reg.predict(x_train)))*100\n",
    "test_acc = 100-mean_squared_log_error(np.exp(y_test),np.exp(reg.predict(x_test)))*100\n",
    "#algo.append('OLS')\n",
    "#train_accuracy.append(train_acc)\n",
    "#test_accuracy.append(test_acc)\n",
    "print('Train',train_acc)\n",
    "print('Test',test_acc)\n"
   ]
  },
  {
   "cell_type": "markdown",
   "metadata": {},
   "source": [
    "## using  sk-learn Linear Regression"
   ]
  },
  {
   "cell_type": "code",
   "execution_count": 26,
   "metadata": {},
   "outputs": [
    {
     "name": "stdout",
     "output_type": "stream",
     "text": [
      "Train 13.368698719027178\n",
      "Test 13.415593340294041\n"
     ]
    }
   ],
   "source": [
    "reg = LinearRegression(normalize=False)\n",
    "score = reg.fit(x_train,y_train)\n",
    "pred = score.predict(x_train)\n",
    "train_acc = 100-mean_squared_log_error(np.exp(y_train),np.exp(pred))*100\n",
    "test_acc = 100-mean_squared_log_error(np.exp(y_test),np.exp(score.predict(x_test)))*100\n",
    "algo.append('Linear Regression')\n",
    "train_accuracy.append(train_acc)\n",
    "test_accuracy.append(test_acc)\n",
    "print('Train',train_acc)\n",
    "print('Test',test_acc)\n"
   ]
  },
  {
   "cell_type": "markdown",
   "metadata": {},
   "source": [
    "##  Poly Regression"
   ]
  },
  {
   "cell_type": "code",
   "execution_count": 27,
   "metadata": {},
   "outputs": [],
   "source": [
    "from sklearn.preprocessing import PolynomialFeatures"
   ]
  },
  {
   "cell_type": "code",
   "execution_count": 28,
   "metadata": {},
   "outputs": [],
   "source": [
    "from sklearn.decomposition import PCA"
   ]
  },
  {
   "cell_type": "code",
   "execution_count": 43,
   "metadata": {},
   "outputs": [
    {
     "data": {
      "text/plain": [
       "81"
      ]
     },
     "execution_count": 43,
     "metadata": {},
     "output_type": "execute_result"
    }
   ],
   "source": [
    "pca = PCA(0.99)\n",
    "pca.fit(x_train,y=y_train)\n",
    "pca.n_components_"
   ]
  },
  {
   "cell_type": "code",
   "execution_count": 44,
   "metadata": {},
   "outputs": [],
   "source": [
    "temp =pca.transform(x_train)\n",
    "temp2 = pca.transform(x_test)"
   ]
  },
  {
   "cell_type": "code",
   "execution_count": 45,
   "metadata": {},
   "outputs": [
    {
     "data": {
      "text/plain": [
       "(21390, 3403)"
      ]
     },
     "execution_count": 45,
     "metadata": {},
     "output_type": "execute_result"
    }
   ],
   "source": [
    "x_poly_gen = PolynomialFeatures(degree=2)\n",
    "x_poly_train = x_poly_gen.fit_transform(temp)\n",
    "x_poly_train.shape"
   ]
  },
  {
   "cell_type": "markdown",
   "metadata": {},
   "source": [
    "#### sklearn"
   ]
  },
  {
   "cell_type": "code",
   "execution_count": 32,
   "metadata": {},
   "outputs": [
    {
     "name": "stdout",
     "output_type": "stream",
     "text": [
      "Train 11.780416683759324\n",
      "Test 11.65288601520986\n"
     ]
    }
   ],
   "source": [
    "reg = LinearRegression(normalize=False)\n",
    "score = reg.fit(x_poly_train,y_train)\n",
    "pred = score.predict(x_poly_train)\n",
    "train_acc = 100-mean_squared_log_error(np.exp(y_train),np.exp(pred))*100\n",
    "test_acc = 100-mean_squared_log_error(np.exp(y_test),np.exp(score.predict(x_poly_gen.transform(temp2))))*100\n",
    "algo.append('Poly Regression')\n",
    "train_accuracy.append(train_acc)\n",
    "test_accuracy.append(test_acc)\n",
    "print('Train',train_acc)\n",
    "print('Test',test_acc)\n"
   ]
  },
  {
   "cell_type": "markdown",
   "metadata": {},
   "source": [
    "#### OLS"
   ]
  },
  {
   "cell_type": "code",
   "execution_count": 46,
   "metadata": {
    "scrolled": true
   },
   "outputs": [
    {
     "name": "stdout",
     "output_type": "stream",
     "text": [
      "                                  OLS Regression Results                                  \n",
      "==========================================================================================\n",
      "Dep. Variable:     TARGET(PRICE_IN_LACS)   R-squared (uncentered):                   0.023\n",
      "Model:                               OLS   Adj. R-squared (uncentered):              0.019\n",
      "Method:                    Least Squares   F-statistic:                              6.101\n",
      "Date:                   Sat, 17 Oct 2020   Prob (F-statistic):                    1.09e-59\n",
      "Time:                           15:49:14   Log-Likelihood:                         -60999.\n",
      "No. Observations:                  21390   AIC:                                  1.222e+05\n",
      "Df Residuals:                      21309   BIC:                                  1.228e+05\n",
      "Df Model:                             81                                                  \n",
      "Covariance Type:               nonrobust                                                  \n",
      "==============================================================================\n",
      "                 coef    std err          t      P>|t|      [0.025      0.975]\n",
      "------------------------------------------------------------------------------\n",
      "x1             0.4758      0.034     13.960      0.000       0.409       0.543\n",
      "x2            -0.2849      0.040     -7.068      0.000      -0.364      -0.206\n",
      "x3            -0.0896      0.060     -1.489      0.137      -0.208       0.028\n",
      "x4             0.2160      0.078      2.761      0.006       0.063       0.369\n",
      "x5            -0.0744      0.084     -0.883      0.377      -0.240       0.091\n",
      "x6             0.3643      0.095      3.817      0.000       0.177       0.551\n",
      "x7            -0.1200      0.108     -1.108      0.268      -0.332       0.092\n",
      "x8            -0.1909      0.115     -1.656      0.098      -0.417       0.035\n",
      "x9            -0.3986      0.116     -3.445      0.001      -0.625      -0.172\n",
      "x10            0.3150      0.128      2.467      0.014       0.065       0.565\n",
      "x11           -0.5184      0.128     -4.041      0.000      -0.770      -0.267\n",
      "x12           -0.5474      0.136     -4.030      0.000      -0.814      -0.281\n",
      "x13           -0.4938      0.141     -3.507      0.000      -0.770      -0.218\n",
      "x14           -0.6974      0.147     -4.739      0.000      -0.986      -0.409\n",
      "x15           -1.0732      0.155     -6.908      0.000      -1.378      -0.769\n",
      "x16           -1.1889      0.175     -6.797      0.000      -1.532      -0.846\n",
      "x17           -0.1661      0.190     -0.872      0.383      -0.539       0.207\n",
      "x18           -0.5217      0.202     -2.579      0.010      -0.918      -0.125\n",
      "x19           -0.4045      0.213     -1.895      0.058      -0.823       0.014\n",
      "x20           -0.4043      0.230     -1.759      0.079      -0.855       0.046\n",
      "x21           -0.2538      0.242     -1.047      0.295      -0.729       0.221\n",
      "x22           -0.4869      0.259     -1.883      0.060      -0.994       0.020\n",
      "x23           -0.5236      0.270     -1.936      0.053      -1.054       0.006\n",
      "x24           -0.3808      0.283     -1.344      0.179      -0.936       0.175\n",
      "x25            0.2741      0.296      0.925      0.355      -0.307       0.855\n",
      "x26           -0.1268      0.313     -0.406      0.685      -0.740       0.486\n",
      "x27           -0.1093      0.321     -0.341      0.733      -0.738       0.519\n",
      "x28           -0.5026      0.328     -1.531      0.126      -1.146       0.141\n",
      "x29           -0.3531      0.353     -1.000      0.317      -1.045       0.339\n",
      "x30           -0.3384      0.363     -0.933      0.351      -1.050       0.373\n",
      "x31            0.2130      0.374      0.570      0.569      -0.519       0.945\n",
      "x32            0.4845      0.377      1.284      0.199      -0.255       1.224\n",
      "x33           -0.1459      0.401     -0.364      0.716      -0.932       0.640\n",
      "x34            0.3457      0.414      0.836      0.403      -0.465       1.157\n",
      "x35           -0.3033      0.426     -0.713      0.476      -1.137       0.531\n",
      "x36           -0.2537      0.435     -0.583      0.560      -1.107       0.600\n",
      "x37           -0.3462      0.448     -0.773      0.439      -1.224       0.531\n",
      "x38            0.0760      0.456      0.167      0.868      -0.818       0.970\n",
      "x39           -0.1229      0.470     -0.261      0.794      -1.044       0.798\n",
      "x40            0.1639      0.484      0.339      0.735      -0.784       1.112\n",
      "x41            0.1755      0.491      0.357      0.721      -0.788       1.139\n",
      "x42           -0.0675      0.504     -0.134      0.893      -1.055       0.920\n",
      "x43           -0.0833      0.508     -0.164      0.870      -1.079       0.913\n",
      "x44            0.2678      0.521      0.514      0.608      -0.754       1.290\n",
      "x45           -0.1957      0.527     -0.371      0.710      -1.229       0.838\n",
      "x46            0.0461      0.534      0.086      0.931      -1.000       1.093\n",
      "x47           -0.2074      0.549     -0.378      0.705      -1.283       0.868\n",
      "x48           -0.2956      0.551     -0.536      0.592      -1.376       0.785\n",
      "x49            0.0449      0.565      0.079      0.937      -1.063       1.153\n",
      "x50            0.3848      0.582      0.661      0.509      -0.756       1.526\n",
      "x51           -0.4943      0.596     -0.830      0.407      -1.662       0.673\n",
      "x52           -0.4446      0.612     -0.726      0.468      -1.645       0.756\n",
      "x53           -0.0826      0.631     -0.131      0.896      -1.320       1.154\n",
      "x54            0.1233      0.646      0.191      0.849      -1.143       1.390\n",
      "x55            0.0190      0.647      0.029      0.977      -1.250       1.288\n",
      "x56            0.3266      0.655      0.499      0.618      -0.957       1.611\n",
      "x57           -0.0710      0.682     -0.104      0.917      -1.408       1.266\n",
      "x58            0.4806      0.697      0.690      0.490      -0.885       1.847\n",
      "x59           -0.3641      0.705     -0.517      0.605      -1.745       1.017\n",
      "x60           -0.4786      0.716     -0.669      0.504      -1.882       0.925\n",
      "x61            0.0600      0.728      0.082      0.934      -1.367       1.487\n",
      "x62            0.2308      0.752      0.307      0.759      -1.242       1.704\n",
      "x63           -0.3847      0.774     -0.497      0.619      -1.901       1.132\n",
      "x64            0.0355      0.783      0.045      0.964      -1.498       1.569\n",
      "x65           -0.0024      0.785     -0.003      0.998      -1.540       1.535\n",
      "x66            0.4313      0.797      0.541      0.588      -1.130       1.993\n",
      "x67           -0.0811      0.804     -0.101      0.920      -1.658       1.496\n",
      "x68           -0.1966      0.808     -0.243      0.808      -1.780       1.387\n",
      "x69            0.1578      0.809      0.195      0.845      -1.427       1.743\n",
      "x70           -0.4703      0.815     -0.577      0.564      -2.069       1.128\n",
      "x71            0.0724      0.820      0.088      0.930      -1.535       1.680\n",
      "x72            0.3066      0.821      0.373      0.709      -1.303       1.916\n",
      "x73            0.1441      0.824      0.175      0.861      -1.470       1.759\n",
      "x74           -0.2296      0.833     -0.276      0.783      -1.862       1.403\n",
      "x75           -0.2754      0.838     -0.329      0.743      -1.919       1.368\n",
      "x76            0.4534      0.840      0.540      0.589      -1.193       2.099\n",
      "x77            0.0254      0.841      0.030      0.976      -1.622       1.673\n",
      "x78            0.7086      0.854      0.830      0.407      -0.965       2.383\n",
      "x79           -0.1736      0.873     -0.199      0.842      -1.885       1.538\n",
      "x80            0.0394      0.892      0.044      0.965      -1.710       1.788\n",
      "x81           -0.4535      0.910     -0.499      0.618      -2.236       1.329\n",
      "==============================================================================\n",
      "Omnibus:                     1073.711   Durbin-Watson:                   0.016\n",
      "Prob(Omnibus):                  0.000   Jarque-Bera (JB):             3964.968\n",
      "Skew:                           0.085   Prob(JB):                         0.00\n",
      "Kurtosis:                       5.102   Cond. No.                         26.7\n",
      "==============================================================================\n",
      "\n",
      "Warnings:\n",
      "[1] Standard Errors assume that the covariance matrix of the errors is correctly specified.\n",
      "Train 1213.8789776577632\n",
      "Test 1215.102961391735\n"
     ]
    }
   ],
   "source": [
    "reg = OLS(y_train,temp)\n",
    "score = reg.fit()\n",
    "print(score.summary())\n",
    "pred = score.predict(temp)\n",
    "train_acc = 100-mean_squared_log_error(np.exp(y_train),np.exp(pred))*100\n",
    "test_acc = 100-mean_squared_log_error(np.exp(y_test),np.exp(score.predict(temp2)))*100\n",
    "algo.append('OLS Poly Regression')\n",
    "train_accuracy.append(train_acc)\n",
    "test_accuracy.append(test_acc)\n",
    "print('Train',train_acc)\n",
    "print('Test',test_acc)\n"
   ]
  },
  {
   "cell_type": "code",
   "execution_count": 35,
   "metadata": {},
   "outputs": [
    {
     "data": {
      "text/html": [
       "<div>\n",
       "<style scoped>\n",
       "    .dataframe tbody tr th:only-of-type {\n",
       "        vertical-align: middle;\n",
       "    }\n",
       "\n",
       "    .dataframe tbody tr th {\n",
       "        vertical-align: top;\n",
       "    }\n",
       "\n",
       "    .dataframe thead th {\n",
       "        text-align: right;\n",
       "    }\n",
       "</style>\n",
       "<table border=\"1\" class=\"dataframe\">\n",
       "  <thead>\n",
       "    <tr style=\"text-align: right;\">\n",
       "      <th></th>\n",
       "      <th>RERA</th>\n",
       "      <th>BHK_NO.</th>\n",
       "      <th>BHK_OR_RK</th>\n",
       "      <th>SQUARE_FT</th>\n",
       "      <th>READY_TO_MOVE</th>\n",
       "      <th>RESALE</th>\n",
       "      <th>LONGITUDE</th>\n",
       "      <th>LATITUDE</th>\n",
       "      <th>POSTED_BY_Dealer</th>\n",
       "      <th>POSTED_BY_Owner</th>\n",
       "      <th>...</th>\n",
       "      <th>CITY_2_Udaipur</th>\n",
       "      <th>CITY_2_Udupi</th>\n",
       "      <th>CITY_2_Vadodara</th>\n",
       "      <th>CITY_2_Valsad</th>\n",
       "      <th>CITY_2_Vapi</th>\n",
       "      <th>CITY_2_Varanasi</th>\n",
       "      <th>CITY_2_Vijayawada</th>\n",
       "      <th>CITY_2_Visakhapatnam</th>\n",
       "      <th>CITY_2_Vizianagaram</th>\n",
       "      <th>CITY_2_Wardha</th>\n",
       "    </tr>\n",
       "  </thead>\n",
       "  <tbody>\n",
       "    <tr>\n",
       "      <th>1699</th>\n",
       "      <td>1</td>\n",
       "      <td>1</td>\n",
       "      <td>1</td>\n",
       "      <td>6.745424</td>\n",
       "      <td>0</td>\n",
       "      <td>0</td>\n",
       "      <td>1.095326</td>\n",
       "      <td>4.322057</td>\n",
       "      <td>0.0</td>\n",
       "      <td>0.0</td>\n",
       "      <td>...</td>\n",
       "      <td>0.0</td>\n",
       "      <td>0.0</td>\n",
       "      <td>0.0</td>\n",
       "      <td>0.0</td>\n",
       "      <td>0.0</td>\n",
       "      <td>0.0</td>\n",
       "      <td>0.0</td>\n",
       "      <td>0.0</td>\n",
       "      <td>0.0</td>\n",
       "      <td>0.0</td>\n",
       "    </tr>\n",
       "    <tr>\n",
       "      <th>3242</th>\n",
       "      <td>0</td>\n",
       "      <td>2</td>\n",
       "      <td>1</td>\n",
       "      <td>6.998866</td>\n",
       "      <td>1</td>\n",
       "      <td>1</td>\n",
       "      <td>1.132881</td>\n",
       "      <td>4.293195</td>\n",
       "      <td>0.0</td>\n",
       "      <td>1.0</td>\n",
       "      <td>...</td>\n",
       "      <td>0.0</td>\n",
       "      <td>0.0</td>\n",
       "      <td>1.0</td>\n",
       "      <td>0.0</td>\n",
       "      <td>0.0</td>\n",
       "      <td>0.0</td>\n",
       "      <td>0.0</td>\n",
       "      <td>0.0</td>\n",
       "      <td>0.0</td>\n",
       "      <td>0.0</td>\n",
       "    </tr>\n",
       "    <tr>\n",
       "      <th>13460</th>\n",
       "      <td>1</td>\n",
       "      <td>2</td>\n",
       "      <td>1</td>\n",
       "      <td>7.337828</td>\n",
       "      <td>1</td>\n",
       "      <td>1</td>\n",
       "      <td>1.165152</td>\n",
       "      <td>4.362065</td>\n",
       "      <td>1.0</td>\n",
       "      <td>0.0</td>\n",
       "      <td>...</td>\n",
       "      <td>0.0</td>\n",
       "      <td>0.0</td>\n",
       "      <td>0.0</td>\n",
       "      <td>0.0</td>\n",
       "      <td>0.0</td>\n",
       "      <td>0.0</td>\n",
       "      <td>0.0</td>\n",
       "      <td>0.0</td>\n",
       "      <td>0.0</td>\n",
       "      <td>0.0</td>\n",
       "    </tr>\n",
       "    <tr>\n",
       "      <th>6879</th>\n",
       "      <td>0</td>\n",
       "      <td>2</td>\n",
       "      <td>1</td>\n",
       "      <td>6.984876</td>\n",
       "      <td>1</td>\n",
       "      <td>1</td>\n",
       "      <td>1.191602</td>\n",
       "      <td>4.328431</td>\n",
       "      <td>0.0</td>\n",
       "      <td>1.0</td>\n",
       "      <td>...</td>\n",
       "      <td>0.0</td>\n",
       "      <td>0.0</td>\n",
       "      <td>0.0</td>\n",
       "      <td>0.0</td>\n",
       "      <td>0.0</td>\n",
       "      <td>0.0</td>\n",
       "      <td>0.0</td>\n",
       "      <td>0.0</td>\n",
       "      <td>0.0</td>\n",
       "      <td>0.0</td>\n",
       "    </tr>\n",
       "    <tr>\n",
       "      <th>22919</th>\n",
       "      <td>0</td>\n",
       "      <td>2</td>\n",
       "      <td>1</td>\n",
       "      <td>6.872195</td>\n",
       "      <td>1</td>\n",
       "      <td>1</td>\n",
       "      <td>1.192203</td>\n",
       "      <td>4.327824</td>\n",
       "      <td>0.0</td>\n",
       "      <td>1.0</td>\n",
       "      <td>...</td>\n",
       "      <td>0.0</td>\n",
       "      <td>0.0</td>\n",
       "      <td>0.0</td>\n",
       "      <td>0.0</td>\n",
       "      <td>0.0</td>\n",
       "      <td>0.0</td>\n",
       "      <td>0.0</td>\n",
       "      <td>0.0</td>\n",
       "      <td>0.0</td>\n",
       "      <td>0.0</td>\n",
       "    </tr>\n",
       "    <tr>\n",
       "      <th>...</th>\n",
       "      <td>...</td>\n",
       "      <td>...</td>\n",
       "      <td>...</td>\n",
       "      <td>...</td>\n",
       "      <td>...</td>\n",
       "      <td>...</td>\n",
       "      <td>...</td>\n",
       "      <td>...</td>\n",
       "      <td>...</td>\n",
       "      <td>...</td>\n",
       "      <td>...</td>\n",
       "      <td>...</td>\n",
       "      <td>...</td>\n",
       "      <td>...</td>\n",
       "      <td>...</td>\n",
       "      <td>...</td>\n",
       "      <td>...</td>\n",
       "      <td>...</td>\n",
       "      <td>...</td>\n",
       "      <td>...</td>\n",
       "      <td>...</td>\n",
       "    </tr>\n",
       "    <tr>\n",
       "      <th>4118</th>\n",
       "      <td>1</td>\n",
       "      <td>3</td>\n",
       "      <td>1</td>\n",
       "      <td>7.203528</td>\n",
       "      <td>0</td>\n",
       "      <td>1</td>\n",
       "      <td>1.083389</td>\n",
       "      <td>4.288715</td>\n",
       "      <td>1.0</td>\n",
       "      <td>0.0</td>\n",
       "      <td>...</td>\n",
       "      <td>0.0</td>\n",
       "      <td>0.0</td>\n",
       "      <td>0.0</td>\n",
       "      <td>0.0</td>\n",
       "      <td>0.0</td>\n",
       "      <td>0.0</td>\n",
       "      <td>0.0</td>\n",
       "      <td>0.0</td>\n",
       "      <td>0.0</td>\n",
       "      <td>0.0</td>\n",
       "    </tr>\n",
       "    <tr>\n",
       "      <th>988</th>\n",
       "      <td>0</td>\n",
       "      <td>3</td>\n",
       "      <td>1</td>\n",
       "      <td>7.142939</td>\n",
       "      <td>1</td>\n",
       "      <td>1</td>\n",
       "      <td>1.208999</td>\n",
       "      <td>4.349110</td>\n",
       "      <td>1.0</td>\n",
       "      <td>0.0</td>\n",
       "      <td>...</td>\n",
       "      <td>0.0</td>\n",
       "      <td>0.0</td>\n",
       "      <td>0.0</td>\n",
       "      <td>0.0</td>\n",
       "      <td>0.0</td>\n",
       "      <td>0.0</td>\n",
       "      <td>0.0</td>\n",
       "      <td>0.0</td>\n",
       "      <td>0.0</td>\n",
       "      <td>0.0</td>\n",
       "    </tr>\n",
       "    <tr>\n",
       "      <th>9036</th>\n",
       "      <td>1</td>\n",
       "      <td>3</td>\n",
       "      <td>1</td>\n",
       "      <td>7.417581</td>\n",
       "      <td>1</td>\n",
       "      <td>1</td>\n",
       "      <td>0.937708</td>\n",
       "      <td>4.353961</td>\n",
       "      <td>1.0</td>\n",
       "      <td>0.0</td>\n",
       "      <td>...</td>\n",
       "      <td>0.0</td>\n",
       "      <td>0.0</td>\n",
       "      <td>0.0</td>\n",
       "      <td>0.0</td>\n",
       "      <td>0.0</td>\n",
       "      <td>0.0</td>\n",
       "      <td>0.0</td>\n",
       "      <td>0.0</td>\n",
       "      <td>0.0</td>\n",
       "      <td>0.0</td>\n",
       "    </tr>\n",
       "    <tr>\n",
       "      <th>20843</th>\n",
       "      <td>1</td>\n",
       "      <td>2</td>\n",
       "      <td>1</td>\n",
       "      <td>6.770823</td>\n",
       "      <td>0</td>\n",
       "      <td>1</td>\n",
       "      <td>1.084346</td>\n",
       "      <td>4.289964</td>\n",
       "      <td>1.0</td>\n",
       "      <td>0.0</td>\n",
       "      <td>...</td>\n",
       "      <td>0.0</td>\n",
       "      <td>0.0</td>\n",
       "      <td>0.0</td>\n",
       "      <td>0.0</td>\n",
       "      <td>0.0</td>\n",
       "      <td>0.0</td>\n",
       "      <td>0.0</td>\n",
       "      <td>0.0</td>\n",
       "      <td>0.0</td>\n",
       "      <td>0.0</td>\n",
       "    </tr>\n",
       "    <tr>\n",
       "      <th>1935</th>\n",
       "      <td>0</td>\n",
       "      <td>2</td>\n",
       "      <td>1</td>\n",
       "      <td>6.802563</td>\n",
       "      <td>1</td>\n",
       "      <td>1</td>\n",
       "      <td>0.944001</td>\n",
       "      <td>4.350254</td>\n",
       "      <td>0.0</td>\n",
       "      <td>1.0</td>\n",
       "      <td>...</td>\n",
       "      <td>0.0</td>\n",
       "      <td>0.0</td>\n",
       "      <td>0.0</td>\n",
       "      <td>0.0</td>\n",
       "      <td>0.0</td>\n",
       "      <td>0.0</td>\n",
       "      <td>0.0</td>\n",
       "      <td>0.0</td>\n",
       "      <td>0.0</td>\n",
       "      <td>0.0</td>\n",
       "    </tr>\n",
       "  </tbody>\n",
       "</table>\n",
       "<p>21390 rows × 136 columns</p>\n",
       "</div>"
      ],
      "text/plain": [
       "       RERA  BHK_NO.  BHK_OR_RK  SQUARE_FT  READY_TO_MOVE  RESALE  LONGITUDE  \\\n",
       "1699      1        1          1   6.745424              0       0   1.095326   \n",
       "3242      0        2          1   6.998866              1       1   1.132881   \n",
       "13460     1        2          1   7.337828              1       1   1.165152   \n",
       "6879      0        2          1   6.984876              1       1   1.191602   \n",
       "22919     0        2          1   6.872195              1       1   1.192203   \n",
       "...     ...      ...        ...        ...            ...     ...        ...   \n",
       "4118      1        3          1   7.203528              0       1   1.083389   \n",
       "988       0        3          1   7.142939              1       1   1.208999   \n",
       "9036      1        3          1   7.417581              1       1   0.937708   \n",
       "20843     1        2          1   6.770823              0       1   1.084346   \n",
       "1935      0        2          1   6.802563              1       1   0.944001   \n",
       "\n",
       "       LATITUDE  POSTED_BY_Dealer  POSTED_BY_Owner  ...  CITY_2_Udaipur  \\\n",
       "1699   4.322057               0.0              0.0  ...             0.0   \n",
       "3242   4.293195               0.0              1.0  ...             0.0   \n",
       "13460  4.362065               1.0              0.0  ...             0.0   \n",
       "6879   4.328431               0.0              1.0  ...             0.0   \n",
       "22919  4.327824               0.0              1.0  ...             0.0   \n",
       "...         ...               ...              ...  ...             ...   \n",
       "4118   4.288715               1.0              0.0  ...             0.0   \n",
       "988    4.349110               1.0              0.0  ...             0.0   \n",
       "9036   4.353961               1.0              0.0  ...             0.0   \n",
       "20843  4.289964               1.0              0.0  ...             0.0   \n",
       "1935   4.350254               0.0              1.0  ...             0.0   \n",
       "\n",
       "       CITY_2_Udupi  CITY_2_Vadodara  CITY_2_Valsad  CITY_2_Vapi  \\\n",
       "1699            0.0              0.0            0.0          0.0   \n",
       "3242            0.0              1.0            0.0          0.0   \n",
       "13460           0.0              0.0            0.0          0.0   \n",
       "6879            0.0              0.0            0.0          0.0   \n",
       "22919           0.0              0.0            0.0          0.0   \n",
       "...             ...              ...            ...          ...   \n",
       "4118            0.0              0.0            0.0          0.0   \n",
       "988             0.0              0.0            0.0          0.0   \n",
       "9036            0.0              0.0            0.0          0.0   \n",
       "20843           0.0              0.0            0.0          0.0   \n",
       "1935            0.0              0.0            0.0          0.0   \n",
       "\n",
       "       CITY_2_Varanasi  CITY_2_Vijayawada  CITY_2_Visakhapatnam  \\\n",
       "1699               0.0                0.0                   0.0   \n",
       "3242               0.0                0.0                   0.0   \n",
       "13460              0.0                0.0                   0.0   \n",
       "6879               0.0                0.0                   0.0   \n",
       "22919              0.0                0.0                   0.0   \n",
       "...                ...                ...                   ...   \n",
       "4118               0.0                0.0                   0.0   \n",
       "988                0.0                0.0                   0.0   \n",
       "9036               0.0                0.0                   0.0   \n",
       "20843              0.0                0.0                   0.0   \n",
       "1935               0.0                0.0                   0.0   \n",
       "\n",
       "       CITY_2_Vizianagaram  CITY_2_Wardha  \n",
       "1699                   0.0            0.0  \n",
       "3242                   0.0            0.0  \n",
       "13460                  0.0            0.0  \n",
       "6879                   0.0            0.0  \n",
       "22919                  0.0            0.0  \n",
       "...                    ...            ...  \n",
       "4118                   0.0            0.0  \n",
       "988                    0.0            0.0  \n",
       "9036                   0.0            0.0  \n",
       "20843                  0.0            0.0  \n",
       "1935                   0.0            0.0  \n",
       "\n",
       "[21390 rows x 136 columns]"
      ]
     },
     "execution_count": 35,
     "metadata": {},
     "output_type": "execute_result"
    }
   ],
   "source": [
    "x_train"
   ]
  },
  {
   "cell_type": "markdown",
   "metadata": {},
   "source": [
    "### SVM"
   ]
  },
  {
   "cell_type": "code",
   "execution_count": 47,
   "metadata": {},
   "outputs": [],
   "source": [
    "from sklearn.svm import SVR"
   ]
  },
  {
   "cell_type": "code",
   "execution_count": 48,
   "metadata": {},
   "outputs": [
    {
     "name": "stdout",
     "output_type": "stream",
     "text": [
      "[LibSVM]Train 10.74056859384048\n",
      "Test 11.545263485289903\n"
     ]
    }
   ],
   "source": [
    "reg = SVR(verbose=True)\n",
    "score = reg.fit(temp,y_train)\n",
    "pred = score.predict(temp)\n",
    "train_acc = 100-mean_squared_log_error(np.exp(y_train),np.exp(pred))*100\n",
    "test_acc = 100-mean_squared_log_error(np.exp(y_test),np.exp(score.predict(temp2)))*100\n",
    "algo.append('SVM')\n",
    "train_accuracy.append(train_acc)\n",
    "test_accuracy.append(test_acc)\n",
    "print('Train',train_acc)\n",
    "print('Test',test_acc)\n"
   ]
  },
  {
   "cell_type": "markdown",
   "metadata": {},
   "source": [
    "### Decision Tree"
   ]
  },
  {
   "cell_type": "code",
   "execution_count": 50,
   "metadata": {},
   "outputs": [],
   "source": [
    "from sklearn.tree import DecisionTreeRegressor"
   ]
  },
  {
   "cell_type": "code",
   "execution_count": 54,
   "metadata": {},
   "outputs": [
    {
     "name": "stdout",
     "output_type": "stream",
     "text": [
      "Train 0.06378469623864416\n",
      "Test 18.724526163789832\n"
     ]
    }
   ],
   "source": [
    "reg = DecisionTreeRegressor()\n",
    "score = reg.fit(x_train,y_train)\n",
    "pred = score.predict(x_train)\n",
    "train_acc = 100-mean_squared_log_error(np.exp(y_train),np.exp(pred))*100\n",
    "test_acc = 100-mean_squared_log_error(np.exp(y_test),np.exp(score.predict(x_test)))*100\n",
    "algo.append('DTR')\n",
    "train_accuracy.append(train_acc)\n",
    "test_accuracy.append(test_acc)\n",
    "print('Train',train_acc)\n",
    "print('Test',test_acc)\n"
   ]
  },
  {
   "cell_type": "markdown",
   "metadata": {},
   "source": [
    "### Random Forest"
   ]
  },
  {
   "cell_type": "code",
   "execution_count": 87,
   "metadata": {},
   "outputs": [],
   "source": [
    "from sklearn.ensemble import RandomForestRegressor"
   ]
  },
  {
   "cell_type": "code",
   "execution_count": 133,
   "metadata": {
    "scrolled": true
   },
   "outputs": [
    {
     "name": "stderr",
     "output_type": "stream",
     "text": [
      "[Parallel(n_jobs=3)]: Using backend ThreadingBackend with 3 concurrent workers.\n",
      "[Parallel(n_jobs=3)]: Done  44 tasks      | elapsed:    1.7s\n",
      "[Parallel(n_jobs=3)]: Done 100 out of 100 | elapsed:    3.7s finished\n",
      "[Parallel(n_jobs=3)]: Using backend ThreadingBackend with 3 concurrent workers.\n",
      "[Parallel(n_jobs=3)]: Done  44 tasks      | elapsed:    0.0s\n",
      "[Parallel(n_jobs=3)]: Done 100 out of 100 | elapsed:    0.0s finished\n",
      "[Parallel(n_jobs=3)]: Using backend ThreadingBackend with 3 concurrent workers.\n"
     ]
    },
    {
     "name": "stdout",
     "output_type": "stream",
     "text": [
      "Train 85.56589557158826\n",
      "Test 85.85674847456711\n"
     ]
    },
    {
     "name": "stderr",
     "output_type": "stream",
     "text": [
      "[Parallel(n_jobs=3)]: Done  44 tasks      | elapsed:    0.0s\n",
      "[Parallel(n_jobs=3)]: Done 100 out of 100 | elapsed:    0.0s finished\n"
     ]
    }
   ],
   "source": [
    "reg = RandomForestRegressor(n_estimators=100,verbose=1,n_jobs=3,max_depth=6)\n",
    "score = reg.fit(x_train,y_train)\n",
    "pred = score.predict(x_train)\n",
    "train_acc = 100-mean_squared_log_error(np.exp(y),np.exp(pred))*100\n",
    "test_acc = 100-mean_squared_log_error(np.exp(y_test),np.exp(score.predict(x_test)))*100\n",
    "algo.append('Random Forest ')\n",
    "train_accuracy.append(train_acc)\n",
    "test_accuracy.append(test_acc)\n",
    "print('Train',train_acc)\n",
    "print('Test',test_acc)\n"
   ]
  },
  {
   "cell_type": "markdown",
   "metadata": {},
   "source": [
    "### XGBoost"
   ]
  },
  {
   "cell_type": "code",
   "execution_count": 89,
   "metadata": {},
   "outputs": [],
   "source": [
    "from xgboost import XGBRegressor"
   ]
  },
  {
   "cell_type": "code",
   "execution_count": 156,
   "metadata": {},
   "outputs": [
    {
     "ename": "ValueError",
     "evalue": "Found input variables with inconsistent numbers of samples: [21390, 26738]",
     "output_type": "error",
     "traceback": [
      "\u001b[1;31m---------------------------------------------------------------------------\u001b[0m",
      "\u001b[1;31mValueError\u001b[0m                                Traceback (most recent call last)",
      "\u001b[1;32m<ipython-input-156-d2d834096da4>\u001b[0m in \u001b[0;36m<module>\u001b[1;34m\u001b[0m\n\u001b[0;32m      2\u001b[0m \u001b[0mscore\u001b[0m \u001b[1;33m=\u001b[0m \u001b[0mreg\u001b[0m\u001b[1;33m.\u001b[0m\u001b[0mfit\u001b[0m\u001b[1;33m(\u001b[0m\u001b[0mfinal_x\u001b[0m\u001b[1;33m,\u001b[0m\u001b[0my\u001b[0m\u001b[1;33m)\u001b[0m\u001b[1;33m\u001b[0m\u001b[1;33m\u001b[0m\u001b[0m\n\u001b[0;32m      3\u001b[0m \u001b[0mpred\u001b[0m \u001b[1;33m=\u001b[0m \u001b[0mscore\u001b[0m\u001b[1;33m.\u001b[0m\u001b[0mpredict\u001b[0m\u001b[1;33m(\u001b[0m\u001b[0mfinal_x\u001b[0m\u001b[1;33m)\u001b[0m\u001b[1;33m\u001b[0m\u001b[1;33m\u001b[0m\u001b[0m\n\u001b[1;32m----> 4\u001b[1;33m \u001b[0mtrain_acc\u001b[0m \u001b[1;33m=\u001b[0m \u001b[1;36m100\u001b[0m\u001b[1;33m-\u001b[0m\u001b[0mmean_squared_log_error\u001b[0m\u001b[1;33m(\u001b[0m\u001b[0mnp\u001b[0m\u001b[1;33m.\u001b[0m\u001b[0mexp\u001b[0m\u001b[1;33m(\u001b[0m\u001b[0my_train\u001b[0m\u001b[1;33m)\u001b[0m\u001b[1;33m,\u001b[0m\u001b[0mnp\u001b[0m\u001b[1;33m.\u001b[0m\u001b[0mexp\u001b[0m\u001b[1;33m(\u001b[0m\u001b[0mpred\u001b[0m\u001b[1;33m)\u001b[0m\u001b[1;33m)\u001b[0m\u001b[1;33m*\u001b[0m\u001b[1;36m100\u001b[0m\u001b[1;33m\u001b[0m\u001b[1;33m\u001b[0m\u001b[0m\n\u001b[0m\u001b[0;32m      5\u001b[0m \u001b[1;31m#test_acc = 100-mean_squared_log_error(np.exp(y_test),np.exp(score.predict(x_test)))*100\u001b[0m\u001b[1;33m\u001b[0m\u001b[1;33m\u001b[0m\u001b[1;33m\u001b[0m\u001b[0m\n\u001b[0;32m      6\u001b[0m \u001b[0malgo\u001b[0m\u001b[1;33m.\u001b[0m\u001b[0mappend\u001b[0m\u001b[1;33m(\u001b[0m\u001b[1;34m'XGBoost '\u001b[0m\u001b[1;33m)\u001b[0m\u001b[1;33m\u001b[0m\u001b[1;33m\u001b[0m\u001b[0m\n",
      "\u001b[1;32mG:\\Installed\\envs\\tensorflowenv\\lib\\site-packages\\sklearn\\utils\\validation.py\u001b[0m in \u001b[0;36minner_f\u001b[1;34m(*args, **kwargs)\u001b[0m\n\u001b[0;32m     70\u001b[0m                           FutureWarning)\n\u001b[0;32m     71\u001b[0m         \u001b[0mkwargs\u001b[0m\u001b[1;33m.\u001b[0m\u001b[0mupdate\u001b[0m\u001b[1;33m(\u001b[0m\u001b[1;33m{\u001b[0m\u001b[0mk\u001b[0m\u001b[1;33m:\u001b[0m \u001b[0marg\u001b[0m \u001b[1;32mfor\u001b[0m \u001b[0mk\u001b[0m\u001b[1;33m,\u001b[0m \u001b[0marg\u001b[0m \u001b[1;32min\u001b[0m \u001b[0mzip\u001b[0m\u001b[1;33m(\u001b[0m\u001b[0msig\u001b[0m\u001b[1;33m.\u001b[0m\u001b[0mparameters\u001b[0m\u001b[1;33m,\u001b[0m \u001b[0margs\u001b[0m\u001b[1;33m)\u001b[0m\u001b[1;33m}\u001b[0m\u001b[1;33m)\u001b[0m\u001b[1;33m\u001b[0m\u001b[1;33m\u001b[0m\u001b[0m\n\u001b[1;32m---> 72\u001b[1;33m         \u001b[1;32mreturn\u001b[0m \u001b[0mf\u001b[0m\u001b[1;33m(\u001b[0m\u001b[1;33m**\u001b[0m\u001b[0mkwargs\u001b[0m\u001b[1;33m)\u001b[0m\u001b[1;33m\u001b[0m\u001b[1;33m\u001b[0m\u001b[0m\n\u001b[0m\u001b[0;32m     73\u001b[0m     \u001b[1;32mreturn\u001b[0m \u001b[0minner_f\u001b[0m\u001b[1;33m\u001b[0m\u001b[1;33m\u001b[0m\u001b[0m\n\u001b[0;32m     74\u001b[0m \u001b[1;33m\u001b[0m\u001b[0m\n",
      "\u001b[1;32mG:\\Installed\\envs\\tensorflowenv\\lib\\site-packages\\sklearn\\metrics\\_regression.py\u001b[0m in \u001b[0;36mmean_squared_log_error\u001b[1;34m(y_true, y_pred, sample_weight, multioutput)\u001b[0m\n\u001b[0;32m    328\u001b[0m     \"\"\"\n\u001b[0;32m    329\u001b[0m     y_type, y_true, y_pred, multioutput = _check_reg_targets(\n\u001b[1;32m--> 330\u001b[1;33m         y_true, y_pred, multioutput)\n\u001b[0m\u001b[0;32m    331\u001b[0m     \u001b[0mcheck_consistent_length\u001b[0m\u001b[1;33m(\u001b[0m\u001b[0my_true\u001b[0m\u001b[1;33m,\u001b[0m \u001b[0my_pred\u001b[0m\u001b[1;33m,\u001b[0m \u001b[0msample_weight\u001b[0m\u001b[1;33m)\u001b[0m\u001b[1;33m\u001b[0m\u001b[1;33m\u001b[0m\u001b[0m\n\u001b[0;32m    332\u001b[0m \u001b[1;33m\u001b[0m\u001b[0m\n",
      "\u001b[1;32mG:\\Installed\\envs\\tensorflowenv\\lib\\site-packages\\sklearn\\metrics\\_regression.py\u001b[0m in \u001b[0;36m_check_reg_targets\u001b[1;34m(y_true, y_pred, multioutput, dtype)\u001b[0m\n\u001b[0;32m     82\u001b[0m \u001b[1;33m\u001b[0m\u001b[0m\n\u001b[0;32m     83\u001b[0m     \"\"\"\n\u001b[1;32m---> 84\u001b[1;33m     \u001b[0mcheck_consistent_length\u001b[0m\u001b[1;33m(\u001b[0m\u001b[0my_true\u001b[0m\u001b[1;33m,\u001b[0m \u001b[0my_pred\u001b[0m\u001b[1;33m)\u001b[0m\u001b[1;33m\u001b[0m\u001b[1;33m\u001b[0m\u001b[0m\n\u001b[0m\u001b[0;32m     85\u001b[0m     \u001b[0my_true\u001b[0m \u001b[1;33m=\u001b[0m \u001b[0mcheck_array\u001b[0m\u001b[1;33m(\u001b[0m\u001b[0my_true\u001b[0m\u001b[1;33m,\u001b[0m \u001b[0mensure_2d\u001b[0m\u001b[1;33m=\u001b[0m\u001b[1;32mFalse\u001b[0m\u001b[1;33m,\u001b[0m \u001b[0mdtype\u001b[0m\u001b[1;33m=\u001b[0m\u001b[0mdtype\u001b[0m\u001b[1;33m)\u001b[0m\u001b[1;33m\u001b[0m\u001b[1;33m\u001b[0m\u001b[0m\n\u001b[0;32m     86\u001b[0m     \u001b[0my_pred\u001b[0m \u001b[1;33m=\u001b[0m \u001b[0mcheck_array\u001b[0m\u001b[1;33m(\u001b[0m\u001b[0my_pred\u001b[0m\u001b[1;33m,\u001b[0m \u001b[0mensure_2d\u001b[0m\u001b[1;33m=\u001b[0m\u001b[1;32mFalse\u001b[0m\u001b[1;33m,\u001b[0m \u001b[0mdtype\u001b[0m\u001b[1;33m=\u001b[0m\u001b[0mdtype\u001b[0m\u001b[1;33m)\u001b[0m\u001b[1;33m\u001b[0m\u001b[1;33m\u001b[0m\u001b[0m\n",
      "\u001b[1;32mG:\\Installed\\envs\\tensorflowenv\\lib\\site-packages\\sklearn\\utils\\validation.py\u001b[0m in \u001b[0;36mcheck_consistent_length\u001b[1;34m(*arrays)\u001b[0m\n\u001b[0;32m    254\u001b[0m     \u001b[1;32mif\u001b[0m \u001b[0mlen\u001b[0m\u001b[1;33m(\u001b[0m\u001b[0muniques\u001b[0m\u001b[1;33m)\u001b[0m \u001b[1;33m>\u001b[0m \u001b[1;36m1\u001b[0m\u001b[1;33m:\u001b[0m\u001b[1;33m\u001b[0m\u001b[1;33m\u001b[0m\u001b[0m\n\u001b[0;32m    255\u001b[0m         raise ValueError(\"Found input variables with inconsistent numbers of\"\n\u001b[1;32m--> 256\u001b[1;33m                          \" samples: %r\" % [int(l) for l in lengths])\n\u001b[0m\u001b[0;32m    257\u001b[0m \u001b[1;33m\u001b[0m\u001b[0m\n\u001b[0;32m    258\u001b[0m \u001b[1;33m\u001b[0m\u001b[0m\n",
      "\u001b[1;31mValueError\u001b[0m: Found input variables with inconsistent numbers of samples: [21390, 26738]"
     ]
    }
   ],
   "source": [
    "reg = XGBRegressor(n_estimators=1000,objective='reg:squaredlogerror',verbosity=1,tree_method='exact',n_jobs=-1,max_feature=)\n",
    "score = reg.fit(x_train,y_train)\n",
    "pred = score.predict(x_train)\n",
    "train_acc = 100-mean_squared_log_error(np.exp(y_train),np.exp(pred))*100\n",
    "test_acc = 100-mean_squared_log_error(np.exp(y_test),np.exp(score.predict(x_test)))*100\n",
    "algo.append('XGBoost ')\n",
    "train_accuracy.append(train_acc)\n",
    "test_accuracy.append(test_acc)\n",
    "print('Train',train_acc)\n",
    "print('Test',test_acc)\n"
   ]
  },
  {
   "cell_type": "code",
   "execution_count": 157,
   "metadata": {},
   "outputs": [
    {
     "name": "stdout",
     "output_type": "stream",
     "text": [
      "Train 95.99959795464352\n"
     ]
    }
   ],
   "source": [
    "train_acc = 100-mean_squared_log_error(np.exp(y),np.exp(pred))*100\n",
    "#test_acc = 100-mean_squared_log_error(np.exp(y_test),np.exp(score.predict(x_test)))*100\n",
    "algo.append('XGBoost ')\n",
    "train_accuracy.append(train_acc)\n",
    "#test_accuracy.append(test_acc)\n",
    "print('Train',train_acc)\n",
    "#print('Test',test_acc)\n"
   ]
  },
  {
   "cell_type": "markdown",
   "metadata": {},
   "source": [
    "#### Grid Search"
   ]
  },
  {
   "cell_type": "code",
   "execution_count": 123,
   "metadata": {},
   "outputs": [],
   "source": [
    "from sklearn.model_selection import GridSearchCV"
   ]
  },
  {
   "cell_type": "code",
   "execution_count": 124,
   "metadata": {},
   "outputs": [
    {
     "name": "stdout",
     "output_type": "stream",
     "text": [
      "Fitting 2 folds for each of 9 candidates, totalling 18 fits\n"
     ]
    },
    {
     "name": "stderr",
     "output_type": "stream",
     "text": [
      "[Parallel(n_jobs=-1)]: Using backend LokyBackend with 4 concurrent workers.\n",
      "[Parallel(n_jobs=-1)]: Done  18 out of  18 | elapsed:  3.1min finished\n"
     ]
    },
    {
     "name": "stdout",
     "output_type": "stream",
     "text": [
      "[17:26:44] WARNING: C:\\Users\\Administrator\\workspace\\xgboost-win64_release_1.2.0\\src\\learner.cc:516: \n",
      "Parameters: { silent } might not be used.\n",
      "\n",
      "  This may not be accurate due to some parameters are only used in language bindings but\n",
      "  passed down to XGBoost core.  Or some parameters are not used but slip through this\n",
      "  verification. Please open an issue if you find above cases.\n",
      "\n",
      "\n",
      "0.8207349566278259\n",
      "{'colsample_bytree': 0.7, 'learning_rate': 0.07, 'max_depth': 7, 'min_child_weight': 4, 'n_estimators': 500, 'nthread': 4, 'objective': 'reg:squaredlogerror', 'silent': 1, 'subsample': 0.7}\n"
     ]
    }
   ],
   "source": [
    "xgb1 = XGBRegressor()\n",
    "parameters = { #when use hyperthread, xgboost may become slower\n",
    "              'num_estimator' :[10,100,500,100],\n",
    "              'objective':['reg:squaredlogerror'],\n",
    "              'learning_rate': [0.4,.3, 0.5, .7], #so called `eta` value\n",
    "              'max_depth': [5, 6, 7,8,9,10],\n",
    "              'min_child_weight': [4],\n",
    "              'silent': [1],\n",
    "              'subsample': [0.7],\n",
    "              'colsample_bytree': [0.7],\n",
    "              'n_estimators': [500]}\n",
    "\n",
    "xgb_grid = GridSearchCV(xgb1,\n",
    "                        parameters,\n",
    "                        cv = 2,\n",
    "                        n_jobs = -1,\n",
    "                        verbose=True)\n",
    "\n",
    "xgb_grid.fit(x_train,\n",
    "         y_train)\n",
    "\n",
    "print(xgb_grid.best_score_)\n",
    "print(xgb_grid.best_params_)"
   ]
  },
  {
   "cell_type": "code",
   "execution_count": 127,
   "metadata": {},
   "outputs": [
    {
     "name": "stdout",
     "output_type": "stream",
     "text": [
      "Train 92.43347584823377\n",
      "Test 91.88844906073962\n"
     ]
    }
   ],
   "source": [
    "pred = xgb_grid.predict(x_train)\n",
    "train_acc = 100-mean_squared_log_error(np.exp(y_train),np.exp(pred))*100\n",
    "test_acc = 100-mean_squared_log_error(np.exp(y_test),np.exp(xgb_grid.predict(x_test)))*100\n",
    "algo.append('XGBoost ')\n",
    "train_accuracy.append(train_acc)\n",
    "test_accuracy.append(test_acc)\n",
    "print('Train',train_acc)\n",
    "print('Test',test_acc)"
   ]
  },
  {
   "cell_type": "markdown",
   "metadata": {},
   "source": [
    "### XGBRF"
   ]
  },
  {
   "cell_type": "code",
   "execution_count": null,
   "metadata": {},
   "outputs": [],
   "source": []
  },
  {
   "cell_type": "code",
   "execution_count": 70,
   "metadata": {},
   "outputs": [],
   "source": [
    "from xgboost import XGBRFRegressor"
   ]
  },
  {
   "cell_type": "code",
   "execution_count": 84,
   "metadata": {},
   "outputs": [
    {
     "name": "stdout",
     "output_type": "stream",
     "text": [
      "Train 86.02867738449031\n",
      "Test 86.28407912757598\n"
     ]
    }
   ],
   "source": [
    "reg = XGBRFRegressor(n_estimators=100,n_jobs=2,verbosity =1)\n",
    "score = reg.fit(x_train,y_train)\n",
    "pred = score.predict(x_train)\n",
    "train_acc = 100-mean_squared_log_error(np.exp(y_train),np.exp(pred))*100\n",
    "test_acc = 100-mean_squared_log_error(np.exp(y_test),np.exp(score.predict(x_test)))*100\n",
    "algo.append('XGRF Boost ')\n",
    "train_accuracy.append(train_acc)\n",
    "test_accuracy.append(test_acc)\n",
    "print('Train',train_acc)\n",
    "print('Test',test_acc)\n"
   ]
  },
  {
   "cell_type": "markdown",
   "metadata": {},
   "source": [
    "## Cross Validation"
   ]
  },
  {
   "cell_type": "code",
   "execution_count": 123,
   "metadata": {},
   "outputs": [],
   "source": [
    "from sklearn.model_selection import KFold,cross_validate"
   ]
  },
  {
   "cell_type": "code",
   "execution_count": 124,
   "metadata": {},
   "outputs": [],
   "source": [
    "scv = KFold(n_splits=5,shuffle=True,random_state=37)"
   ]
  },
  {
   "cell_type": "code",
   "execution_count": 125,
   "metadata": {},
   "outputs": [
    {
     "name": "stderr",
     "output_type": "stream",
     "text": [
      "[Parallel(n_jobs=3)]: Using backend LokyBackend with 3 concurrent workers.\n",
      "[Parallel(n_jobs=3)]: Done   3 out of   5 | elapsed:   20.3s remaining:   13.5s\n",
      "[Parallel(n_jobs=3)]: Done   5 out of   5 | elapsed:   20.9s finished\n"
     ]
    }
   ],
   "source": [
    "score = cross_validate(reg,final_x,y,scoring='neg_mean_squared_log_error',cv=scv,n_jobs=3,verbose=2)"
   ]
  },
  {
   "cell_type": "code",
   "execution_count": 126,
   "metadata": {},
   "outputs": [
    {
     "data": {
      "text/plain": [
       "array([0.00513358, 0.0052364 , 0.00491934, 0.00532357, 0.00539321])"
      ]
     },
     "execution_count": 126,
     "metadata": {},
     "output_type": "execute_result"
    }
   ],
   "source": [
    "-1*score['test_score']"
   ]
  },
  {
   "cell_type": "code",
   "execution_count": null,
   "metadata": {},
   "outputs": [],
   "source": []
  },
  {
   "cell_type": "code",
   "execution_count": null,
   "metadata": {},
   "outputs": [],
   "source": [
    "plt.figure(figsize=(16,8))\n",
    "sns.lineplot(np.exp(y_train),np.exp(pred),alpha=0.2)"
   ]
  },
  {
   "cell_type": "markdown",
   "metadata": {},
   "source": [
    "## Prediction"
   ]
  },
  {
   "cell_type": "code",
   "execution_count": 158,
   "metadata": {},
   "outputs": [],
   "source": [
    "test = pd.read_csv('Fina_Test.csv')\n",
    "test = test.drop(['ADDRESS','CITY'],axis=1)"
   ]
  },
  {
   "cell_type": "code",
   "execution_count": 159,
   "metadata": {},
   "outputs": [],
   "source": [
    "encoded_cat = encoder.transform(test[cat_col])"
   ]
  },
  {
   "cell_type": "code",
   "execution_count": 160,
   "metadata": {},
   "outputs": [],
   "source": [
    "temp =pd.DataFrame(data=encoded_cat.toarray(),columns=col_name)"
   ]
  },
  {
   "cell_type": "code",
   "execution_count": 161,
   "metadata": {},
   "outputs": [],
   "source": [
    "test['BHK_OR_RK'] = test['BHK_OR_RK'].replace(bhk_or_rak)"
   ]
  },
  {
   "cell_type": "code",
   "execution_count": 162,
   "metadata": {},
   "outputs": [
    {
     "data": {
      "text/html": [
       "<div>\n",
       "<style scoped>\n",
       "    .dataframe tbody tr th:only-of-type {\n",
       "        vertical-align: middle;\n",
       "    }\n",
       "\n",
       "    .dataframe tbody tr th {\n",
       "        vertical-align: top;\n",
       "    }\n",
       "\n",
       "    .dataframe thead th {\n",
       "        text-align: right;\n",
       "    }\n",
       "</style>\n",
       "<table border=\"1\" class=\"dataframe\">\n",
       "  <thead>\n",
       "    <tr style=\"text-align: right;\">\n",
       "      <th></th>\n",
       "      <th>POSTED_BY</th>\n",
       "      <th>UNDER_CONSTRUCTION</th>\n",
       "      <th>RERA</th>\n",
       "      <th>BHK_NO.</th>\n",
       "      <th>BHK_OR_RK</th>\n",
       "      <th>SQUARE_FT</th>\n",
       "      <th>READY_TO_MOVE</th>\n",
       "      <th>RESALE</th>\n",
       "      <th>LONGITUDE</th>\n",
       "      <th>LATITUDE</th>\n",
       "      <th>CITY_2</th>\n",
       "      <th>ZONE</th>\n",
       "    </tr>\n",
       "  </thead>\n",
       "  <tbody>\n",
       "    <tr>\n",
       "      <th>0</th>\n",
       "      <td>Owner</td>\n",
       "      <td>0</td>\n",
       "      <td>0</td>\n",
       "      <td>1</td>\n",
       "      <td>1</td>\n",
       "      <td>6.301100</td>\n",
       "      <td>1</td>\n",
       "      <td>1</td>\n",
       "      <td>1.117408</td>\n",
       "      <td>4.291113</td>\n",
       "      <td>Surat</td>\n",
       "      <td>7</td>\n",
       "    </tr>\n",
       "    <tr>\n",
       "      <th>1</th>\n",
       "      <td>Dealer</td>\n",
       "      <td>1</td>\n",
       "      <td>1</td>\n",
       "      <td>2</td>\n",
       "      <td>1</td>\n",
       "      <td>6.684612</td>\n",
       "      <td>0</td>\n",
       "      <td>0</td>\n",
       "      <td>1.079312</td>\n",
       "      <td>4.292489</td>\n",
       "      <td>Lalitpur</td>\n",
       "      <td>0</td>\n",
       "    </tr>\n",
       "    <tr>\n",
       "      <th>2</th>\n",
       "      <td>Dealer</td>\n",
       "      <td>0</td>\n",
       "      <td>0</td>\n",
       "      <td>2</td>\n",
       "      <td>1</td>\n",
       "      <td>7.136560</td>\n",
       "      <td>1</td>\n",
       "      <td>1</td>\n",
       "      <td>1.137065</td>\n",
       "      <td>4.482832</td>\n",
       "      <td>Kolkata</td>\n",
       "      <td>3</td>\n",
       "    </tr>\n",
       "    <tr>\n",
       "      <th>3</th>\n",
       "      <td>Dealer</td>\n",
       "      <td>0</td>\n",
       "      <td>0</td>\n",
       "      <td>3</td>\n",
       "      <td>1</td>\n",
       "      <td>7.244463</td>\n",
       "      <td>1</td>\n",
       "      <td>1</td>\n",
       "      <td>1.192529</td>\n",
       "      <td>4.325253</td>\n",
       "      <td>Jaipur</td>\n",
       "      <td>1</td>\n",
       "    </tr>\n",
       "    <tr>\n",
       "      <th>4</th>\n",
       "      <td>Owner</td>\n",
       "      <td>0</td>\n",
       "      <td>0</td>\n",
       "      <td>1</td>\n",
       "      <td>1</td>\n",
       "      <td>6.064896</td>\n",
       "      <td>1</td>\n",
       "      <td>1</td>\n",
       "      <td>1.138591</td>\n",
       "      <td>4.288677</td>\n",
       "      <td>Town</td>\n",
       "      <td>7</td>\n",
       "    </tr>\n",
       "    <tr>\n",
       "      <th>...</th>\n",
       "      <td>...</td>\n",
       "      <td>...</td>\n",
       "      <td>...</td>\n",
       "      <td>...</td>\n",
       "      <td>...</td>\n",
       "      <td>...</td>\n",
       "      <td>...</td>\n",
       "      <td>...</td>\n",
       "      <td>...</td>\n",
       "      <td>...</td>\n",
       "      <td>...</td>\n",
       "      <td>...</td>\n",
       "    </tr>\n",
       "    <tr>\n",
       "      <th>68715</th>\n",
       "      <td>Dealer</td>\n",
       "      <td>0</td>\n",
       "      <td>1</td>\n",
       "      <td>2</td>\n",
       "      <td>1</td>\n",
       "      <td>6.752919</td>\n",
       "      <td>1</td>\n",
       "      <td>1</td>\n",
       "      <td>1.083116</td>\n",
       "      <td>4.289957</td>\n",
       "      <td>Maharashtra</td>\n",
       "      <td>0</td>\n",
       "    </tr>\n",
       "    <tr>\n",
       "      <th>68716</th>\n",
       "      <td>Dealer</td>\n",
       "      <td>0</td>\n",
       "      <td>1</td>\n",
       "      <td>3</td>\n",
       "      <td>1</td>\n",
       "      <td>7.742466</td>\n",
       "      <td>1</td>\n",
       "      <td>1</td>\n",
       "      <td>1.230516</td>\n",
       "      <td>4.340502</td>\n",
       "      <td>Mohali</td>\n",
       "      <td>1</td>\n",
       "    </tr>\n",
       "    <tr>\n",
       "      <th>68717</th>\n",
       "      <td>Dealer</td>\n",
       "      <td>1</td>\n",
       "      <td>1</td>\n",
       "      <td>1</td>\n",
       "      <td>1</td>\n",
       "      <td>10.415197</td>\n",
       "      <td>0</td>\n",
       "      <td>0</td>\n",
       "      <td>1.083858</td>\n",
       "      <td>4.290298</td>\n",
       "      <td>Maharashtra</td>\n",
       "      <td>0</td>\n",
       "    </tr>\n",
       "    <tr>\n",
       "      <th>68718</th>\n",
       "      <td>Dealer</td>\n",
       "      <td>0</td>\n",
       "      <td>0</td>\n",
       "      <td>2</td>\n",
       "      <td>1</td>\n",
       "      <td>7.067924</td>\n",
       "      <td>1</td>\n",
       "      <td>1</td>\n",
       "      <td>1.070758</td>\n",
       "      <td>4.303277</td>\n",
       "      <td>Pune</td>\n",
       "      <td>0</td>\n",
       "    </tr>\n",
       "    <tr>\n",
       "      <th>68719</th>\n",
       "      <td>Dealer</td>\n",
       "      <td>0</td>\n",
       "      <td>0</td>\n",
       "      <td>3</td>\n",
       "      <td>1</td>\n",
       "      <td>7.799562</td>\n",
       "      <td>1</td>\n",
       "      <td>1</td>\n",
       "      <td>1.082141</td>\n",
       "      <td>4.289000</td>\n",
       "      <td>Mumbai</td>\n",
       "      <td>0</td>\n",
       "    </tr>\n",
       "  </tbody>\n",
       "</table>\n",
       "<p>68720 rows × 12 columns</p>\n",
       "</div>"
      ],
      "text/plain": [
       "      POSTED_BY  UNDER_CONSTRUCTION  RERA  BHK_NO.  BHK_OR_RK  SQUARE_FT  \\\n",
       "0         Owner                   0     0        1          1   6.301100   \n",
       "1        Dealer                   1     1        2          1   6.684612   \n",
       "2        Dealer                   0     0        2          1   7.136560   \n",
       "3        Dealer                   0     0        3          1   7.244463   \n",
       "4         Owner                   0     0        1          1   6.064896   \n",
       "...         ...                 ...   ...      ...        ...        ...   \n",
       "68715    Dealer                   0     1        2          1   6.752919   \n",
       "68716    Dealer                   0     1        3          1   7.742466   \n",
       "68717    Dealer                   1     1        1          1  10.415197   \n",
       "68718    Dealer                   0     0        2          1   7.067924   \n",
       "68719    Dealer                   0     0        3          1   7.799562   \n",
       "\n",
       "       READY_TO_MOVE  RESALE  LONGITUDE  LATITUDE       CITY_2  ZONE  \n",
       "0                  1       1   1.117408  4.291113        Surat     7  \n",
       "1                  0       0   1.079312  4.292489     Lalitpur     0  \n",
       "2                  1       1   1.137065  4.482832      Kolkata     3  \n",
       "3                  1       1   1.192529  4.325253       Jaipur     1  \n",
       "4                  1       1   1.138591  4.288677         Town     7  \n",
       "...              ...     ...        ...       ...          ...   ...  \n",
       "68715              1       1   1.083116  4.289957  Maharashtra     0  \n",
       "68716              1       1   1.230516  4.340502       Mohali     1  \n",
       "68717              0       0   1.083858  4.290298  Maharashtra     0  \n",
       "68718              1       1   1.070758  4.303277         Pune     0  \n",
       "68719              1       1   1.082141  4.289000       Mumbai     0  \n",
       "\n",
       "[68720 rows x 12 columns]"
      ]
     },
     "execution_count": 162,
     "metadata": {},
     "output_type": "execute_result"
    }
   ],
   "source": [
    "test"
   ]
  },
  {
   "cell_type": "code",
   "execution_count": 163,
   "metadata": {},
   "outputs": [],
   "source": [
    "final_test = test.merge(temp,on=test.index).copy()"
   ]
  },
  {
   "cell_type": "code",
   "execution_count": 164,
   "metadata": {},
   "outputs": [],
   "source": [
    "final_test = final_test.drop(['key_0','POSTED_BY','CITY_2','ZONE','UNDER_CONSTRUCTION','ZONE_0', 'ZONE_1', 'ZONE_2', 'ZONE_3',\n",
    "       'ZONE_4', 'ZONE_5', 'ZONE_6', 'ZONE_7', 'ZONE_8','POSTED_BY_Builder','CITY_2_Agra'],axis=1)"
   ]
  },
  {
   "cell_type": "code",
   "execution_count": 165,
   "metadata": {},
   "outputs": [
    {
     "data": {
      "text/plain": [
       "(68720, 136)"
      ]
     },
     "execution_count": 165,
     "metadata": {},
     "output_type": "execute_result"
    }
   ],
   "source": [
    "final_test.shape"
   ]
  },
  {
   "cell_type": "code",
   "execution_count": 166,
   "metadata": {},
   "outputs": [
    {
     "data": {
      "text/html": [
       "<div>\n",
       "<style scoped>\n",
       "    .dataframe tbody tr th:only-of-type {\n",
       "        vertical-align: middle;\n",
       "    }\n",
       "\n",
       "    .dataframe tbody tr th {\n",
       "        vertical-align: top;\n",
       "    }\n",
       "\n",
       "    .dataframe thead th {\n",
       "        text-align: right;\n",
       "    }\n",
       "</style>\n",
       "<table border=\"1\" class=\"dataframe\">\n",
       "  <thead>\n",
       "    <tr style=\"text-align: right;\">\n",
       "      <th></th>\n",
       "      <th>RERA</th>\n",
       "      <th>BHK_NO.</th>\n",
       "      <th>BHK_OR_RK</th>\n",
       "      <th>SQUARE_FT</th>\n",
       "      <th>READY_TO_MOVE</th>\n",
       "      <th>RESALE</th>\n",
       "      <th>LONGITUDE</th>\n",
       "      <th>LATITUDE</th>\n",
       "      <th>POSTED_BY_Dealer</th>\n",
       "      <th>POSTED_BY_Owner</th>\n",
       "      <th>...</th>\n",
       "      <th>CITY_2_Udaipur</th>\n",
       "      <th>CITY_2_Udupi</th>\n",
       "      <th>CITY_2_Vadodara</th>\n",
       "      <th>CITY_2_Valsad</th>\n",
       "      <th>CITY_2_Vapi</th>\n",
       "      <th>CITY_2_Varanasi</th>\n",
       "      <th>CITY_2_Vijayawada</th>\n",
       "      <th>CITY_2_Visakhapatnam</th>\n",
       "      <th>CITY_2_Vizianagaram</th>\n",
       "      <th>CITY_2_Wardha</th>\n",
       "    </tr>\n",
       "  </thead>\n",
       "  <tbody>\n",
       "    <tr>\n",
       "      <th>0</th>\n",
       "      <td>0</td>\n",
       "      <td>1</td>\n",
       "      <td>1</td>\n",
       "      <td>6.301100</td>\n",
       "      <td>1</td>\n",
       "      <td>1</td>\n",
       "      <td>1.117408</td>\n",
       "      <td>4.291113</td>\n",
       "      <td>0.0</td>\n",
       "      <td>1.0</td>\n",
       "      <td>...</td>\n",
       "      <td>0.0</td>\n",
       "      <td>0.0</td>\n",
       "      <td>0.0</td>\n",
       "      <td>0.0</td>\n",
       "      <td>0.0</td>\n",
       "      <td>0.0</td>\n",
       "      <td>0.0</td>\n",
       "      <td>0.0</td>\n",
       "      <td>0.0</td>\n",
       "      <td>0.0</td>\n",
       "    </tr>\n",
       "    <tr>\n",
       "      <th>1</th>\n",
       "      <td>1</td>\n",
       "      <td>2</td>\n",
       "      <td>1</td>\n",
       "      <td>6.684612</td>\n",
       "      <td>0</td>\n",
       "      <td>0</td>\n",
       "      <td>1.079312</td>\n",
       "      <td>4.292489</td>\n",
       "      <td>1.0</td>\n",
       "      <td>0.0</td>\n",
       "      <td>...</td>\n",
       "      <td>0.0</td>\n",
       "      <td>0.0</td>\n",
       "      <td>0.0</td>\n",
       "      <td>0.0</td>\n",
       "      <td>0.0</td>\n",
       "      <td>0.0</td>\n",
       "      <td>0.0</td>\n",
       "      <td>0.0</td>\n",
       "      <td>0.0</td>\n",
       "      <td>0.0</td>\n",
       "    </tr>\n",
       "    <tr>\n",
       "      <th>2</th>\n",
       "      <td>0</td>\n",
       "      <td>2</td>\n",
       "      <td>1</td>\n",
       "      <td>7.136560</td>\n",
       "      <td>1</td>\n",
       "      <td>1</td>\n",
       "      <td>1.137065</td>\n",
       "      <td>4.482832</td>\n",
       "      <td>1.0</td>\n",
       "      <td>0.0</td>\n",
       "      <td>...</td>\n",
       "      <td>0.0</td>\n",
       "      <td>0.0</td>\n",
       "      <td>0.0</td>\n",
       "      <td>0.0</td>\n",
       "      <td>0.0</td>\n",
       "      <td>0.0</td>\n",
       "      <td>0.0</td>\n",
       "      <td>0.0</td>\n",
       "      <td>0.0</td>\n",
       "      <td>0.0</td>\n",
       "    </tr>\n",
       "    <tr>\n",
       "      <th>3</th>\n",
       "      <td>0</td>\n",
       "      <td>3</td>\n",
       "      <td>1</td>\n",
       "      <td>7.244463</td>\n",
       "      <td>1</td>\n",
       "      <td>1</td>\n",
       "      <td>1.192529</td>\n",
       "      <td>4.325253</td>\n",
       "      <td>1.0</td>\n",
       "      <td>0.0</td>\n",
       "      <td>...</td>\n",
       "      <td>0.0</td>\n",
       "      <td>0.0</td>\n",
       "      <td>0.0</td>\n",
       "      <td>0.0</td>\n",
       "      <td>0.0</td>\n",
       "      <td>0.0</td>\n",
       "      <td>0.0</td>\n",
       "      <td>0.0</td>\n",
       "      <td>0.0</td>\n",
       "      <td>0.0</td>\n",
       "    </tr>\n",
       "    <tr>\n",
       "      <th>4</th>\n",
       "      <td>0</td>\n",
       "      <td>1</td>\n",
       "      <td>1</td>\n",
       "      <td>6.064896</td>\n",
       "      <td>1</td>\n",
       "      <td>1</td>\n",
       "      <td>1.138591</td>\n",
       "      <td>4.288677</td>\n",
       "      <td>0.0</td>\n",
       "      <td>1.0</td>\n",
       "      <td>...</td>\n",
       "      <td>0.0</td>\n",
       "      <td>0.0</td>\n",
       "      <td>0.0</td>\n",
       "      <td>0.0</td>\n",
       "      <td>0.0</td>\n",
       "      <td>0.0</td>\n",
       "      <td>0.0</td>\n",
       "      <td>0.0</td>\n",
       "      <td>0.0</td>\n",
       "      <td>0.0</td>\n",
       "    </tr>\n",
       "    <tr>\n",
       "      <th>...</th>\n",
       "      <td>...</td>\n",
       "      <td>...</td>\n",
       "      <td>...</td>\n",
       "      <td>...</td>\n",
       "      <td>...</td>\n",
       "      <td>...</td>\n",
       "      <td>...</td>\n",
       "      <td>...</td>\n",
       "      <td>...</td>\n",
       "      <td>...</td>\n",
       "      <td>...</td>\n",
       "      <td>...</td>\n",
       "      <td>...</td>\n",
       "      <td>...</td>\n",
       "      <td>...</td>\n",
       "      <td>...</td>\n",
       "      <td>...</td>\n",
       "      <td>...</td>\n",
       "      <td>...</td>\n",
       "      <td>...</td>\n",
       "      <td>...</td>\n",
       "    </tr>\n",
       "    <tr>\n",
       "      <th>68715</th>\n",
       "      <td>1</td>\n",
       "      <td>2</td>\n",
       "      <td>1</td>\n",
       "      <td>6.752919</td>\n",
       "      <td>1</td>\n",
       "      <td>1</td>\n",
       "      <td>1.083116</td>\n",
       "      <td>4.289957</td>\n",
       "      <td>1.0</td>\n",
       "      <td>0.0</td>\n",
       "      <td>...</td>\n",
       "      <td>0.0</td>\n",
       "      <td>0.0</td>\n",
       "      <td>0.0</td>\n",
       "      <td>0.0</td>\n",
       "      <td>0.0</td>\n",
       "      <td>0.0</td>\n",
       "      <td>0.0</td>\n",
       "      <td>0.0</td>\n",
       "      <td>0.0</td>\n",
       "      <td>0.0</td>\n",
       "    </tr>\n",
       "    <tr>\n",
       "      <th>68716</th>\n",
       "      <td>1</td>\n",
       "      <td>3</td>\n",
       "      <td>1</td>\n",
       "      <td>7.742466</td>\n",
       "      <td>1</td>\n",
       "      <td>1</td>\n",
       "      <td>1.230516</td>\n",
       "      <td>4.340502</td>\n",
       "      <td>1.0</td>\n",
       "      <td>0.0</td>\n",
       "      <td>...</td>\n",
       "      <td>0.0</td>\n",
       "      <td>0.0</td>\n",
       "      <td>0.0</td>\n",
       "      <td>0.0</td>\n",
       "      <td>0.0</td>\n",
       "      <td>0.0</td>\n",
       "      <td>0.0</td>\n",
       "      <td>0.0</td>\n",
       "      <td>0.0</td>\n",
       "      <td>0.0</td>\n",
       "    </tr>\n",
       "    <tr>\n",
       "      <th>68717</th>\n",
       "      <td>1</td>\n",
       "      <td>1</td>\n",
       "      <td>1</td>\n",
       "      <td>10.415197</td>\n",
       "      <td>0</td>\n",
       "      <td>0</td>\n",
       "      <td>1.083858</td>\n",
       "      <td>4.290298</td>\n",
       "      <td>1.0</td>\n",
       "      <td>0.0</td>\n",
       "      <td>...</td>\n",
       "      <td>0.0</td>\n",
       "      <td>0.0</td>\n",
       "      <td>0.0</td>\n",
       "      <td>0.0</td>\n",
       "      <td>0.0</td>\n",
       "      <td>0.0</td>\n",
       "      <td>0.0</td>\n",
       "      <td>0.0</td>\n",
       "      <td>0.0</td>\n",
       "      <td>0.0</td>\n",
       "    </tr>\n",
       "    <tr>\n",
       "      <th>68718</th>\n",
       "      <td>0</td>\n",
       "      <td>2</td>\n",
       "      <td>1</td>\n",
       "      <td>7.067924</td>\n",
       "      <td>1</td>\n",
       "      <td>1</td>\n",
       "      <td>1.070758</td>\n",
       "      <td>4.303277</td>\n",
       "      <td>1.0</td>\n",
       "      <td>0.0</td>\n",
       "      <td>...</td>\n",
       "      <td>0.0</td>\n",
       "      <td>0.0</td>\n",
       "      <td>0.0</td>\n",
       "      <td>0.0</td>\n",
       "      <td>0.0</td>\n",
       "      <td>0.0</td>\n",
       "      <td>0.0</td>\n",
       "      <td>0.0</td>\n",
       "      <td>0.0</td>\n",
       "      <td>0.0</td>\n",
       "    </tr>\n",
       "    <tr>\n",
       "      <th>68719</th>\n",
       "      <td>0</td>\n",
       "      <td>3</td>\n",
       "      <td>1</td>\n",
       "      <td>7.799562</td>\n",
       "      <td>1</td>\n",
       "      <td>1</td>\n",
       "      <td>1.082141</td>\n",
       "      <td>4.289000</td>\n",
       "      <td>1.0</td>\n",
       "      <td>0.0</td>\n",
       "      <td>...</td>\n",
       "      <td>0.0</td>\n",
       "      <td>0.0</td>\n",
       "      <td>0.0</td>\n",
       "      <td>0.0</td>\n",
       "      <td>0.0</td>\n",
       "      <td>0.0</td>\n",
       "      <td>0.0</td>\n",
       "      <td>0.0</td>\n",
       "      <td>0.0</td>\n",
       "      <td>0.0</td>\n",
       "    </tr>\n",
       "  </tbody>\n",
       "</table>\n",
       "<p>68720 rows × 136 columns</p>\n",
       "</div>"
      ],
      "text/plain": [
       "       RERA  BHK_NO.  BHK_OR_RK  SQUARE_FT  READY_TO_MOVE  RESALE  LONGITUDE  \\\n",
       "0         0        1          1   6.301100              1       1   1.117408   \n",
       "1         1        2          1   6.684612              0       0   1.079312   \n",
       "2         0        2          1   7.136560              1       1   1.137065   \n",
       "3         0        3          1   7.244463              1       1   1.192529   \n",
       "4         0        1          1   6.064896              1       1   1.138591   \n",
       "...     ...      ...        ...        ...            ...     ...        ...   \n",
       "68715     1        2          1   6.752919              1       1   1.083116   \n",
       "68716     1        3          1   7.742466              1       1   1.230516   \n",
       "68717     1        1          1  10.415197              0       0   1.083858   \n",
       "68718     0        2          1   7.067924              1       1   1.070758   \n",
       "68719     0        3          1   7.799562              1       1   1.082141   \n",
       "\n",
       "       LATITUDE  POSTED_BY_Dealer  POSTED_BY_Owner  ...  CITY_2_Udaipur  \\\n",
       "0      4.291113               0.0              1.0  ...             0.0   \n",
       "1      4.292489               1.0              0.0  ...             0.0   \n",
       "2      4.482832               1.0              0.0  ...             0.0   \n",
       "3      4.325253               1.0              0.0  ...             0.0   \n",
       "4      4.288677               0.0              1.0  ...             0.0   \n",
       "...         ...               ...              ...  ...             ...   \n",
       "68715  4.289957               1.0              0.0  ...             0.0   \n",
       "68716  4.340502               1.0              0.0  ...             0.0   \n",
       "68717  4.290298               1.0              0.0  ...             0.0   \n",
       "68718  4.303277               1.0              0.0  ...             0.0   \n",
       "68719  4.289000               1.0              0.0  ...             0.0   \n",
       "\n",
       "       CITY_2_Udupi  CITY_2_Vadodara  CITY_2_Valsad  CITY_2_Vapi  \\\n",
       "0               0.0              0.0            0.0          0.0   \n",
       "1               0.0              0.0            0.0          0.0   \n",
       "2               0.0              0.0            0.0          0.0   \n",
       "3               0.0              0.0            0.0          0.0   \n",
       "4               0.0              0.0            0.0          0.0   \n",
       "...             ...              ...            ...          ...   \n",
       "68715           0.0              0.0            0.0          0.0   \n",
       "68716           0.0              0.0            0.0          0.0   \n",
       "68717           0.0              0.0            0.0          0.0   \n",
       "68718           0.0              0.0            0.0          0.0   \n",
       "68719           0.0              0.0            0.0          0.0   \n",
       "\n",
       "       CITY_2_Varanasi  CITY_2_Vijayawada  CITY_2_Visakhapatnam  \\\n",
       "0                  0.0                0.0                   0.0   \n",
       "1                  0.0                0.0                   0.0   \n",
       "2                  0.0                0.0                   0.0   \n",
       "3                  0.0                0.0                   0.0   \n",
       "4                  0.0                0.0                   0.0   \n",
       "...                ...                ...                   ...   \n",
       "68715              0.0                0.0                   0.0   \n",
       "68716              0.0                0.0                   0.0   \n",
       "68717              0.0                0.0                   0.0   \n",
       "68718              0.0                0.0                   0.0   \n",
       "68719              0.0                0.0                   0.0   \n",
       "\n",
       "       CITY_2_Vizianagaram  CITY_2_Wardha  \n",
       "0                      0.0            0.0  \n",
       "1                      0.0            0.0  \n",
       "2                      0.0            0.0  \n",
       "3                      0.0            0.0  \n",
       "4                      0.0            0.0  \n",
       "...                    ...            ...  \n",
       "68715                  0.0            0.0  \n",
       "68716                  0.0            0.0  \n",
       "68717                  0.0            0.0  \n",
       "68718                  0.0            0.0  \n",
       "68719                  0.0            0.0  \n",
       "\n",
       "[68720 rows x 136 columns]"
      ]
     },
     "execution_count": 166,
     "metadata": {},
     "output_type": "execute_result"
    }
   ],
   "source": [
    "final_test"
   ]
  },
  {
   "cell_type": "code",
   "execution_count": 167,
   "metadata": {},
   "outputs": [],
   "source": [
    "final_test['TARGET(PRICE_IN_LACS)'] = np.exp(reg.predict(final_test))"
   ]
  },
  {
   "cell_type": "code",
   "execution_count": 168,
   "metadata": {},
   "outputs": [
    {
     "data": {
      "text/plain": [
       "0         15.283757\n",
       "1         67.585739\n",
       "2         59.023472\n",
       "3         30.895584\n",
       "4         17.949753\n",
       "            ...    \n",
       "68715    100.361580\n",
       "68716    121.485878\n",
       "68717    114.449562\n",
       "68718     78.290550\n",
       "68719    513.742981\n",
       "Name: TARGET(PRICE_IN_LACS), Length: 68720, dtype: float32"
      ]
     },
     "execution_count": 168,
     "metadata": {},
     "output_type": "execute_result"
    }
   ],
   "source": [
    "final_test['TARGET(PRICE_IN_LACS)']"
   ]
  },
  {
   "cell_type": "code",
   "execution_count": 169,
   "metadata": {},
   "outputs": [],
   "source": [
    "final_test['TARGET(PRICE_IN_LACS)'].to_csv('Submission 5.csv',index=False)"
   ]
  },
  {
   "cell_type": "code",
   "execution_count": null,
   "metadata": {},
   "outputs": [],
   "source": []
  }
 ],
 "metadata": {
  "kernelspec": {
   "display_name": "Tensorflow",
   "language": "python",
   "name": "myenv"
  },
  "language_info": {
   "codemirror_mode": {
    "name": "ipython",
    "version": 3
   },
   "file_extension": ".py",
   "mimetype": "text/x-python",
   "name": "python",
   "nbconvert_exporter": "python",
   "pygments_lexer": "ipython3",
   "version": "3.7.7"
  }
 },
 "nbformat": 4,
 "nbformat_minor": 4
}
