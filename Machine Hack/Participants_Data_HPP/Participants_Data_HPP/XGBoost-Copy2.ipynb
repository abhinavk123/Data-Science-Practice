{
 "cells": [
  {
   "cell_type": "code",
   "execution_count": 2,
   "metadata": {},
   "outputs": [],
   "source": [
    "import pandas as pd\n",
    "import numpy as np\n",
    "import matplotlib.pyplot as plt\n",
    "import seaborn as sns\n",
    "import statsmodels.api as sm\n",
    "sns.set()\n",
    "from sklearn.linear_model import LinearRegression\n",
    "from statsmodels.regression.linear_model import OLS\n",
    "from sklearn.metrics import mean_squared_log_error\n",
    "from sklearn.preprocessing import LabelEncoder,OneHotEncoder"
   ]
  },
  {
   "cell_type": "code",
   "execution_count": 3,
   "metadata": {},
   "outputs": [],
   "source": [
    "#train = pd.read_csv('./data_1/Fina_Train.csv')\n",
    "#test = pd.read_csv('./data_1/Fina_Test.csv')\n",
    "train = pd.read_csv('Train-19-10.csv')\n",
    "test = pd.read_csv('Test-19-10.csv')"
   ]
  },
  {
   "cell_type": "code",
   "execution_count": 4,
   "metadata": {},
   "outputs": [],
   "source": [
    "y = train['TARGET(PRICE_IN_LACS)']\n",
    "x = train.drop(['TARGET(PRICE_IN_LACS)','BHK_OR_RK','ADDRESS','CITY','Lo+Li', 'Rare_House','READY_TO_MOVE', 'SQFT_P_ROOM', 'Lo+Li', 'Rare_House', 'City_Type'],axis=1)\n"
   ]
  },
  {
   "cell_type": "code",
   "execution_count": 5,
   "metadata": {},
   "outputs": [
    {
     "data": {
      "text/plain": [
       "Index(['POSTED_BY', 'UNDER_CONSTRUCTION', 'RERA', 'BHK_NO.', 'BHK_OR_RK',\n",
       "       'SQUARE_FT', 'READY_TO_MOVE', 'RESALE', 'ADDRESS', 'LONGITUDE',\n",
       "       'LATITUDE', 'TARGET(PRICE_IN_LACS)', 'CITY', 'IN_CITY', 'CITY_2',\n",
       "       'SQFT_P_ROOM', 'Lo+Li', 'Rare_House', 'City_Type'],\n",
       "      dtype='object')"
      ]
     },
     "execution_count": 5,
     "metadata": {},
     "output_type": "execute_result"
    }
   ],
   "source": [
    "train.columns"
   ]
  },
  {
   "cell_type": "code",
   "execution_count": 6,
   "metadata": {},
   "outputs": [],
   "source": [
    "total_col = ['POSTED_BY', 'UNDER_CONSTRUCTION', 'RERA', 'BHK_NO.', 'BHK_OR_RK',\n",
    "       'SQUARE_FT',  'RESALE', 'ADDRESS', 'LONGITUDE',\n",
    "       'LATITUDE', 'CITY', 'CITY_2']"
   ]
  },
  {
   "cell_type": "code",
   "execution_count": 7,
   "metadata": {},
   "outputs": [],
   "source": [
    "cat_col = ['POSTED_BY','CITY_2','IN_CITY']"
   ]
  },
  {
   "cell_type": "code",
   "execution_count": 8,
   "metadata": {},
   "outputs": [
    {
     "data": {
      "text/html": [
       "<div>\n",
       "<style scoped>\n",
       "    .dataframe tbody tr th:only-of-type {\n",
       "        vertical-align: middle;\n",
       "    }\n",
       "\n",
       "    .dataframe tbody tr th {\n",
       "        vertical-align: top;\n",
       "    }\n",
       "\n",
       "    .dataframe thead th {\n",
       "        text-align: right;\n",
       "    }\n",
       "</style>\n",
       "<table border=\"1\" class=\"dataframe\">\n",
       "  <thead>\n",
       "    <tr style=\"text-align: right;\">\n",
       "      <th></th>\n",
       "      <th>POSTED_BY</th>\n",
       "      <th>UNDER_CONSTRUCTION</th>\n",
       "      <th>RERA</th>\n",
       "      <th>BHK_NO.</th>\n",
       "      <th>SQUARE_FT</th>\n",
       "      <th>RESALE</th>\n",
       "      <th>LONGITUDE</th>\n",
       "      <th>LATITUDE</th>\n",
       "      <th>IN_CITY</th>\n",
       "      <th>CITY_2</th>\n",
       "    </tr>\n",
       "  </thead>\n",
       "  <tbody>\n",
       "    <tr>\n",
       "      <th>0</th>\n",
       "      <td>Owner</td>\n",
       "      <td>0</td>\n",
       "      <td>0</td>\n",
       "      <td>2</td>\n",
       "      <td>7.170301</td>\n",
       "      <td>1</td>\n",
       "      <td>12.969910</td>\n",
       "      <td>4.351541</td>\n",
       "      <td>Ksfc Layout</td>\n",
       "      <td>Bangalore</td>\n",
       "    </tr>\n",
       "    <tr>\n",
       "      <th>1</th>\n",
       "      <td>Dealer</td>\n",
       "      <td>0</td>\n",
       "      <td>0</td>\n",
       "      <td>2</td>\n",
       "      <td>7.150701</td>\n",
       "      <td>1</td>\n",
       "      <td>12.274538</td>\n",
       "      <td>4.339179</td>\n",
       "      <td>Vishweshwara Nagar</td>\n",
       "      <td>Mysore</td>\n",
       "    </tr>\n",
       "    <tr>\n",
       "      <th>2</th>\n",
       "      <td>Owner</td>\n",
       "      <td>0</td>\n",
       "      <td>0</td>\n",
       "      <td>2</td>\n",
       "      <td>6.838576</td>\n",
       "      <td>1</td>\n",
       "      <td>12.778033</td>\n",
       "      <td>4.351982</td>\n",
       "      <td>Jigani</td>\n",
       "      <td>Bangalore</td>\n",
       "    </tr>\n",
       "    <tr>\n",
       "      <th>3</th>\n",
       "      <td>Owner</td>\n",
       "      <td>0</td>\n",
       "      <td>1</td>\n",
       "      <td>2</td>\n",
       "      <td>6.835100</td>\n",
       "      <td>1</td>\n",
       "      <td>28.642300</td>\n",
       "      <td>4.348269</td>\n",
       "      <td>Sector-1 Vaishali</td>\n",
       "      <td>Ghaziabad</td>\n",
       "    </tr>\n",
       "    <tr>\n",
       "      <th>4</th>\n",
       "      <td>Owner</td>\n",
       "      <td>0</td>\n",
       "      <td>0</td>\n",
       "      <td>3</td>\n",
       "      <td>7.130899</td>\n",
       "      <td>1</td>\n",
       "      <td>10.033280</td>\n",
       "      <td>4.334444</td>\n",
       "      <td>South Chittoor</td>\n",
       "      <td>Kochi</td>\n",
       "    </tr>\n",
       "  </tbody>\n",
       "</table>\n",
       "</div>"
      ],
      "text/plain": [
       "  POSTED_BY  UNDER_CONSTRUCTION  RERA  BHK_NO.  SQUARE_FT  RESALE  LONGITUDE  \\\n",
       "0     Owner                   0     0        2   7.170301       1  12.969910   \n",
       "1    Dealer                   0     0        2   7.150701       1  12.274538   \n",
       "2     Owner                   0     0        2   6.838576       1  12.778033   \n",
       "3     Owner                   0     1        2   6.835100       1  28.642300   \n",
       "4     Owner                   0     0        3   7.130899       1  10.033280   \n",
       "\n",
       "   LATITUDE             IN_CITY     CITY_2  \n",
       "0  4.351541         Ksfc Layout  Bangalore  \n",
       "1  4.339179  Vishweshwara Nagar     Mysore  \n",
       "2  4.351982              Jigani  Bangalore  \n",
       "3  4.348269   Sector-1 Vaishali  Ghaziabad  \n",
       "4  4.334444      South Chittoor      Kochi  "
      ]
     },
     "execution_count": 8,
     "metadata": {},
     "output_type": "execute_result"
    }
   ],
   "source": [
    "x.head()"
   ]
  },
  {
   "cell_type": "code",
   "execution_count": 9,
   "metadata": {},
   "outputs": [],
   "source": [
    "#train['City_Type'].value_counts()"
   ]
  },
  {
   "cell_type": "code",
   "execution_count": 10,
   "metadata": {},
   "outputs": [],
   "source": [
    "bhk_or_rak = {'BHK':1,\n",
    "             'RK':0}\n",
    "posted_by = {'Dealer':0,'Owner':1,'Builder':2}\n",
    "city_typ = {'Metro':0,'Town':1,'Village':2,'City':3,'Unknown':4}"
   ]
  },
  {
   "cell_type": "code",
   "execution_count": 11,
   "metadata": {},
   "outputs": [],
   "source": [
    "for df in [x,test]:\n",
    "    #df['BHK_OR_RK'] = df['BHK_OR_RK'].replace(bhk_or_rak)\n",
    "    df['POSTED_BY'] = df['POSTED_BY'].replace(posted_by)\n",
    "    #df['City_Type'] = df['City_Type'].replace(city_typ)"
   ]
  },
  {
   "cell_type": "code",
   "execution_count": 12,
   "metadata": {},
   "outputs": [],
   "source": [
    "city_encode = LabelEncoder()\n",
    "city_encode.fit(list(set(x['CITY_2']) | set(test['CITY_2'])))\n",
    "in_city_encode = LabelEncoder()\n",
    "in_city_encode.fit(list(set(x['IN_CITY']) | set(test['IN_CITY'])))\n",
    "for df in [x,test]:\n",
    "    df['CITY_2'] = city_encode.transform(df['CITY_2'] )\n",
    "    df['IN_CITY'] = in_city_encode.transform(df['IN_CITY'].astype(str))"
   ]
  },
  {
   "cell_type": "code",
   "execution_count": 13,
   "metadata": {},
   "outputs": [],
   "source": [
    "#final_x = x.drop(['LATITUDE','LONGITUDE'],axis=1)\n"
   ]
  },
  {
   "cell_type": "code",
   "execution_count": 14,
   "metadata": {
    "scrolled": true
   },
   "outputs": [
    {
     "data": {
      "text/plain": [
       "\"plt.figure(figsize=(16,16))\\nsns.heatmap(final_x.merge(y,on=x.index).drop(['key_0'],axis=1).corr(),cmap='coolwarm',annot=True,square=True)\""
      ]
     },
     "execution_count": 14,
     "metadata": {},
     "output_type": "execute_result"
    }
   ],
   "source": [
    "'''plt.figure(figsize=(16,16))\n",
    "sns.heatmap(final_x.merge(y,on=x.index).drop(['key_0'],axis=1).corr(),cmap='coolwarm',annot=True,square=True)'''"
   ]
  },
  {
   "cell_type": "code",
   "execution_count": 15,
   "metadata": {},
   "outputs": [
    {
     "data": {
      "text/plain": [
       "Index(['POSTED_BY', 'UNDER_CONSTRUCTION', 'RERA', 'BHK_NO.', 'SQUARE_FT',\n",
       "       'RESALE', 'LONGITUDE', 'LATITUDE', 'IN_CITY', 'CITY_2'],\n",
       "      dtype='object')"
      ]
     },
     "execution_count": 15,
     "metadata": {},
     "output_type": "execute_result"
    }
   ],
   "source": [
    "x.columns"
   ]
  },
  {
   "cell_type": "code",
   "execution_count": 17,
   "metadata": {},
   "outputs": [],
   "source": [
    "#final_x = x.drop()\n",
    "final_x = x.copy()\n",
    "#final_x = x.drop([  'BHK_OR_RK','READY_TO_MOVE'],axis=1)\n"
   ]
  },
  {
   "cell_type": "code",
   "execution_count": 34,
   "metadata": {
    "scrolled": true
   },
   "outputs": [],
   "source": [
    "final_x['LONGITUDE'] = np.log(final_x['LONGITUDE'])"
   ]
  },
  {
   "cell_type": "code",
   "execution_count": 35,
   "metadata": {},
   "outputs": [
    {
     "data": {
      "text/plain": [
       "(24736, 10)"
      ]
     },
     "execution_count": 35,
     "metadata": {},
     "output_type": "execute_result"
    }
   ],
   "source": [
    "final_x.shape"
   ]
  },
  {
   "cell_type": "markdown",
   "metadata": {},
   "source": [
    "## Split"
   ]
  },
  {
   "cell_type": "code",
   "execution_count": 36,
   "metadata": {},
   "outputs": [],
   "source": [
    "from sklearn.model_selection import train_test_split\n",
    "from sklearn.preprocessing import StandardScaler"
   ]
  },
  {
   "cell_type": "code",
   "execution_count": 37,
   "metadata": {},
   "outputs": [
    {
     "data": {
      "text/plain": [
       "'scaler = StandardScaler().fit(final_x)\\nfinal_x = scaler.transform(final_x)'"
      ]
     },
     "execution_count": 37,
     "metadata": {},
     "output_type": "execute_result"
    }
   ],
   "source": [
    "'''scaler = StandardScaler().fit(final_x)\n",
    "final_x = scaler.transform(final_x)'''"
   ]
  },
  {
   "cell_type": "code",
   "execution_count": 38,
   "metadata": {},
   "outputs": [
    {
     "data": {
      "text/plain": [
       "((17315, 10), (3710, 10), (3711, 10))"
      ]
     },
     "execution_count": 38,
     "metadata": {},
     "output_type": "execute_result"
    }
   ],
   "source": [
    "x_train,x_test,y_train,y_test = train_test_split(final_x,y,train_size=0.7,random_state=22)\n",
    "\n",
    "x_test,x_valid,y_test,y_valid = train_test_split(x_test,y_test,train_size=0.5,random_state=2)\n",
    "x_train.shape,x_test.shape,x_valid.shape"
   ]
  },
  {
   "cell_type": "markdown",
   "metadata": {},
   "source": [
    "### XGBoost"
   ]
  },
  {
   "cell_type": "code",
   "execution_count": 57,
   "metadata": {},
   "outputs": [],
   "source": [
    "from xgboost import XGBRegressor,plot_importance,plot_tree\n",
    "import xgboost as xgb"
   ]
  },
  {
   "cell_type": "code",
   "execution_count": 40,
   "metadata": {},
   "outputs": [
    {
     "data": {
      "text/plain": [
       "\"reg = XGBRegressor(n_estimators=2000,objective='reg:squaredlogerror',verbosity=1,tree_method='exact',n_jobs=-1)\\nscore = reg.fit(final_x,y)\\npred = score.predict(final_x)\\ntrain_acc = 100-mean_squared_log_error(np.exp(y),np.exp(pred))*100\\n#test_acc = 100-mean_squared_log_error(np.exp(y_test),np.exp(score.predict(x_test)))*100\\nprint('Train',train_acc)\\n#print('Test',test_acc)\\n\""
      ]
     },
     "execution_count": 40,
     "metadata": {},
     "output_type": "execute_result"
    }
   ],
   "source": [
    "'''reg = XGBRegressor(n_estimators=2000,objective='reg:squaredlogerror',verbosity=1,tree_method='exact',n_jobs=-1)\n",
    "score = reg.fit(final_x,y)\n",
    "pred = score.predict(final_x)\n",
    "train_acc = 100-mean_squared_log_error(np.exp(y),np.exp(pred))*100\n",
    "#test_acc = 100-mean_squared_log_error(np.exp(y_test),np.exp(score.predict(x_test)))*100\n",
    "print('Train',train_acc)\n",
    "#print('Test',test_acc)\n",
    "'''"
   ]
  },
  {
   "cell_type": "code",
   "execution_count": 41,
   "metadata": {},
   "outputs": [
    {
     "data": {
      "text/plain": [
       "(17315, 10)"
      ]
     },
     "execution_count": 41,
     "metadata": {},
     "output_type": "execute_result"
    }
   ],
   "source": [
    "x_train.shape"
   ]
  },
  {
   "cell_type": "code",
   "execution_count": 42,
   "metadata": {},
   "outputs": [],
   "source": [
    "max_depth = [ 6,7,8,9,]\n",
    "eta = [0.2,0.3,0.4]\n",
    "early_stopping_rounds = 20"
   ]
  },
  {
   "cell_type": "code",
   "execution_count": 102,
   "metadata": {
    "scrolled": true
   },
   "outputs": [
    {
     "name": "stdout",
     "output_type": "stream",
     "text": [
      "[0]\tvalidation_0-rmsle:1.04385\tvalidation_1-rmsle:1.04065\tvalidation_2-rmsle:1.03979\n",
      "Multiple eval metrics have been passed: 'validation_2-rmsle' will be used for early stopping.\n",
      "\n",
      "Will train until validation_2-rmsle hasn't improved in 25 rounds.\n",
      "[1]\tvalidation_0-rmsle:0.86047\tvalidation_1-rmsle:0.85740\tvalidation_2-rmsle:0.85665\n",
      "[2]\tvalidation_0-rmsle:0.69422\tvalidation_1-rmsle:0.69134\tvalidation_2-rmsle:0.69073\n",
      "[3]\tvalidation_0-rmsle:0.54690\tvalidation_1-rmsle:0.54440\tvalidation_2-rmsle:0.54385\n",
      "[4]\tvalidation_0-rmsle:0.42092\tvalidation_1-rmsle:0.41894\tvalidation_2-rmsle:0.41841\n",
      "[5]\tvalidation_0-rmsle:0.31693\tvalidation_1-rmsle:0.31551\tvalidation_2-rmsle:0.31477\n",
      "[6]\tvalidation_0-rmsle:0.23530\tvalidation_1-rmsle:0.23471\tvalidation_2-rmsle:0.23361\n",
      "[7]\tvalidation_0-rmsle:0.17459\tvalidation_1-rmsle:0.17475\tvalidation_2-rmsle:0.17353\n",
      "[8]\tvalidation_0-rmsle:0.13231\tvalidation_1-rmsle:0.13330\tvalidation_2-rmsle:0.13129\n",
      "[9]\tvalidation_0-rmsle:0.10461\tvalidation_1-rmsle:0.10648\tvalidation_2-rmsle:0.10382\n",
      "[10]\tvalidation_0-rmsle:0.08831\tvalidation_1-rmsle:0.09097\tvalidation_2-rmsle:0.08758\n",
      "[11]\tvalidation_0-rmsle:0.07864\tvalidation_1-rmsle:0.08202\tvalidation_2-rmsle:0.07825\n",
      "[12]\tvalidation_0-rmsle:0.07342\tvalidation_1-rmsle:0.07731\tvalidation_2-rmsle:0.07309\n",
      "[13]\tvalidation_0-rmsle:0.07030\tvalidation_1-rmsle:0.07437\tvalidation_2-rmsle:0.07019\n",
      "[14]\tvalidation_0-rmsle:0.06856\tvalidation_1-rmsle:0.07284\tvalidation_2-rmsle:0.06868\n",
      "[15]\tvalidation_0-rmsle:0.06753\tvalidation_1-rmsle:0.07202\tvalidation_2-rmsle:0.06785\n",
      "[16]\tvalidation_0-rmsle:0.06646\tvalidation_1-rmsle:0.07112\tvalidation_2-rmsle:0.06692\n",
      "[17]\tvalidation_0-rmsle:0.06522\tvalidation_1-rmsle:0.07004\tvalidation_2-rmsle:0.06577\n",
      "[18]\tvalidation_0-rmsle:0.06470\tvalidation_1-rmsle:0.06963\tvalidation_2-rmsle:0.06528\n",
      "[19]\tvalidation_0-rmsle:0.06371\tvalidation_1-rmsle:0.06889\tvalidation_2-rmsle:0.06454\n",
      "[20]\tvalidation_0-rmsle:0.06342\tvalidation_1-rmsle:0.06871\tvalidation_2-rmsle:0.06431\n",
      "[21]\tvalidation_0-rmsle:0.06274\tvalidation_1-rmsle:0.06828\tvalidation_2-rmsle:0.06357\n",
      "[22]\tvalidation_0-rmsle:0.06214\tvalidation_1-rmsle:0.06780\tvalidation_2-rmsle:0.06307\n",
      "[23]\tvalidation_0-rmsle:0.06139\tvalidation_1-rmsle:0.06725\tvalidation_2-rmsle:0.06261\n",
      "[24]\tvalidation_0-rmsle:0.06108\tvalidation_1-rmsle:0.06702\tvalidation_2-rmsle:0.06245\n",
      "[25]\tvalidation_0-rmsle:0.06072\tvalidation_1-rmsle:0.06671\tvalidation_2-rmsle:0.06210\n",
      "[26]\tvalidation_0-rmsle:0.06033\tvalidation_1-rmsle:0.06640\tvalidation_2-rmsle:0.06178\n",
      "[27]\tvalidation_0-rmsle:0.05995\tvalidation_1-rmsle:0.06616\tvalidation_2-rmsle:0.06157\n",
      "[28]\tvalidation_0-rmsle:0.05929\tvalidation_1-rmsle:0.06589\tvalidation_2-rmsle:0.06097\n",
      "[29]\tvalidation_0-rmsle:0.05895\tvalidation_1-rmsle:0.06562\tvalidation_2-rmsle:0.06074\n",
      "[30]\tvalidation_0-rmsle:0.05856\tvalidation_1-rmsle:0.06543\tvalidation_2-rmsle:0.06051\n",
      "[31]\tvalidation_0-rmsle:0.05834\tvalidation_1-rmsle:0.06524\tvalidation_2-rmsle:0.06046\n",
      "[32]\tvalidation_0-rmsle:0.05799\tvalidation_1-rmsle:0.06500\tvalidation_2-rmsle:0.06022\n",
      "[33]\tvalidation_0-rmsle:0.05758\tvalidation_1-rmsle:0.06463\tvalidation_2-rmsle:0.05991\n",
      "[34]\tvalidation_0-rmsle:0.05729\tvalidation_1-rmsle:0.06451\tvalidation_2-rmsle:0.05989\n",
      "[35]\tvalidation_0-rmsle:0.05692\tvalidation_1-rmsle:0.06432\tvalidation_2-rmsle:0.05962\n",
      "[36]\tvalidation_0-rmsle:0.05653\tvalidation_1-rmsle:0.06419\tvalidation_2-rmsle:0.05948\n",
      "[37]\tvalidation_0-rmsle:0.05634\tvalidation_1-rmsle:0.06416\tvalidation_2-rmsle:0.05949\n",
      "[38]\tvalidation_0-rmsle:0.05604\tvalidation_1-rmsle:0.06394\tvalidation_2-rmsle:0.05929\n",
      "[39]\tvalidation_0-rmsle:0.05577\tvalidation_1-rmsle:0.06381\tvalidation_2-rmsle:0.05914\n",
      "[40]\tvalidation_0-rmsle:0.05553\tvalidation_1-rmsle:0.06371\tvalidation_2-rmsle:0.05903\n",
      "[41]\tvalidation_0-rmsle:0.05533\tvalidation_1-rmsle:0.06363\tvalidation_2-rmsle:0.05894\n",
      "[42]\tvalidation_0-rmsle:0.05498\tvalidation_1-rmsle:0.06327\tvalidation_2-rmsle:0.05874\n",
      "[43]\tvalidation_0-rmsle:0.05470\tvalidation_1-rmsle:0.06309\tvalidation_2-rmsle:0.05838\n",
      "[44]\tvalidation_0-rmsle:0.05446\tvalidation_1-rmsle:0.06285\tvalidation_2-rmsle:0.05822\n",
      "[45]\tvalidation_0-rmsle:0.05405\tvalidation_1-rmsle:0.06260\tvalidation_2-rmsle:0.05781\n",
      "[46]\tvalidation_0-rmsle:0.05390\tvalidation_1-rmsle:0.06255\tvalidation_2-rmsle:0.05775\n",
      "[47]\tvalidation_0-rmsle:0.05373\tvalidation_1-rmsle:0.06239\tvalidation_2-rmsle:0.05771\n",
      "[48]\tvalidation_0-rmsle:0.05350\tvalidation_1-rmsle:0.06219\tvalidation_2-rmsle:0.05756\n",
      "[49]\tvalidation_0-rmsle:0.05319\tvalidation_1-rmsle:0.06208\tvalidation_2-rmsle:0.05740\n",
      "[50]\tvalidation_0-rmsle:0.05296\tvalidation_1-rmsle:0.06196\tvalidation_2-rmsle:0.05723\n",
      "[51]\tvalidation_0-rmsle:0.05271\tvalidation_1-rmsle:0.06176\tvalidation_2-rmsle:0.05710\n",
      "[52]\tvalidation_0-rmsle:0.05260\tvalidation_1-rmsle:0.06174\tvalidation_2-rmsle:0.05705\n",
      "[53]\tvalidation_0-rmsle:0.05242\tvalidation_1-rmsle:0.06173\tvalidation_2-rmsle:0.05695\n",
      "[54]\tvalidation_0-rmsle:0.05218\tvalidation_1-rmsle:0.06156\tvalidation_2-rmsle:0.05687\n",
      "[55]\tvalidation_0-rmsle:0.05195\tvalidation_1-rmsle:0.06140\tvalidation_2-rmsle:0.05679\n",
      "[56]\tvalidation_0-rmsle:0.05178\tvalidation_1-rmsle:0.06132\tvalidation_2-rmsle:0.05673\n",
      "[57]\tvalidation_0-rmsle:0.05162\tvalidation_1-rmsle:0.06128\tvalidation_2-rmsle:0.05666\n",
      "[58]\tvalidation_0-rmsle:0.05159\tvalidation_1-rmsle:0.06129\tvalidation_2-rmsle:0.05661\n",
      "[59]\tvalidation_0-rmsle:0.05137\tvalidation_1-rmsle:0.06116\tvalidation_2-rmsle:0.05651\n",
      "[60]\tvalidation_0-rmsle:0.05127\tvalidation_1-rmsle:0.06106\tvalidation_2-rmsle:0.05647\n",
      "[61]\tvalidation_0-rmsle:0.05115\tvalidation_1-rmsle:0.06102\tvalidation_2-rmsle:0.05649\n",
      "[62]\tvalidation_0-rmsle:0.05109\tvalidation_1-rmsle:0.06106\tvalidation_2-rmsle:0.05645\n",
      "[63]\tvalidation_0-rmsle:0.05095\tvalidation_1-rmsle:0.06108\tvalidation_2-rmsle:0.05647\n",
      "[64]\tvalidation_0-rmsle:0.05085\tvalidation_1-rmsle:0.06101\tvalidation_2-rmsle:0.05647\n",
      "[65]\tvalidation_0-rmsle:0.05072\tvalidation_1-rmsle:0.06095\tvalidation_2-rmsle:0.05644\n",
      "[66]\tvalidation_0-rmsle:0.05055\tvalidation_1-rmsle:0.06081\tvalidation_2-rmsle:0.05632\n",
      "[67]\tvalidation_0-rmsle:0.05041\tvalidation_1-rmsle:0.06069\tvalidation_2-rmsle:0.05626\n",
      "[68]\tvalidation_0-rmsle:0.05030\tvalidation_1-rmsle:0.06065\tvalidation_2-rmsle:0.05619\n",
      "[69]\tvalidation_0-rmsle:0.05009\tvalidation_1-rmsle:0.06052\tvalidation_2-rmsle:0.05609\n",
      "[70]\tvalidation_0-rmsle:0.04997\tvalidation_1-rmsle:0.06047\tvalidation_2-rmsle:0.05608\n",
      "[71]\tvalidation_0-rmsle:0.04982\tvalidation_1-rmsle:0.06043\tvalidation_2-rmsle:0.05603\n",
      "[72]\tvalidation_0-rmsle:0.04970\tvalidation_1-rmsle:0.06035\tvalidation_2-rmsle:0.05597\n",
      "[73]\tvalidation_0-rmsle:0.04959\tvalidation_1-rmsle:0.06026\tvalidation_2-rmsle:0.05595\n",
      "[74]\tvalidation_0-rmsle:0.04949\tvalidation_1-rmsle:0.06020\tvalidation_2-rmsle:0.05594\n",
      "[75]\tvalidation_0-rmsle:0.04942\tvalidation_1-rmsle:0.06018\tvalidation_2-rmsle:0.05592\n",
      "[76]\tvalidation_0-rmsle:0.04927\tvalidation_1-rmsle:0.06014\tvalidation_2-rmsle:0.05591\n",
      "[77]\tvalidation_0-rmsle:0.04920\tvalidation_1-rmsle:0.06012\tvalidation_2-rmsle:0.05586\n",
      "[78]\tvalidation_0-rmsle:0.04902\tvalidation_1-rmsle:0.06003\tvalidation_2-rmsle:0.05584\n",
      "[79]\tvalidation_0-rmsle:0.04888\tvalidation_1-rmsle:0.06001\tvalidation_2-rmsle:0.05582\n",
      "[80]\tvalidation_0-rmsle:0.04879\tvalidation_1-rmsle:0.05996\tvalidation_2-rmsle:0.05582\n",
      "[81]\tvalidation_0-rmsle:0.04870\tvalidation_1-rmsle:0.05992\tvalidation_2-rmsle:0.05578\n",
      "[82]\tvalidation_0-rmsle:0.04864\tvalidation_1-rmsle:0.05990\tvalidation_2-rmsle:0.05579\n",
      "[83]\tvalidation_0-rmsle:0.04846\tvalidation_1-rmsle:0.05997\tvalidation_2-rmsle:0.05568\n",
      "[84]\tvalidation_0-rmsle:0.04838\tvalidation_1-rmsle:0.05993\tvalidation_2-rmsle:0.05562\n",
      "[85]\tvalidation_0-rmsle:0.04825\tvalidation_1-rmsle:0.05990\tvalidation_2-rmsle:0.05564\n",
      "[86]\tvalidation_0-rmsle:0.04812\tvalidation_1-rmsle:0.05985\tvalidation_2-rmsle:0.05558\n",
      "[87]\tvalidation_0-rmsle:0.04805\tvalidation_1-rmsle:0.05980\tvalidation_2-rmsle:0.05558\n",
      "[88]\tvalidation_0-rmsle:0.04789\tvalidation_1-rmsle:0.05976\tvalidation_2-rmsle:0.05550\n",
      "[89]\tvalidation_0-rmsle:0.04783\tvalidation_1-rmsle:0.05970\tvalidation_2-rmsle:0.05545\n",
      "[90]\tvalidation_0-rmsle:0.04777\tvalidation_1-rmsle:0.05966\tvalidation_2-rmsle:0.05542\n",
      "[91]\tvalidation_0-rmsle:0.04764\tvalidation_1-rmsle:0.05955\tvalidation_2-rmsle:0.05532\n",
      "[92]\tvalidation_0-rmsle:0.04756\tvalidation_1-rmsle:0.05952\tvalidation_2-rmsle:0.05529\n",
      "[93]\tvalidation_0-rmsle:0.04741\tvalidation_1-rmsle:0.05948\tvalidation_2-rmsle:0.05523\n"
     ]
    },
    {
     "name": "stdout",
     "output_type": "stream",
     "text": [
      "[94]\tvalidation_0-rmsle:0.04732\tvalidation_1-rmsle:0.05944\tvalidation_2-rmsle:0.05528\n",
      "[95]\tvalidation_0-rmsle:0.04725\tvalidation_1-rmsle:0.05935\tvalidation_2-rmsle:0.05521\n",
      "[96]\tvalidation_0-rmsle:0.04717\tvalidation_1-rmsle:0.05937\tvalidation_2-rmsle:0.05521\n",
      "[97]\tvalidation_0-rmsle:0.04703\tvalidation_1-rmsle:0.05927\tvalidation_2-rmsle:0.05508\n",
      "[98]\tvalidation_0-rmsle:0.04694\tvalidation_1-rmsle:0.05927\tvalidation_2-rmsle:0.05506\n",
      "[99]\tvalidation_0-rmsle:0.04684\tvalidation_1-rmsle:0.05925\tvalidation_2-rmsle:0.05502\n",
      "[100]\tvalidation_0-rmsle:0.04678\tvalidation_1-rmsle:0.05928\tvalidation_2-rmsle:0.05500\n",
      "[101]\tvalidation_0-rmsle:0.04670\tvalidation_1-rmsle:0.05926\tvalidation_2-rmsle:0.05496\n",
      "[102]\tvalidation_0-rmsle:0.04660\tvalidation_1-rmsle:0.05929\tvalidation_2-rmsle:0.05498\n",
      "[103]\tvalidation_0-rmsle:0.04652\tvalidation_1-rmsle:0.05928\tvalidation_2-rmsle:0.05496\n",
      "[104]\tvalidation_0-rmsle:0.04642\tvalidation_1-rmsle:0.05920\tvalidation_2-rmsle:0.05491\n",
      "[105]\tvalidation_0-rmsle:0.04634\tvalidation_1-rmsle:0.05916\tvalidation_2-rmsle:0.05493\n",
      "[106]\tvalidation_0-rmsle:0.04625\tvalidation_1-rmsle:0.05912\tvalidation_2-rmsle:0.05492\n",
      "[107]\tvalidation_0-rmsle:0.04618\tvalidation_1-rmsle:0.05911\tvalidation_2-rmsle:0.05495\n",
      "[108]\tvalidation_0-rmsle:0.04608\tvalidation_1-rmsle:0.05905\tvalidation_2-rmsle:0.05490\n",
      "[109]\tvalidation_0-rmsle:0.04598\tvalidation_1-rmsle:0.05902\tvalidation_2-rmsle:0.05489\n",
      "[110]\tvalidation_0-rmsle:0.04595\tvalidation_1-rmsle:0.05897\tvalidation_2-rmsle:0.05484\n",
      "[111]\tvalidation_0-rmsle:0.04589\tvalidation_1-rmsle:0.05896\tvalidation_2-rmsle:0.05483\n",
      "[112]\tvalidation_0-rmsle:0.04582\tvalidation_1-rmsle:0.05896\tvalidation_2-rmsle:0.05484\n",
      "[113]\tvalidation_0-rmsle:0.04577\tvalidation_1-rmsle:0.05899\tvalidation_2-rmsle:0.05487\n",
      "[114]\tvalidation_0-rmsle:0.04573\tvalidation_1-rmsle:0.05900\tvalidation_2-rmsle:0.05486\n",
      "[115]\tvalidation_0-rmsle:0.04568\tvalidation_1-rmsle:0.05897\tvalidation_2-rmsle:0.05489\n",
      "[116]\tvalidation_0-rmsle:0.04557\tvalidation_1-rmsle:0.05899\tvalidation_2-rmsle:0.05485\n",
      "[117]\tvalidation_0-rmsle:0.04551\tvalidation_1-rmsle:0.05898\tvalidation_2-rmsle:0.05480\n",
      "[118]\tvalidation_0-rmsle:0.04537\tvalidation_1-rmsle:0.05886\tvalidation_2-rmsle:0.05475\n",
      "[119]\tvalidation_0-rmsle:0.04532\tvalidation_1-rmsle:0.05882\tvalidation_2-rmsle:0.05468\n",
      "[120]\tvalidation_0-rmsle:0.04523\tvalidation_1-rmsle:0.05880\tvalidation_2-rmsle:0.05471\n",
      "[121]\tvalidation_0-rmsle:0.04518\tvalidation_1-rmsle:0.05881\tvalidation_2-rmsle:0.05469\n",
      "[122]\tvalidation_0-rmsle:0.04509\tvalidation_1-rmsle:0.05880\tvalidation_2-rmsle:0.05470\n",
      "[123]\tvalidation_0-rmsle:0.04498\tvalidation_1-rmsle:0.05884\tvalidation_2-rmsle:0.05476\n",
      "[124]\tvalidation_0-rmsle:0.04486\tvalidation_1-rmsle:0.05877\tvalidation_2-rmsle:0.05470\n",
      "[125]\tvalidation_0-rmsle:0.04473\tvalidation_1-rmsle:0.05863\tvalidation_2-rmsle:0.05470\n",
      "[126]\tvalidation_0-rmsle:0.04460\tvalidation_1-rmsle:0.05855\tvalidation_2-rmsle:0.05468\n",
      "[127]\tvalidation_0-rmsle:0.04454\tvalidation_1-rmsle:0.05854\tvalidation_2-rmsle:0.05466\n",
      "[128]\tvalidation_0-rmsle:0.04448\tvalidation_1-rmsle:0.05855\tvalidation_2-rmsle:0.05464\n",
      "[129]\tvalidation_0-rmsle:0.04440\tvalidation_1-rmsle:0.05850\tvalidation_2-rmsle:0.05464\n",
      "[130]\tvalidation_0-rmsle:0.04436\tvalidation_1-rmsle:0.05848\tvalidation_2-rmsle:0.05460\n",
      "[131]\tvalidation_0-rmsle:0.04429\tvalidation_1-rmsle:0.05850\tvalidation_2-rmsle:0.05460\n",
      "[132]\tvalidation_0-rmsle:0.04422\tvalidation_1-rmsle:0.05852\tvalidation_2-rmsle:0.05459\n",
      "[133]\tvalidation_0-rmsle:0.04411\tvalidation_1-rmsle:0.05853\tvalidation_2-rmsle:0.05464\n",
      "[134]\tvalidation_0-rmsle:0.04406\tvalidation_1-rmsle:0.05850\tvalidation_2-rmsle:0.05460\n",
      "[135]\tvalidation_0-rmsle:0.04397\tvalidation_1-rmsle:0.05849\tvalidation_2-rmsle:0.05458\n",
      "[136]\tvalidation_0-rmsle:0.04389\tvalidation_1-rmsle:0.05841\tvalidation_2-rmsle:0.05449\n",
      "[137]\tvalidation_0-rmsle:0.04382\tvalidation_1-rmsle:0.05837\tvalidation_2-rmsle:0.05450\n",
      "[138]\tvalidation_0-rmsle:0.04373\tvalidation_1-rmsle:0.05830\tvalidation_2-rmsle:0.05452\n",
      "[139]\tvalidation_0-rmsle:0.04368\tvalidation_1-rmsle:0.05827\tvalidation_2-rmsle:0.05451\n",
      "[140]\tvalidation_0-rmsle:0.04360\tvalidation_1-rmsle:0.05830\tvalidation_2-rmsle:0.05450\n",
      "[141]\tvalidation_0-rmsle:0.04353\tvalidation_1-rmsle:0.05828\tvalidation_2-rmsle:0.05448\n",
      "[142]\tvalidation_0-rmsle:0.04345\tvalidation_1-rmsle:0.05829\tvalidation_2-rmsle:0.05454\n",
      "[143]\tvalidation_0-rmsle:0.04338\tvalidation_1-rmsle:0.05821\tvalidation_2-rmsle:0.05450\n",
      "[144]\tvalidation_0-rmsle:0.04333\tvalidation_1-rmsle:0.05819\tvalidation_2-rmsle:0.05454\n",
      "[145]\tvalidation_0-rmsle:0.04326\tvalidation_1-rmsle:0.05813\tvalidation_2-rmsle:0.05450\n",
      "[146]\tvalidation_0-rmsle:0.04319\tvalidation_1-rmsle:0.05809\tvalidation_2-rmsle:0.05455\n",
      "[147]\tvalidation_0-rmsle:0.04312\tvalidation_1-rmsle:0.05804\tvalidation_2-rmsle:0.05452\n",
      "[148]\tvalidation_0-rmsle:0.04306\tvalidation_1-rmsle:0.05808\tvalidation_2-rmsle:0.05452\n",
      "[149]\tvalidation_0-rmsle:0.04299\tvalidation_1-rmsle:0.05804\tvalidation_2-rmsle:0.05447\n",
      "[150]\tvalidation_0-rmsle:0.04294\tvalidation_1-rmsle:0.05797\tvalidation_2-rmsle:0.05433\n",
      "[151]\tvalidation_0-rmsle:0.04288\tvalidation_1-rmsle:0.05796\tvalidation_2-rmsle:0.05432\n",
      "[152]\tvalidation_0-rmsle:0.04280\tvalidation_1-rmsle:0.05803\tvalidation_2-rmsle:0.05431\n",
      "[153]\tvalidation_0-rmsle:0.04277\tvalidation_1-rmsle:0.05806\tvalidation_2-rmsle:0.05434\n",
      "[154]\tvalidation_0-rmsle:0.04266\tvalidation_1-rmsle:0.05799\tvalidation_2-rmsle:0.05426\n",
      "[155]\tvalidation_0-rmsle:0.04255\tvalidation_1-rmsle:0.05791\tvalidation_2-rmsle:0.05423\n",
      "[156]\tvalidation_0-rmsle:0.04246\tvalidation_1-rmsle:0.05790\tvalidation_2-rmsle:0.05420\n",
      "[157]\tvalidation_0-rmsle:0.04238\tvalidation_1-rmsle:0.05790\tvalidation_2-rmsle:0.05420\n",
      "[158]\tvalidation_0-rmsle:0.04235\tvalidation_1-rmsle:0.05793\tvalidation_2-rmsle:0.05422\n",
      "[159]\tvalidation_0-rmsle:0.04227\tvalidation_1-rmsle:0.05788\tvalidation_2-rmsle:0.05418\n",
      "[160]\tvalidation_0-rmsle:0.04218\tvalidation_1-rmsle:0.05784\tvalidation_2-rmsle:0.05414\n",
      "[161]\tvalidation_0-rmsle:0.04211\tvalidation_1-rmsle:0.05787\tvalidation_2-rmsle:0.05412\n",
      "[162]\tvalidation_0-rmsle:0.04205\tvalidation_1-rmsle:0.05781\tvalidation_2-rmsle:0.05416\n",
      "[163]\tvalidation_0-rmsle:0.04202\tvalidation_1-rmsle:0.05783\tvalidation_2-rmsle:0.05413\n",
      "[164]\tvalidation_0-rmsle:0.04194\tvalidation_1-rmsle:0.05778\tvalidation_2-rmsle:0.05413\n",
      "[165]\tvalidation_0-rmsle:0.04182\tvalidation_1-rmsle:0.05783\tvalidation_2-rmsle:0.05413\n",
      "[166]\tvalidation_0-rmsle:0.04175\tvalidation_1-rmsle:0.05780\tvalidation_2-rmsle:0.05404\n",
      "[167]\tvalidation_0-rmsle:0.04170\tvalidation_1-rmsle:0.05781\tvalidation_2-rmsle:0.05410\n",
      "[168]\tvalidation_0-rmsle:0.04165\tvalidation_1-rmsle:0.05781\tvalidation_2-rmsle:0.05413\n",
      "[169]\tvalidation_0-rmsle:0.04157\tvalidation_1-rmsle:0.05778\tvalidation_2-rmsle:0.05411\n",
      "[170]\tvalidation_0-rmsle:0.04149\tvalidation_1-rmsle:0.05778\tvalidation_2-rmsle:0.05412\n",
      "[171]\tvalidation_0-rmsle:0.04143\tvalidation_1-rmsle:0.05769\tvalidation_2-rmsle:0.05410\n",
      "[172]\tvalidation_0-rmsle:0.04136\tvalidation_1-rmsle:0.05771\tvalidation_2-rmsle:0.05410\n",
      "[173]\tvalidation_0-rmsle:0.04129\tvalidation_1-rmsle:0.05777\tvalidation_2-rmsle:0.05410\n",
      "[174]\tvalidation_0-rmsle:0.04120\tvalidation_1-rmsle:0.05774\tvalidation_2-rmsle:0.05409\n",
      "[175]\tvalidation_0-rmsle:0.04118\tvalidation_1-rmsle:0.05775\tvalidation_2-rmsle:0.05412\n",
      "[176]\tvalidation_0-rmsle:0.04113\tvalidation_1-rmsle:0.05774\tvalidation_2-rmsle:0.05414\n",
      "[177]\tvalidation_0-rmsle:0.04110\tvalidation_1-rmsle:0.05774\tvalidation_2-rmsle:0.05411\n",
      "[178]\tvalidation_0-rmsle:0.04107\tvalidation_1-rmsle:0.05771\tvalidation_2-rmsle:0.05412\n",
      "[179]\tvalidation_0-rmsle:0.04101\tvalidation_1-rmsle:0.05765\tvalidation_2-rmsle:0.05415\n",
      "[180]\tvalidation_0-rmsle:0.04095\tvalidation_1-rmsle:0.05762\tvalidation_2-rmsle:0.05417\n",
      "[181]\tvalidation_0-rmsle:0.04092\tvalidation_1-rmsle:0.05762\tvalidation_2-rmsle:0.05414\n",
      "[182]\tvalidation_0-rmsle:0.04084\tvalidation_1-rmsle:0.05759\tvalidation_2-rmsle:0.05409\n",
      "[183]\tvalidation_0-rmsle:0.04079\tvalidation_1-rmsle:0.05765\tvalidation_2-rmsle:0.05409\n",
      "[184]\tvalidation_0-rmsle:0.04073\tvalidation_1-rmsle:0.05762\tvalidation_2-rmsle:0.05413\n",
      "[185]\tvalidation_0-rmsle:0.04064\tvalidation_1-rmsle:0.05755\tvalidation_2-rmsle:0.05409\n",
      "[186]\tvalidation_0-rmsle:0.04059\tvalidation_1-rmsle:0.05755\tvalidation_2-rmsle:0.05413\n",
      "[187]\tvalidation_0-rmsle:0.04053\tvalidation_1-rmsle:0.05753\tvalidation_2-rmsle:0.05409\n",
      "[188]\tvalidation_0-rmsle:0.04047\tvalidation_1-rmsle:0.05750\tvalidation_2-rmsle:0.05414\n"
     ]
    },
    {
     "name": "stdout",
     "output_type": "stream",
     "text": [
      "[189]\tvalidation_0-rmsle:0.04045\tvalidation_1-rmsle:0.05745\tvalidation_2-rmsle:0.05413\n",
      "[190]\tvalidation_0-rmsle:0.04034\tvalidation_1-rmsle:0.05751\tvalidation_2-rmsle:0.05412\n",
      "[191]\tvalidation_0-rmsle:0.04027\tvalidation_1-rmsle:0.05748\tvalidation_2-rmsle:0.05413\n",
      "Stopping. Best iteration:\n",
      "[166]\tvalidation_0-rmsle:0.04175\tvalidation_1-rmsle:0.05780\tvalidation_2-rmsle:0.05404\n",
      "\n",
      "Train 95.36335114107116\n",
      "Test 91.57302509216171\n"
     ]
    }
   ],
   "source": [
    "#reg = XGBRegressor(objective='reg:squaredlogerror' ,n_jobs=-1,n_estimators=500,verbosity=1,eta=0.4,gamma=0.001,max_depth= 6, min_child_weight= 1)\n",
    "eval_set = [(x_train, y_train),(x_test, y_test),(x_valid,y_valid) ]\n",
    "reg = XGBRegressor(objective='reg:squaredlogerror' ,n_jobs=-1,n_estimators=1000,eta=0.4,max_depth=6,gamma=0.001,min_child_weight= 0.001,subsample=0.5)\n",
    "\n",
    "score = reg.fit(x_train,y_train,verbose=True,eval_metric=['rmsle'],eval_set=eval_set,early_stopping_rounds=25)\n",
    "pred = score.predict(x_train)\n",
    "train_acc = 100-mean_squared_log_error(np.exp(y_train),np.exp(pred))*100\n",
    "test_acc = 100-mean_squared_log_error(np.exp(y_test),np.exp(score.predict(x_test)))*100\n",
    "#train_acc = 100-mean_squared_log_error(y_train,pred)*100\n",
    "#test_acc = 100-mean_squared_log_error(y_test,score.predict(x_test))*100\n",
    "\n",
    "print('Train',train_acc)\n",
    "print('Test',test_acc)\n"
   ]
  },
  {
   "cell_type": "code",
   "execution_count": 69,
   "metadata": {},
   "outputs": [
    {
     "data": {
      "text/plain": [
       "{'objective': 'reg:squaredlogerror',\n",
       " 'base_score': None,\n",
       " 'booster': None,\n",
       " 'colsample_bylevel': None,\n",
       " 'colsample_bynode': None,\n",
       " 'colsample_bytree': None,\n",
       " 'gamma': None,\n",
       " 'gpu_id': None,\n",
       " 'interaction_constraints': None,\n",
       " 'learning_rate': None,\n",
       " 'max_delta_step': None,\n",
       " 'max_depth': None,\n",
       " 'min_child_weight': None,\n",
       " 'monotone_constraints': None,\n",
       " 'n_jobs': -1,\n",
       " 'num_parallel_tree': None,\n",
       " 'random_state': None,\n",
       " 'reg_alpha': None,\n",
       " 'reg_lambda': None,\n",
       " 'scale_pos_weight': None,\n",
       " 'subsample': None,\n",
       " 'tree_method': None,\n",
       " 'validate_parameters': None,\n",
       " 'verbosity': None,\n",
       " 'eta': 0.4}"
      ]
     },
     "execution_count": 69,
     "metadata": {},
     "output_type": "execute_result"
    }
   ],
   "source": [
    "reg.get_xgb_params()"
   ]
  },
  {
   "cell_type": "code",
   "execution_count": 115,
   "metadata": {},
   "outputs": [],
   "source": [
    "params = {\n",
    "    'min_child_weight':[4,5],\n",
    "    'gamma':[i/10.0 for i in range(3,6)],\n",
    "    'subsample':[i/10.0 for i in range(6,11)],\n",
    "    'colsample_bytree':[i/10.0 for i in range(6,11)], 'max_depth': [3,4,5,6,7,8,9],\n",
    "    'objective': ['reg:squaredlogerror'],\n",
    "    'eval_metric':['rmsle']\n",
    "    \n",
    "}"
   ]
  },
  {
   "cell_type": "code",
   "execution_count": 116,
   "metadata": {},
   "outputs": [],
   "source": [
    "from sklearn.model_selection import GridSearchCV"
   ]
  },
  {
   "cell_type": "code",
   "execution_count": 120,
   "metadata": {},
   "outputs": [],
   "source": [
    "import sklearn"
   ]
  },
  {
   "cell_type": "code",
   "execution_count": 119,
   "metadata": {},
   "outputs": [
    {
     "ename": "NameError",
     "evalue": "name 'sklearn' is not defined",
     "output_type": "error",
     "traceback": [
      "\u001b[1;31m---------------------------------------------------------------------------\u001b[0m",
      "\u001b[1;31mNameError\u001b[0m                                 Traceback (most recent call last)",
      "\u001b[1;32m<ipython-input-119-821a98fe6346>\u001b[0m in \u001b[0;36m<module>\u001b[1;34m\u001b[0m\n\u001b[1;32m----> 1\u001b[1;33m \u001b[0msklearn\u001b[0m\u001b[1;33m.\u001b[0m\u001b[0mmetrics\u001b[0m\u001b[1;33m.\u001b[0m\u001b[0mSCORERS\u001b[0m\u001b[1;33m.\u001b[0m\u001b[0mkeys\u001b[0m\u001b[1;33m(\u001b[0m\u001b[1;33m)\u001b[0m\u001b[1;33m\u001b[0m\u001b[1;33m\u001b[0m\u001b[0m\n\u001b[0m",
      "\u001b[1;31mNameError\u001b[0m: name 'sklearn' is not defined"
     ]
    }
   ],
   "source": [
    "sklearn.metrics.SCORERS.keys()"
   ]
  },
  {
   "cell_type": "code",
   "execution_count": 118,
   "metadata": {
    "scrolled": true
   },
   "outputs": [
    {
     "ename": "ValueError",
     "evalue": "'rmsle' is not a valid scoring value. Use sorted(sklearn.metrics.SCORERS.keys()) to get valid options.",
     "output_type": "error",
     "traceback": [
      "\u001b[1;31m---------------------------------------------------------------------------\u001b[0m",
      "\u001b[1;31mKeyError\u001b[0m                                  Traceback (most recent call last)",
      "\u001b[1;32mG:\\Installed\\envs\\tensorflowenv\\lib\\site-packages\\sklearn\\metrics\\_scorer.py\u001b[0m in \u001b[0;36mget_scorer\u001b[1;34m(scoring)\u001b[0m\n\u001b[0;32m    359\u001b[0m             \u001b[1;32melse\u001b[0m\u001b[1;33m:\u001b[0m\u001b[1;33m\u001b[0m\u001b[1;33m\u001b[0m\u001b[0m\n\u001b[1;32m--> 360\u001b[1;33m                 \u001b[0mscorer\u001b[0m \u001b[1;33m=\u001b[0m \u001b[0mSCORERS\u001b[0m\u001b[1;33m[\u001b[0m\u001b[0mscoring\u001b[0m\u001b[1;33m]\u001b[0m\u001b[1;33m\u001b[0m\u001b[1;33m\u001b[0m\u001b[0m\n\u001b[0m\u001b[0;32m    361\u001b[0m         \u001b[1;32mexcept\u001b[0m \u001b[0mKeyError\u001b[0m\u001b[1;33m:\u001b[0m\u001b[1;33m\u001b[0m\u001b[1;33m\u001b[0m\u001b[0m\n",
      "\u001b[1;31mKeyError\u001b[0m: 'rmsle'",
      "\nDuring handling of the above exception, another exception occurred:\n",
      "\u001b[1;31mValueError\u001b[0m                                Traceback (most recent call last)",
      "\u001b[1;32m<ipython-input-118-f73372593931>\u001b[0m in \u001b[0;36m<module>\u001b[1;34m\u001b[0m\n\u001b[0;32m      2\u001b[0m \u001b[1;33m\u001b[0m\u001b[0m\n\u001b[0;32m      3\u001b[0m \u001b[0mgrid\u001b[0m \u001b[1;33m=\u001b[0m \u001b[0mGridSearchCV\u001b[0m\u001b[1;33m(\u001b[0m\u001b[0mxgb\u001b[0m\u001b[1;33m,\u001b[0m \u001b[0mparams\u001b[0m\u001b[1;33m,\u001b[0m\u001b[0mscoring\u001b[0m\u001b[1;33m=\u001b[0m\u001b[1;34m'rmsle'\u001b[0m\u001b[1;33m,\u001b[0m\u001b[0mcv\u001b[0m\u001b[1;33m=\u001b[0m\u001b[1;36m4\u001b[0m\u001b[1;33m,\u001b[0m\u001b[0mverbose\u001b[0m\u001b[1;33m=\u001b[0m\u001b[1;36m1\u001b[0m\u001b[1;33m)\u001b[0m\u001b[1;33m\u001b[0m\u001b[1;33m\u001b[0m\u001b[0m\n\u001b[1;32m----> 4\u001b[1;33m \u001b[0mgrid\u001b[0m\u001b[1;33m.\u001b[0m\u001b[0mfit\u001b[0m\u001b[1;33m(\u001b[0m\u001b[0mx_train\u001b[0m\u001b[1;33m,\u001b[0m \u001b[0my_train\u001b[0m\u001b[1;33m)\u001b[0m\u001b[1;33m\u001b[0m\u001b[1;33m\u001b[0m\u001b[0m\n\u001b[0m",
      "\u001b[1;32mG:\\Installed\\envs\\tensorflowenv\\lib\\site-packages\\sklearn\\utils\\validation.py\u001b[0m in \u001b[0;36minner_f\u001b[1;34m(*args, **kwargs)\u001b[0m\n\u001b[0;32m     70\u001b[0m                           FutureWarning)\n\u001b[0;32m     71\u001b[0m         \u001b[0mkwargs\u001b[0m\u001b[1;33m.\u001b[0m\u001b[0mupdate\u001b[0m\u001b[1;33m(\u001b[0m\u001b[1;33m{\u001b[0m\u001b[0mk\u001b[0m\u001b[1;33m:\u001b[0m \u001b[0marg\u001b[0m \u001b[1;32mfor\u001b[0m \u001b[0mk\u001b[0m\u001b[1;33m,\u001b[0m \u001b[0marg\u001b[0m \u001b[1;32min\u001b[0m \u001b[0mzip\u001b[0m\u001b[1;33m(\u001b[0m\u001b[0msig\u001b[0m\u001b[1;33m.\u001b[0m\u001b[0mparameters\u001b[0m\u001b[1;33m,\u001b[0m \u001b[0margs\u001b[0m\u001b[1;33m)\u001b[0m\u001b[1;33m}\u001b[0m\u001b[1;33m)\u001b[0m\u001b[1;33m\u001b[0m\u001b[1;33m\u001b[0m\u001b[0m\n\u001b[1;32m---> 72\u001b[1;33m         \u001b[1;32mreturn\u001b[0m \u001b[0mf\u001b[0m\u001b[1;33m(\u001b[0m\u001b[1;33m**\u001b[0m\u001b[0mkwargs\u001b[0m\u001b[1;33m)\u001b[0m\u001b[1;33m\u001b[0m\u001b[1;33m\u001b[0m\u001b[0m\n\u001b[0m\u001b[0;32m     73\u001b[0m     \u001b[1;32mreturn\u001b[0m \u001b[0minner_f\u001b[0m\u001b[1;33m\u001b[0m\u001b[1;33m\u001b[0m\u001b[0m\n\u001b[0;32m     74\u001b[0m \u001b[1;33m\u001b[0m\u001b[0m\n",
      "\u001b[1;32mG:\\Installed\\envs\\tensorflowenv\\lib\\site-packages\\sklearn\\model_selection\\_search.py\u001b[0m in \u001b[0;36mfit\u001b[1;34m(self, X, y, groups, **fit_params)\u001b[0m\n\u001b[0;32m    653\u001b[0m \u001b[1;33m\u001b[0m\u001b[0m\n\u001b[0;32m    654\u001b[0m         scorers, self.multimetric_ = _check_multimetric_scoring(\n\u001b[1;32m--> 655\u001b[1;33m             self.estimator, scoring=self.scoring)\n\u001b[0m\u001b[0;32m    656\u001b[0m \u001b[1;33m\u001b[0m\u001b[0m\n\u001b[0;32m    657\u001b[0m         \u001b[1;32mif\u001b[0m \u001b[0mself\u001b[0m\u001b[1;33m.\u001b[0m\u001b[0mmultimetric_\u001b[0m\u001b[1;33m:\u001b[0m\u001b[1;33m\u001b[0m\u001b[1;33m\u001b[0m\u001b[0m\n",
      "\u001b[1;32mG:\\Installed\\envs\\tensorflowenv\\lib\\site-packages\\sklearn\\metrics\\_scorer.py\u001b[0m in \u001b[0;36m_check_multimetric_scoring\u001b[1;34m(estimator, scoring)\u001b[0m\n\u001b[0;32m    473\u001b[0m     if callable(scoring) or scoring is None or isinstance(scoring,\n\u001b[0;32m    474\u001b[0m                                                           str):\n\u001b[1;32m--> 475\u001b[1;33m         \u001b[0mscorers\u001b[0m \u001b[1;33m=\u001b[0m \u001b[1;33m{\u001b[0m\u001b[1;34m\"score\"\u001b[0m\u001b[1;33m:\u001b[0m \u001b[0mcheck_scoring\u001b[0m\u001b[1;33m(\u001b[0m\u001b[0mestimator\u001b[0m\u001b[1;33m,\u001b[0m \u001b[0mscoring\u001b[0m\u001b[1;33m=\u001b[0m\u001b[0mscoring\u001b[0m\u001b[1;33m)\u001b[0m\u001b[1;33m}\u001b[0m\u001b[1;33m\u001b[0m\u001b[1;33m\u001b[0m\u001b[0m\n\u001b[0m\u001b[0;32m    476\u001b[0m         \u001b[1;32mreturn\u001b[0m \u001b[0mscorers\u001b[0m\u001b[1;33m,\u001b[0m \u001b[1;32mFalse\u001b[0m\u001b[1;33m\u001b[0m\u001b[1;33m\u001b[0m\u001b[0m\n\u001b[0;32m    477\u001b[0m     \u001b[1;32melse\u001b[0m\u001b[1;33m:\u001b[0m\u001b[1;33m\u001b[0m\u001b[1;33m\u001b[0m\u001b[0m\n",
      "\u001b[1;32mG:\\Installed\\envs\\tensorflowenv\\lib\\site-packages\\sklearn\\utils\\validation.py\u001b[0m in \u001b[0;36minner_f\u001b[1;34m(*args, **kwargs)\u001b[0m\n\u001b[0;32m     70\u001b[0m                           FutureWarning)\n\u001b[0;32m     71\u001b[0m         \u001b[0mkwargs\u001b[0m\u001b[1;33m.\u001b[0m\u001b[0mupdate\u001b[0m\u001b[1;33m(\u001b[0m\u001b[1;33m{\u001b[0m\u001b[0mk\u001b[0m\u001b[1;33m:\u001b[0m \u001b[0marg\u001b[0m \u001b[1;32mfor\u001b[0m \u001b[0mk\u001b[0m\u001b[1;33m,\u001b[0m \u001b[0marg\u001b[0m \u001b[1;32min\u001b[0m \u001b[0mzip\u001b[0m\u001b[1;33m(\u001b[0m\u001b[0msig\u001b[0m\u001b[1;33m.\u001b[0m\u001b[0mparameters\u001b[0m\u001b[1;33m,\u001b[0m \u001b[0margs\u001b[0m\u001b[1;33m)\u001b[0m\u001b[1;33m}\u001b[0m\u001b[1;33m)\u001b[0m\u001b[1;33m\u001b[0m\u001b[1;33m\u001b[0m\u001b[0m\n\u001b[1;32m---> 72\u001b[1;33m         \u001b[1;32mreturn\u001b[0m \u001b[0mf\u001b[0m\u001b[1;33m(\u001b[0m\u001b[1;33m**\u001b[0m\u001b[0mkwargs\u001b[0m\u001b[1;33m)\u001b[0m\u001b[1;33m\u001b[0m\u001b[1;33m\u001b[0m\u001b[0m\n\u001b[0m\u001b[0;32m     73\u001b[0m     \u001b[1;32mreturn\u001b[0m \u001b[0minner_f\u001b[0m\u001b[1;33m\u001b[0m\u001b[1;33m\u001b[0m\u001b[0m\n\u001b[0;32m     74\u001b[0m \u001b[1;33m\u001b[0m\u001b[0m\n",
      "\u001b[1;32mG:\\Installed\\envs\\tensorflowenv\\lib\\site-packages\\sklearn\\metrics\\_scorer.py\u001b[0m in \u001b[0;36mcheck_scoring\u001b[1;34m(estimator, scoring, allow_none)\u001b[0m\n\u001b[0;32m    403\u001b[0m                         \"'fit' method, %r was passed\" % estimator)\n\u001b[0;32m    404\u001b[0m     \u001b[1;32mif\u001b[0m \u001b[0misinstance\u001b[0m\u001b[1;33m(\u001b[0m\u001b[0mscoring\u001b[0m\u001b[1;33m,\u001b[0m \u001b[0mstr\u001b[0m\u001b[1;33m)\u001b[0m\u001b[1;33m:\u001b[0m\u001b[1;33m\u001b[0m\u001b[1;33m\u001b[0m\u001b[0m\n\u001b[1;32m--> 405\u001b[1;33m         \u001b[1;32mreturn\u001b[0m \u001b[0mget_scorer\u001b[0m\u001b[1;33m(\u001b[0m\u001b[0mscoring\u001b[0m\u001b[1;33m)\u001b[0m\u001b[1;33m\u001b[0m\u001b[1;33m\u001b[0m\u001b[0m\n\u001b[0m\u001b[0;32m    406\u001b[0m     \u001b[1;32melif\u001b[0m \u001b[0mcallable\u001b[0m\u001b[1;33m(\u001b[0m\u001b[0mscoring\u001b[0m\u001b[1;33m)\u001b[0m\u001b[1;33m:\u001b[0m\u001b[1;33m\u001b[0m\u001b[1;33m\u001b[0m\u001b[0m\n\u001b[0;32m    407\u001b[0m         \u001b[1;31m# Heuristic to ensure user has not passed a metric\u001b[0m\u001b[1;33m\u001b[0m\u001b[1;33m\u001b[0m\u001b[1;33m\u001b[0m\u001b[0m\n",
      "\u001b[1;32mG:\\Installed\\envs\\tensorflowenv\\lib\\site-packages\\sklearn\\metrics\\_scorer.py\u001b[0m in \u001b[0;36mget_scorer\u001b[1;34m(scoring)\u001b[0m\n\u001b[0;32m    362\u001b[0m             raise ValueError('%r is not a valid scoring value. '\n\u001b[0;32m    363\u001b[0m                              \u001b[1;34m'Use sorted(sklearn.metrics.SCORERS.keys()) '\u001b[0m\u001b[1;33m\u001b[0m\u001b[1;33m\u001b[0m\u001b[0m\n\u001b[1;32m--> 364\u001b[1;33m                              'to get valid options.' % scoring)\n\u001b[0m\u001b[0;32m    365\u001b[0m     \u001b[1;32melse\u001b[0m\u001b[1;33m:\u001b[0m\u001b[1;33m\u001b[0m\u001b[1;33m\u001b[0m\u001b[0m\n\u001b[0;32m    366\u001b[0m         \u001b[0mscorer\u001b[0m \u001b[1;33m=\u001b[0m \u001b[0mscoring\u001b[0m\u001b[1;33m\u001b[0m\u001b[1;33m\u001b[0m\u001b[0m\n",
      "\u001b[1;31mValueError\u001b[0m: 'rmsle' is not a valid scoring value. Use sorted(sklearn.metrics.SCORERS.keys()) to get valid options."
     ]
    }
   ],
   "source": [
    "xgb = XGBRegressor(nthread=-1) \n",
    "\n",
    "grid = GridSearchCV(xgb, params,scoring='rmsle',cv=4,verbose=1)\n",
    "grid.fit(x_train, y_train)\n"
   ]
  },
  {
   "cell_type": "code",
   "execution_count": 67,
   "metadata": {
    "scrolled": true
   },
   "outputs": [
    {
     "name": "stdout",
     "output_type": "stream",
     "text": [
      "Start cross validation\n",
      "[0]\ttrain-rmsle:1.04374+0.00061\ttest-rmsle:1.04377+0.00254\n",
      "[2]\ttrain-rmsle:0.69380+0.00050\ttest-rmsle:0.69382+0.00233\n",
      "[4]\ttrain-rmsle:0.41970+0.00036\ttest-rmsle:0.41972+0.00194\n",
      "[6]\ttrain-rmsle:0.23283+0.00016\ttest-rmsle:0.23310+0.00167\n",
      "[8]\ttrain-rmsle:0.12894+0.00014\ttest-rmsle:0.12966+0.00116\n",
      "[10]\ttrain-rmsle:0.08494+0.00017\ttest-rmsle:0.08640+0.00089\n",
      "[12]\ttrain-rmsle:0.07090+0.00033\ttest-rmsle:0.07302+0.00086\n",
      "[14]\ttrain-rmsle:0.06683+0.00043\ttest-rmsle:0.06939+0.00083\n",
      "[16]\ttrain-rmsle:0.06490+0.00062\ttest-rmsle:0.06763+0.00071\n",
      "[18]\ttrain-rmsle:0.06304+0.00033\ttest-rmsle:0.06606+0.00096\n",
      "[20]\ttrain-rmsle:0.06192+0.00040\ttest-rmsle:0.06532+0.00093\n",
      "[22]\ttrain-rmsle:0.06109+0.00050\ttest-rmsle:0.06476+0.00082\n",
      "[24]\ttrain-rmsle:0.06020+0.00039\ttest-rmsle:0.06412+0.00096\n",
      "[26]\ttrain-rmsle:0.05905+0.00035\ttest-rmsle:0.06325+0.00104\n",
      "[28]\ttrain-rmsle:0.05837+0.00040\ttest-rmsle:0.06282+0.00109\n",
      "[30]\ttrain-rmsle:0.05760+0.00054\ttest-rmsle:0.06229+0.00106\n",
      "[32]\ttrain-rmsle:0.05690+0.00046\ttest-rmsle:0.06186+0.00105\n",
      "[34]\ttrain-rmsle:0.05601+0.00055\ttest-rmsle:0.06123+0.00093\n",
      "[36]\ttrain-rmsle:0.05543+0.00048\ttest-rmsle:0.06085+0.00098\n",
      "[38]\ttrain-rmsle:0.05497+0.00050\ttest-rmsle:0.06058+0.00104\n",
      "[40]\ttrain-rmsle:0.05458+0.00056\ttest-rmsle:0.06038+0.00095\n",
      "[42]\ttrain-rmsle:0.05410+0.00060\ttest-rmsle:0.06011+0.00108\n",
      "[44]\ttrain-rmsle:0.05365+0.00058\ttest-rmsle:0.05986+0.00108\n",
      "[46]\ttrain-rmsle:0.05325+0.00056\ttest-rmsle:0.05964+0.00109\n",
      "[48]\ttrain-rmsle:0.05290+0.00062\ttest-rmsle:0.05947+0.00105\n",
      "[50]\ttrain-rmsle:0.05246+0.00049\ttest-rmsle:0.05922+0.00101\n",
      "[52]\ttrain-rmsle:0.05217+0.00054\ttest-rmsle:0.05913+0.00099\n",
      "[54]\ttrain-rmsle:0.05189+0.00058\ttest-rmsle:0.05900+0.00094\n",
      "[56]\ttrain-rmsle:0.05149+0.00072\ttest-rmsle:0.05882+0.00089\n",
      "[58]\ttrain-rmsle:0.05116+0.00068\ttest-rmsle:0.05868+0.00093\n",
      "[60]\ttrain-rmsle:0.05090+0.00060\ttest-rmsle:0.05854+0.00094\n",
      "[62]\ttrain-rmsle:0.05062+0.00054\ttest-rmsle:0.05839+0.00094\n",
      "[64]\ttrain-rmsle:0.05029+0.00051\ttest-rmsle:0.05824+0.00095\n",
      "[66]\ttrain-rmsle:0.05002+0.00048\ttest-rmsle:0.05808+0.00099\n",
      "[68]\ttrain-rmsle:0.04979+0.00048\ttest-rmsle:0.05796+0.00102\n",
      "[70]\ttrain-rmsle:0.04951+0.00043\ttest-rmsle:0.05784+0.00102\n",
      "[72]\ttrain-rmsle:0.04922+0.00038\ttest-rmsle:0.05773+0.00101\n",
      "[74]\ttrain-rmsle:0.04898+0.00043\ttest-rmsle:0.05765+0.00098\n",
      "[76]\ttrain-rmsle:0.04875+0.00044\ttest-rmsle:0.05758+0.00100\n",
      "[78]\ttrain-rmsle:0.04857+0.00049\ttest-rmsle:0.05750+0.00096\n",
      "[80]\ttrain-rmsle:0.04838+0.00045\ttest-rmsle:0.05741+0.00093\n",
      "[82]\ttrain-rmsle:0.04826+0.00042\ttest-rmsle:0.05736+0.00099\n",
      "[84]\ttrain-rmsle:0.04806+0.00037\ttest-rmsle:0.05728+0.00103\n",
      "[86]\ttrain-rmsle:0.04786+0.00040\ttest-rmsle:0.05720+0.00102\n",
      "[88]\ttrain-rmsle:0.04768+0.00045\ttest-rmsle:0.05713+0.00105\n",
      "[90]\ttrain-rmsle:0.04746+0.00047\ttest-rmsle:0.05704+0.00104\n",
      "[92]\ttrain-rmsle:0.04728+0.00048\ttest-rmsle:0.05698+0.00103\n",
      "[94]\ttrain-rmsle:0.04710+0.00048\ttest-rmsle:0.05692+0.00103\n",
      "[96]\ttrain-rmsle:0.04694+0.00049\ttest-rmsle:0.05690+0.00101\n",
      "[98]\ttrain-rmsle:0.04674+0.00049\ttest-rmsle:0.05683+0.00104\n",
      "[99]\ttrain-rmsle:0.04663+0.00054\ttest-rmsle:0.05680+0.00107\n"
     ]
    }
   ],
   "source": [
    "data_dmatrix = xgb.DMatrix(data=x_train,label=y_train)\n",
    "xgb_param = reg.get_xgb_params()\n",
    "#do cross validation\n",
    "print ('Start cross validation')\n",
    "cvresult = xgb.cv(xgb_param, data_dmatrix, num_boost_round=100, nfold=5, metrics=['rmsle'],early_stopping_rounds=20, seed=1301,verbose_eval=2)"
   ]
  },
  {
   "cell_type": "code",
   "execution_count": 68,
   "metadata": {},
   "outputs": [
    {
     "data": {
      "text/html": [
       "<div>\n",
       "<style scoped>\n",
       "    .dataframe tbody tr th:only-of-type {\n",
       "        vertical-align: middle;\n",
       "    }\n",
       "\n",
       "    .dataframe tbody tr th {\n",
       "        vertical-align: top;\n",
       "    }\n",
       "\n",
       "    .dataframe thead th {\n",
       "        text-align: right;\n",
       "    }\n",
       "</style>\n",
       "<table border=\"1\" class=\"dataframe\">\n",
       "  <thead>\n",
       "    <tr style=\"text-align: right;\">\n",
       "      <th></th>\n",
       "      <th>train-rmsle-mean</th>\n",
       "      <th>train-rmsle-std</th>\n",
       "      <th>test-rmsle-mean</th>\n",
       "      <th>test-rmsle-std</th>\n",
       "    </tr>\n",
       "  </thead>\n",
       "  <tbody>\n",
       "    <tr>\n",
       "      <th>0</th>\n",
       "      <td>1.043745</td>\n",
       "      <td>0.000605</td>\n",
       "      <td>1.043767</td>\n",
       "      <td>0.002541</td>\n",
       "    </tr>\n",
       "    <tr>\n",
       "      <th>1</th>\n",
       "      <td>0.860322</td>\n",
       "      <td>0.000554</td>\n",
       "      <td>0.860356</td>\n",
       "      <td>0.002477</td>\n",
       "    </tr>\n",
       "    <tr>\n",
       "      <th>2</th>\n",
       "      <td>0.693795</td>\n",
       "      <td>0.000498</td>\n",
       "      <td>0.693821</td>\n",
       "      <td>0.002326</td>\n",
       "    </tr>\n",
       "    <tr>\n",
       "      <th>3</th>\n",
       "      <td>0.546283</td>\n",
       "      <td>0.000431</td>\n",
       "      <td>0.546309</td>\n",
       "      <td>0.002162</td>\n",
       "    </tr>\n",
       "    <tr>\n",
       "      <th>4</th>\n",
       "      <td>0.419696</td>\n",
       "      <td>0.000361</td>\n",
       "      <td>0.419724</td>\n",
       "      <td>0.001942</td>\n",
       "    </tr>\n",
       "    <tr>\n",
       "      <th>...</th>\n",
       "      <td>...</td>\n",
       "      <td>...</td>\n",
       "      <td>...</td>\n",
       "      <td>...</td>\n",
       "    </tr>\n",
       "    <tr>\n",
       "      <th>95</th>\n",
       "      <td>0.047014</td>\n",
       "      <td>0.000488</td>\n",
       "      <td>0.056898</td>\n",
       "      <td>0.001019</td>\n",
       "    </tr>\n",
       "    <tr>\n",
       "      <th>96</th>\n",
       "      <td>0.046940</td>\n",
       "      <td>0.000490</td>\n",
       "      <td>0.056895</td>\n",
       "      <td>0.001015</td>\n",
       "    </tr>\n",
       "    <tr>\n",
       "      <th>97</th>\n",
       "      <td>0.046836</td>\n",
       "      <td>0.000467</td>\n",
       "      <td>0.056871</td>\n",
       "      <td>0.001044</td>\n",
       "    </tr>\n",
       "    <tr>\n",
       "      <th>98</th>\n",
       "      <td>0.046737</td>\n",
       "      <td>0.000492</td>\n",
       "      <td>0.056833</td>\n",
       "      <td>0.001043</td>\n",
       "    </tr>\n",
       "    <tr>\n",
       "      <th>99</th>\n",
       "      <td>0.046626</td>\n",
       "      <td>0.000543</td>\n",
       "      <td>0.056804</td>\n",
       "      <td>0.001066</td>\n",
       "    </tr>\n",
       "  </tbody>\n",
       "</table>\n",
       "<p>100 rows × 4 columns</p>\n",
       "</div>"
      ],
      "text/plain": [
       "    train-rmsle-mean  train-rmsle-std  test-rmsle-mean  test-rmsle-std\n",
       "0           1.043745         0.000605         1.043767        0.002541\n",
       "1           0.860322         0.000554         0.860356        0.002477\n",
       "2           0.693795         0.000498         0.693821        0.002326\n",
       "3           0.546283         0.000431         0.546309        0.002162\n",
       "4           0.419696         0.000361         0.419724        0.001942\n",
       "..               ...              ...              ...             ...\n",
       "95          0.047014         0.000488         0.056898        0.001019\n",
       "96          0.046940         0.000490         0.056895        0.001015\n",
       "97          0.046836         0.000467         0.056871        0.001044\n",
       "98          0.046737         0.000492         0.056833        0.001043\n",
       "99          0.046626         0.000543         0.056804        0.001066\n",
       "\n",
       "[100 rows x 4 columns]"
      ]
     },
     "execution_count": 68,
     "metadata": {},
     "output_type": "execute_result"
    }
   ],
   "source": [
    "cvresult"
   ]
  },
  {
   "cell_type": "code",
   "execution_count": null,
   "metadata": {},
   "outputs": [],
   "source": [
    "validation_0-rmsle:0.04115\tvalidation_1-rmsle:0.05546\tvalidation_2-rmsle:0.05218"
   ]
  },
  {
   "cell_type": "markdown",
   "metadata": {},
   "source": [
    "\n",
    "validation_0-rmsle:0.02974\tvalidation_1-rmsle:0.05053\tvalidation_2-rmsle:0.04940\n",
    "\n",
    "reg = XGBRegressor(objective='reg:squaredlogerror' ,n_jobs=-1,n_estimators=1000,eta=0.3,max_depth=9,gamma=0.00001)\n",
    "\n",
    "score = reg.fit(x_train,y_train,verbose=True,eval_metric=['rmsle'],eval_set=eval_set,early_stopping_rounds=20)\n"
   ]
  },
  {
   "cell_type": "markdown",
   "metadata": {},
   "source": [
    "results = reg.evals_result()\n",
    "epochs = len(results['validation_0']['rmsle'])\n",
    "x_axis = range(0, epochs)\n",
    "# plot log loss\n",
    "fig, ax = plt.subplots(figsize=(16,8))\n",
    "ax.plot(x_axis, results['validation_0']['rmsle'], label='Train')\n",
    "ax.plot(x_axis, results['validation_1']['rmsle'], label='Test')\n",
    "ax.plot(x_axis, results['validation_1']['rmsle'], label='Valid')\n",
    "\n",
    "ax.legend()\n",
    "plt.ylabel('rmsle ')\n",
    "plt.title('XGBoost rmsle ')\n",
    "plt.show()"
   ]
  },
  {
   "cell_type": "code",
   "execution_count": null,
   "metadata": {
    "scrolled": false
   },
   "outputs": [],
   "source": [
    "#fig,ax = plt.subplots(figsize=(12,12))\n",
    "plot_importance(reg)"
   ]
  },
  {
   "cell_type": "markdown",
   "metadata": {},
   "source": [
    "## Cross Validation"
   ]
  },
  {
   "cell_type": "code",
   "execution_count": null,
   "metadata": {},
   "outputs": [],
   "source": [
    "from sklearn.model_selection import KFold,cross_validate"
   ]
  },
  {
   "cell_type": "code",
   "execution_count": null,
   "metadata": {},
   "outputs": [],
   "source": [
    "scv = KFold(n_splits=5,shuffle=True,random_state=37)"
   ]
  },
  {
   "cell_type": "code",
   "execution_count": null,
   "metadata": {},
   "outputs": [],
   "source": [
    "score = cross_validate(reg,final_x,y,scoring='neg_mean_squared_log_error',cv=scv,n_jobs=3,verbose=2)"
   ]
  },
  {
   "cell_type": "code",
   "execution_count": null,
   "metadata": {},
   "outputs": [],
   "source": [
    "-1*score['test_score']"
   ]
  },
  {
   "cell_type": "code",
   "execution_count": null,
   "metadata": {},
   "outputs": [],
   "source": []
  },
  {
   "cell_type": "code",
   "execution_count": null,
   "metadata": {},
   "outputs": [],
   "source": [
    "plt.figure(figsize=(16,8))\n",
    "sns.lineplot(np.exp(y_train),np.exp(pred),alpha=0.2)"
   ]
  },
  {
   "cell_type": "markdown",
   "metadata": {},
   "source": [
    "## Prediction"
   ]
  },
  {
   "cell_type": "code",
   "execution_count": null,
   "metadata": {},
   "outputs": [],
   "source": [
    "#test = pd.read_csv('./Test-19-10.csv')\n",
    "test = test.drop(['ADDRESS','CITY'],axis=1)"
   ]
  },
  {
   "cell_type": "code",
   "execution_count": null,
   "metadata": {},
   "outputs": [],
   "source": [
    "test.head()"
   ]
  },
  {
   "cell_type": "code",
   "execution_count": null,
   "metadata": {},
   "outputs": [],
   "source": [
    "#encoded_cat = encoder.transform(test[cat_col])"
   ]
  },
  {
   "cell_type": "code",
   "execution_count": null,
   "metadata": {},
   "outputs": [],
   "source": [
    "#temp =pd.DataFrame(data=encoded_cat.toarray(),columns=col_name)"
   ]
  },
  {
   "cell_type": "code",
   "execution_count": null,
   "metadata": {},
   "outputs": [],
   "source": [
    "pd.options.display.max_rows = None"
   ]
  },
  {
   "cell_type": "code",
   "execution_count": null,
   "metadata": {},
   "outputs": [],
   "source": [
    "'''import bisect\n",
    "le_classes = l_encode.classes_.tolist()\n",
    "bisect.insort_left(le_classes, 'unknown')\n",
    "l_encode.classes_ = le_classes'''"
   ]
  },
  {
   "cell_type": "code",
   "execution_count": null,
   "metadata": {},
   "outputs": [],
   "source": [
    "'''test[test['CITY_2'].map(lambda x: False if x  in city_encode.classes_ else True)]'''"
   ]
  },
  {
   "cell_type": "code",
   "execution_count": null,
   "metadata": {},
   "outputs": [],
   "source": [
    "#test['CITY_2'] = test['CITY_2'].map(lambda x : 'unknown' if x not in l_encode.classes_ else x)"
   ]
  },
  {
   "cell_type": "code",
   "execution_count": null,
   "metadata": {},
   "outputs": [],
   "source": [
    "#test.iloc[2274,-2] = 'Ravapar'"
   ]
  },
  {
   "cell_type": "code",
   "execution_count": null,
   "metadata": {},
   "outputs": [],
   "source": [
    "#test['IN_CITY'].isna().sum()"
   ]
  },
  {
   "cell_type": "code",
   "execution_count": null,
   "metadata": {},
   "outputs": [],
   "source": [
    "test.head()"
   ]
  },
  {
   "cell_type": "code",
   "execution_count": null,
   "metadata": {},
   "outputs": [],
   "source": [
    "test[(test.CITY_2 == 190)]"
   ]
  },
  {
   "cell_type": "code",
   "execution_count": null,
   "metadata": {},
   "outputs": [],
   "source": [
    "test['LONGITUDE'] = np.log(test['LONGITUDE'])\n",
    "final_test = test.copy()"
   ]
  },
  {
   "cell_type": "code",
   "execution_count": null,
   "metadata": {},
   "outputs": [],
   "source": [
    "#final_test = test.merge(temp,on=test.index).copy()"
   ]
  },
  {
   "cell_type": "code",
   "execution_count": null,
   "metadata": {},
   "outputs": [],
   "source": [
    "#final_test = final_test.drop(['key_0','POSTED_BY','CITY_2','ZONE','UNDER_CONSTRUCTION','ZONE_0', 'ZONE_1', 'ZONE_2', 'ZONE_3',\n",
    "     #  'ZONE_4', 'ZONE_5', 'ZONE_6', 'ZONE_7', 'ZONE_8','POSTED_BY_Builder','CITY_2_Agra'],axis=1)"
   ]
  },
  {
   "cell_type": "code",
   "execution_count": null,
   "metadata": {},
   "outputs": [],
   "source": [
    "final_test.shape"
   ]
  },
  {
   "cell_type": "code",
   "execution_count": null,
   "metadata": {},
   "outputs": [],
   "source": [
    "final_test.head()"
   ]
  },
  {
   "cell_type": "code",
   "execution_count": null,
   "metadata": {},
   "outputs": [],
   "source": [
    "final_test['TARGET(PRICE_IN_LACS)'] = np.exp(score.predict(final_test))"
   ]
  },
  {
   "cell_type": "code",
   "execution_count": null,
   "metadata": {},
   "outputs": [],
   "source": [
    "final_test['TARGET(PRICE_IN_LACS)']"
   ]
  },
  {
   "cell_type": "code",
   "execution_count": null,
   "metadata": {},
   "outputs": [],
   "source": [
    "final_test['TARGET(PRICE_IN_LACS)'].to_csv('Submission 15.csv',index=False)"
   ]
  },
  {
   "cell_type": "code",
   "execution_count": null,
   "metadata": {},
   "outputs": [],
   "source": [
    "!pip install graphviz"
   ]
  },
  {
   "cell_type": "code",
   "execution_count": null,
   "metadata": {},
   "outputs": [],
   "source": [
    "import os\n",
    "os.environ[\"PATH\"] += os.pathsep + 'D:\\\\Downloads\\\\Chrome\\\\graphviz-2.44.1-win32\\\\Graphviz\\\\bin\\\\'"
   ]
  },
  {
   "cell_type": "code",
   "execution_count": null,
   "metadata": {},
   "outputs": [],
   "source": [
    "from graphviz import Source"
   ]
  },
  {
   "cell_type": "code",
   "execution_count": null,
   "metadata": {},
   "outputs": [],
   "source": [
    "fig, ax = plt.subplots(figsize=(30, 30))\n",
    "plot_tree(reg,num_trees=5,ax=ax)"
   ]
  },
  {
   "cell_type": "code",
   "execution_count": null,
   "metadata": {},
   "outputs": [],
   "source": []
  }
 ],
 "metadata": {
  "kernelspec": {
   "display_name": "Tensorflow",
   "language": "python",
   "name": "myenv"
  },
  "language_info": {
   "codemirror_mode": {
    "name": "ipython",
    "version": 3
   },
   "file_extension": ".py",
   "mimetype": "text/x-python",
   "name": "python",
   "nbconvert_exporter": "python",
   "pygments_lexer": "ipython3",
   "version": "3.7.7"
  }
 },
 "nbformat": 4,
 "nbformat_minor": 4
}
